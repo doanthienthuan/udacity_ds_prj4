{
  "cells": [
    {
      "cell_type": "markdown",
      "metadata": {
        "id": "2ui2WU4kLfOB"
      },
      "source": [
        "# Sparkify Project Workspace\n",
        "This workspace contains a tiny subset (128MB) of the full dataset available (12GB). Feel free to use this workspace to build your project, or to explore a smaller subset with Spark before deploying your cluster on the cloud. Instructions for setting up your Spark cluster is included in the last lesson of the Extracurricular Spark Course content.\n",
        "\n",
        "You can follow the steps below to guide your data analysis and model building portion of this project."
      ]
    },
    {
      "cell_type": "code",
      "source": [
        "!pip install pyspark"
      ],
      "metadata": {
        "colab": {
          "base_uri": "https://localhost:8080/"
        },
        "id": "50ek_62ILppJ",
        "outputId": "240e3579-c6ef-4053-fa42-5b02679a39cf"
      },
      "execution_count": 5,
      "outputs": [
        {
          "output_type": "stream",
          "name": "stdout",
          "text": [
            "Requirement already satisfied: pyspark in /usr/local/lib/python3.10/dist-packages (3.4.1)\n",
            "Requirement already satisfied: py4j==0.10.9.7 in /usr/local/lib/python3.10/dist-packages (from pyspark) (0.10.9.7)\n"
          ]
        }
      ]
    },
    {
      "cell_type": "code",
      "execution_count": 6,
      "metadata": {
        "id": "itYlif7eLfOE"
      },
      "outputs": [],
      "source": [
        "# import libraries\n",
        "%matplotlib inline\n",
        "import matplotlib.pyplot as plt\n",
        "import seaborn as sns\n",
        "sns.set()\n",
        "import pyspark\n",
        "from pyspark import SparkConf\n",
        "from pyspark.sql import SparkSession\n",
        "from pyspark.sql.functions import udf\n",
        "from pyspark.sql.types import StringType\n",
        "from pyspark.sql.types import IntegerType\n",
        "from pyspark.sql.functions import isnan, count, when, col, desc, udf, col, sort_array, asc, avg\n",
        "from pyspark.sql.functions import sum as Fsum\n",
        "from pyspark.sql.window import Window\n",
        "from pyspark.sql import Row\n",
        "from pyspark.sql import functions as F\n",
        "from pyspark.sql.functions import *\n",
        "\n",
        "from pyspark.ml import Pipeline\n",
        "from pyspark.ml.classification import LogisticRegression, RandomForestClassifier, GBTClassifier, LinearSVC, NaiveBayes\n",
        "from pyspark.ml.evaluation import MulticlassClassificationEvaluator\n",
        "from pyspark.ml.feature import CountVectorizer, IDF, PCA, RegexTokenizer, VectorAssembler, Normalizer, StandardScaler\n",
        "from pyspark.ml.regression import LinearRegression\n",
        "from pyspark.ml.tuning import CrossValidator, ParamGridBuilder\n",
        "\n",
        "import datetime\n",
        "import time\n",
        "\n",
        "import pandas as pd\n",
        "import numpy as np\n",
        "import re\n"
      ]
    },
    {
      "cell_type": "code",
      "execution_count": 7,
      "metadata": {
        "id": "hpmCqsS3LfOG"
      },
      "outputs": [],
      "source": [
        "# create a Spark session\n",
        "spark = SparkSession \\\n",
        "    .builder \\\n",
        "    .appName(\"Udacity Capstone Project\") \\\n",
        "    .getOrCreate()"
      ]
    },
    {
      "cell_type": "markdown",
      "metadata": {
        "id": "xotL4bMULfOG"
      },
      "source": [
        "# Load and Clean Dataset\n",
        "In this workspace, the mini-dataset file is `mini_sparkify_event_data.json`. Load and clean the dataset, checking for invalid or missing data - for example, records without userids or sessionids."
      ]
    },
    {
      "cell_type": "markdown",
      "metadata": {
        "id": "4zbmV8ekLfOH"
      },
      "source": [
        "### Loading dataset"
      ]
    },
    {
      "cell_type": "code",
      "execution_count": 8,
      "metadata": {
        "id": "txU7CSAPLfOH"
      },
      "outputs": [],
      "source": [
        "# load dataset\n",
        "df = spark.read.json(\"mini_sparkify_event_data.json\")"
      ]
    },
    {
      "cell_type": "code",
      "execution_count": 9,
      "metadata": {
        "colab": {
          "base_uri": "https://localhost:8080/"
        },
        "id": "gCaTd4hHLfOH",
        "outputId": "d96364f3-8a02-4dc5-c689-16536f1fa413"
      },
      "outputs": [
        {
          "output_type": "stream",
          "name": "stdout",
          "text": [
            "root\n",
            " |-- artist: string (nullable = true)\n",
            " |-- auth: string (nullable = true)\n",
            " |-- firstName: string (nullable = true)\n",
            " |-- gender: string (nullable = true)\n",
            " |-- itemInSession: long (nullable = true)\n",
            " |-- lastName: string (nullable = true)\n",
            " |-- length: double (nullable = true)\n",
            " |-- level: string (nullable = true)\n",
            " |-- location: string (nullable = true)\n",
            " |-- method: string (nullable = true)\n",
            " |-- page: string (nullable = true)\n",
            " |-- registration: long (nullable = true)\n",
            " |-- sessionId: long (nullable = true)\n",
            " |-- song: string (nullable = true)\n",
            " |-- status: long (nullable = true)\n",
            " |-- ts: long (nullable = true)\n",
            " |-- userAgent: string (nullable = true)\n",
            " |-- userId: string (nullable = true)\n",
            "\n"
          ]
        }
      ],
      "source": [
        "# Schema of dataset\n",
        "df.printSchema()"
      ]
    },
    {
      "cell_type": "code",
      "execution_count": 10,
      "metadata": {
        "colab": {
          "base_uri": "https://localhost:8080/"
        },
        "id": "ELjXHbEALfOI",
        "outputId": "07988bb6-70b4-4037-b661-dfade4544081"
      },
      "outputs": [
        {
          "output_type": "execute_result",
          "data": {
            "text/plain": [
              "[Row(artist='Martha Tilston', auth='Logged In', firstName='Colin', gender='M', itemInSession=50, lastName='Freeman', length=277.89016, level='paid', location='Bakersfield, CA', method='PUT', page='NextSong', registration=1538173362000, sessionId=29, song='Rockpools', status=200, ts=1538352117000, userAgent='Mozilla/5.0 (Windows NT 6.1; WOW64; rv:31.0) Gecko/20100101 Firefox/31.0', userId='30'),\n",
              " Row(artist='Five Iron Frenzy', auth='Logged In', firstName='Micah', gender='M', itemInSession=79, lastName='Long', length=236.09424, level='free', location='Boston-Cambridge-Newton, MA-NH', method='PUT', page='NextSong', registration=1538331630000, sessionId=8, song='Canada', status=200, ts=1538352180000, userAgent='\"Mozilla/5.0 (Windows NT 6.1; WOW64) AppleWebKit/537.36 (KHTML, like Gecko) Chrome/37.0.2062.103 Safari/537.36\"', userId='9'),\n",
              " Row(artist='Adam Lambert', auth='Logged In', firstName='Colin', gender='M', itemInSession=51, lastName='Freeman', length=282.8273, level='paid', location='Bakersfield, CA', method='PUT', page='NextSong', registration=1538173362000, sessionId=29, song='Time For Miracles', status=200, ts=1538352394000, userAgent='Mozilla/5.0 (Windows NT 6.1; WOW64; rv:31.0) Gecko/20100101 Firefox/31.0', userId='30'),\n",
              " Row(artist='Enigma', auth='Logged In', firstName='Micah', gender='M', itemInSession=80, lastName='Long', length=262.71302, level='free', location='Boston-Cambridge-Newton, MA-NH', method='PUT', page='NextSong', registration=1538331630000, sessionId=8, song='Knocking On Forbidden Doors', status=200, ts=1538352416000, userAgent='\"Mozilla/5.0 (Windows NT 6.1; WOW64) AppleWebKit/537.36 (KHTML, like Gecko) Chrome/37.0.2062.103 Safari/537.36\"', userId='9'),\n",
              " Row(artist='Daft Punk', auth='Logged In', firstName='Colin', gender='M', itemInSession=52, lastName='Freeman', length=223.60771, level='paid', location='Bakersfield, CA', method='PUT', page='NextSong', registration=1538173362000, sessionId=29, song='Harder Better Faster Stronger', status=200, ts=1538352676000, userAgent='Mozilla/5.0 (Windows NT 6.1; WOW64; rv:31.0) Gecko/20100101 Firefox/31.0', userId='30')]"
            ]
          },
          "metadata": {},
          "execution_count": 10
        }
      ],
      "source": [
        "# show first 5 rows\n",
        "df.head(5)"
      ]
    },
    {
      "cell_type": "code",
      "execution_count": 11,
      "metadata": {
        "colab": {
          "base_uri": "https://localhost:8080/"
        },
        "id": "u7RUSki6LfOI",
        "outputId": "863fe5a2-0e64-441e-91b0-66d594c38368"
      },
      "outputs": [
        {
          "output_type": "execute_result",
          "data": {
            "text/plain": [
              "84595"
            ]
          },
          "metadata": {},
          "execution_count": 11
        }
      ],
      "source": [
        "#size of dataframe\n",
        "df.count()"
      ]
    },
    {
      "cell_type": "code",
      "execution_count": 12,
      "metadata": {
        "colab": {
          "base_uri": "https://localhost:8080/"
        },
        "id": "SHOP2Lj-LfOJ",
        "outputId": "f5ba97a6-5907-4be0-8055-280731d33642"
      },
      "outputs": [
        {
          "output_type": "execute_result",
          "data": {
            "text/plain": [
              "18"
            ]
          },
          "metadata": {},
          "execution_count": 12
        }
      ],
      "source": [
        "len(df.columns)"
      ]
    },
    {
      "cell_type": "code",
      "execution_count": 13,
      "metadata": {
        "colab": {
          "base_uri": "https://localhost:8080/"
        },
        "id": "jJIVhzZgLfOJ",
        "outputId": "3ca80479-b37f-4b95-8bb4-7a78adfecaff"
      },
      "outputs": [
        {
          "output_type": "execute_result",
          "data": {
            "text/plain": [
              "DataFrame[summary: string, artist: string, auth: string, firstName: string, gender: string, itemInSession: string, lastName: string, length: string, level: string, location: string, method: string, page: string, registration: string, sessionId: string, song: string, status: string, ts: string, userAgent: string, userId: string]"
            ]
          },
          "metadata": {},
          "execution_count": 13
        }
      ],
      "source": [
        "df.describe()"
      ]
    },
    {
      "cell_type": "markdown",
      "metadata": {
        "id": "krkwqxuiLfOJ"
      },
      "source": [
        "**Sumary of the dataset**\n",
        "- There are total 286500 rows and 18 columns before clean\n",
        "- `df.printSchema()` show all columns name and its data type => data type of all columns are looking good so we don't have to make changes in this dataframe\n",
        "- In order to understand the data, here is one example in `df.head(5)`:   **(artist='Martha Tilston', auth='Logged In', firstName='Colin', gender='M', itemInSession=50, lastName='Freeman', length=277.89016, level='paid', location='Bakersfield, CA', method='PUT', page='NextSong', registration=1538173362000, sessionId=29, song='Rockpools', status=200, ts=1538352117000, userAgent='Mozilla/5.0 (Windows NT 6.1; WOW64; rv:31.0) Gecko/20100101 Firefox/31.0', userId='30')**"
      ]
    },
    {
      "cell_type": "markdown",
      "metadata": {
        "id": "dbP7vxC0LfOJ"
      },
      "source": [
        "### Cleaning"
      ]
    },
    {
      "cell_type": "markdown",
      "metadata": {
        "id": "qaQNO2yELfOJ"
      },
      "source": [
        "#### 1/ Remove Rows with Missing Values\n",
        "\n",
        "Initially, we will eliminate any rows that contain missing values in the 'userid' or 'sessionid' columns."
      ]
    },
    {
      "cell_type": "code",
      "execution_count": 14,
      "metadata": {
        "id": "QltwvEnsLfOL"
      },
      "outputs": [],
      "source": [
        "# Drop rows with missing values in 'userId' or 'sessionId'\n",
        "df = df.dropna(how='any', subset=['userId', 'sessionId'])"
      ]
    },
    {
      "cell_type": "code",
      "execution_count": 15,
      "metadata": {
        "colab": {
          "base_uri": "https://localhost:8080/"
        },
        "id": "19S6cainLfOM",
        "outputId": "bfb1778c-8ec1-47b3-c4e9-cdbdde4dd07c"
      },
      "outputs": [
        {
          "output_type": "execute_result",
          "data": {
            "text/plain": [
              "84595"
            ]
          },
          "metadata": {},
          "execution_count": 15
        }
      ],
      "source": [
        "df.count()"
      ]
    },
    {
      "cell_type": "markdown",
      "metadata": {
        "id": "Or3RrlX6LfOM"
      },
      "source": [
        "As we can see from the above, the row count is still the same at 286500. Let's deep dive into these 2 columns"
      ]
    },
    {
      "cell_type": "code",
      "execution_count": 16,
      "metadata": {
        "colab": {
          "base_uri": "https://localhost:8080/"
        },
        "id": "8g627QMxLfOM",
        "outputId": "03474dd0-7c90-47df-8c99-aebe5d51dd4a"
      },
      "outputs": [
        {
          "output_type": "stream",
          "name": "stdout",
          "text": [
            "+------+\n",
            "|userId|\n",
            "+------+\n",
            "|      |\n",
            "|    10|\n",
            "|   100|\n",
            "|   101|\n",
            "|   102|\n",
            "|   103|\n",
            "|   104|\n",
            "|   105|\n",
            "|   106|\n",
            "|   107|\n",
            "|   108|\n",
            "|   109|\n",
            "|    11|\n",
            "|   110|\n",
            "|   111|\n",
            "|   112|\n",
            "|   113|\n",
            "|   114|\n",
            "|   115|\n",
            "|   117|\n",
            "+------+\n",
            "only showing top 20 rows\n",
            "\n"
          ]
        }
      ],
      "source": [
        "# drop userid duplicates\n",
        "df.select(\"userId\").dropDuplicates().distinct().sort(\"userId\").show()"
      ]
    },
    {
      "cell_type": "markdown",
      "metadata": {
        "id": "iKEiEDw-LfON"
      },
      "source": [
        "We can see that there are empty string in column \"userId\". Let's see if we have the same problem in column \"sessionId\""
      ]
    },
    {
      "cell_type": "code",
      "execution_count": 17,
      "metadata": {
        "colab": {
          "base_uri": "https://localhost:8080/"
        },
        "id": "dTvvuPVALfON",
        "outputId": "a4682d54-34eb-4a56-bd2f-9a470fb216fa"
      },
      "outputs": [
        {
          "output_type": "stream",
          "name": "stdout",
          "text": [
            "+---------+\n",
            "|sessionId|\n",
            "+---------+\n",
            "|        1|\n",
            "|        5|\n",
            "|        8|\n",
            "|        9|\n",
            "|       10|\n",
            "|       11|\n",
            "|       23|\n",
            "|       26|\n",
            "|       27|\n",
            "|       28|\n",
            "|       29|\n",
            "|       33|\n",
            "|       35|\n",
            "|       36|\n",
            "|       39|\n",
            "|       42|\n",
            "|       44|\n",
            "|       46|\n",
            "|       52|\n",
            "|       53|\n",
            "+---------+\n",
            "only showing top 20 rows\n",
            "\n"
          ]
        }
      ],
      "source": [
        "# drop sessionId duplicates\n",
        "df.select(\"sessionId\").dropDuplicates().distinct().sort(\"sessionId\").show()"
      ]
    },
    {
      "cell_type": "markdown",
      "metadata": {
        "id": "AxCxWMqtLfON"
      },
      "source": [
        "We don't have that problem in column sessionId. Let's apply some transformation to fix issue in column \"userId\""
      ]
    },
    {
      "cell_type": "code",
      "execution_count": 18,
      "metadata": {
        "id": "KDuwOaTYLfON"
      },
      "outputs": [],
      "source": [
        "# filter out all rows that have userId is empty string\n",
        "df = df.filter(df[\"userId\"] != \"\")"
      ]
    },
    {
      "cell_type": "code",
      "execution_count": 19,
      "metadata": {
        "colab": {
          "base_uri": "https://localhost:8080/"
        },
        "id": "M6UnvNTnLfOO",
        "outputId": "4381f400-68a1-48a0-fbda-1a0e48ee083e"
      },
      "outputs": [
        {
          "output_type": "execute_result",
          "data": {
            "text/plain": [
              "82076"
            ]
          },
          "metadata": {},
          "execution_count": 19
        }
      ],
      "source": [
        "df.count()"
      ]
    },
    {
      "cell_type": "markdown",
      "metadata": {
        "id": "wjQQqUpDLfOO"
      },
      "source": [
        "The new dataframe will have 278154 rows after cleaning steps"
      ]
    },
    {
      "cell_type": "code",
      "execution_count": 20,
      "metadata": {
        "colab": {
          "base_uri": "https://localhost:8080/",
          "height": 1000
        },
        "id": "u7NELdruLfOO",
        "outputId": "7c8d001a-f0c0-4b7a-8aee-a69be59d0e7a"
      },
      "outputs": [
        {
          "output_type": "execute_result",
          "data": {
            "text/plain": [
              "                 artist       auth firstName gender  itemInSession  lastName  \\\n",
              "0        Martha Tilston  Logged In     Colin      M             50   Freeman   \n",
              "1      Five Iron Frenzy  Logged In     Micah      M             79      Long   \n",
              "2          Adam Lambert  Logged In     Colin      M             51   Freeman   \n",
              "3                Enigma  Logged In     Micah      M             80      Long   \n",
              "4             Daft Punk  Logged In     Colin      M             52   Freeman   \n",
              "...                 ...        ...       ...    ...            ...       ...   \n",
              "82071              None  Logged In      Lina      F              2   Francis   \n",
              "82072   The Temper Trap  Logged In    Samuel      M            286      Wood   \n",
              "82073         Shy Child  Logged In    Sawyer      M             11    Larson   \n",
              "82074   Cradle Of Filth  Logged In    Payton      F             68  Campbell   \n",
              "82075  Enrique Iglesias  Logged In     Casey      F             19   Ramirez   \n",
              "\n",
              "          length level                               location method  \\\n",
              "0      277.89016  paid                        Bakersfield, CA    PUT   \n",
              "1      236.09424  free         Boston-Cambridge-Newton, MA-NH    PUT   \n",
              "2      282.82730  paid                        Bakersfield, CA    PUT   \n",
              "3      262.71302  free         Boston-Cambridge-Newton, MA-NH    PUT   \n",
              "4      223.60771  paid                        Bakersfield, CA    PUT   \n",
              "...          ...   ...                                    ...    ...   \n",
              "82071        NaN  paid     Los Angeles-Long Beach-Anaheim, CA    PUT   \n",
              "82072  358.68689  paid  New York-Newark-Jersey City, NY-NJ-PA    PUT   \n",
              "82073  203.33669  paid   Houston-The Woodlands-Sugar Land, TX    PUT   \n",
              "82074  371.66975  paid     Los Angeles-Long Beach-Anaheim, CA    PUT   \n",
              "82075  213.02812  paid                       St. Louis, MO-IL    PUT   \n",
              "\n",
              "           page   registration  sessionId                           song  \\\n",
              "0      NextSong  1538173362000         29                      Rockpools   \n",
              "1      NextSong  1538331630000          8                         Canada   \n",
              "2      NextSong  1538173362000         29              Time For Miracles   \n",
              "3      NextSong  1538331630000          8    Knocking On Forbidden Doors   \n",
              "4      NextSong  1538173362000         29  Harder Better Faster Stronger   \n",
              "...         ...            ...        ...                            ...   \n",
              "82071    Logout  1536948181000       1206                           None   \n",
              "82072  NextSong  1537865819000       1158                     Soldier On   \n",
              "82073  NextSong  1538069638000       1139                      Kick Drum   \n",
              "82074  NextSong  1529027541000       1235        Better To Reign In Hell   \n",
              "82075  NextSong  1534768517000       1155                       Bailamos   \n",
              "\n",
              "       status             ts  \\\n",
              "0         200  1538352117000   \n",
              "1         200  1538352180000   \n",
              "2         200  1538352394000   \n",
              "3         200  1538352416000   \n",
              "4         200  1538352676000   \n",
              "...       ...            ...   \n",
              "82071     307  1540458742000   \n",
              "82072     200  1540458749000   \n",
              "82073     200  1540458773000   \n",
              "82074     200  1540458794000   \n",
              "82075     200  1540458806000   \n",
              "\n",
              "                                               userAgent userId  \n",
              "0      Mozilla/5.0 (Windows NT 6.1; WOW64; rv:31.0) G...     30  \n",
              "1      \"Mozilla/5.0 (Windows NT 6.1; WOW64) AppleWebK...      9  \n",
              "2      Mozilla/5.0 (Windows NT 6.1; WOW64; rv:31.0) G...     30  \n",
              "3      \"Mozilla/5.0 (Windows NT 6.1; WOW64) AppleWebK...      9  \n",
              "4      Mozilla/5.0 (Windows NT 6.1; WOW64; rv:31.0) G...     30  \n",
              "...                                                  ...    ...  \n",
              "82071  Mozilla/5.0 (Windows NT 6.1; WOW64; rv:31.0) G...    115  \n",
              "82072  \"Mozilla/5.0 (iPad; CPU OS 7_1_1 like Mac OS X...    138  \n",
              "82073  \"Mozilla/5.0 (Macintosh; Intel Mac OS X 10_9_4...     98  \n",
              "82074  \"Mozilla/5.0 (Windows NT 6.1; WOW64) AppleWebK...     39  \n",
              "82075  Mozilla/5.0 (Windows NT 6.1; WOW64; rv:31.0) G...    109  \n",
              "\n",
              "[82076 rows x 18 columns]"
            ],
            "text/html": [
              "\n",
              "  <div id=\"df-d3ef7805-2803-4882-9ed8-bea907a03fb6\" class=\"colab-df-container\">\n",
              "    <div>\n",
              "<style scoped>\n",
              "    .dataframe tbody tr th:only-of-type {\n",
              "        vertical-align: middle;\n",
              "    }\n",
              "\n",
              "    .dataframe tbody tr th {\n",
              "        vertical-align: top;\n",
              "    }\n",
              "\n",
              "    .dataframe thead th {\n",
              "        text-align: right;\n",
              "    }\n",
              "</style>\n",
              "<table border=\"1\" class=\"dataframe\">\n",
              "  <thead>\n",
              "    <tr style=\"text-align: right;\">\n",
              "      <th></th>\n",
              "      <th>artist</th>\n",
              "      <th>auth</th>\n",
              "      <th>firstName</th>\n",
              "      <th>gender</th>\n",
              "      <th>itemInSession</th>\n",
              "      <th>lastName</th>\n",
              "      <th>length</th>\n",
              "      <th>level</th>\n",
              "      <th>location</th>\n",
              "      <th>method</th>\n",
              "      <th>page</th>\n",
              "      <th>registration</th>\n",
              "      <th>sessionId</th>\n",
              "      <th>song</th>\n",
              "      <th>status</th>\n",
              "      <th>ts</th>\n",
              "      <th>userAgent</th>\n",
              "      <th>userId</th>\n",
              "    </tr>\n",
              "  </thead>\n",
              "  <tbody>\n",
              "    <tr>\n",
              "      <th>0</th>\n",
              "      <td>Martha Tilston</td>\n",
              "      <td>Logged In</td>\n",
              "      <td>Colin</td>\n",
              "      <td>M</td>\n",
              "      <td>50</td>\n",
              "      <td>Freeman</td>\n",
              "      <td>277.89016</td>\n",
              "      <td>paid</td>\n",
              "      <td>Bakersfield, CA</td>\n",
              "      <td>PUT</td>\n",
              "      <td>NextSong</td>\n",
              "      <td>1538173362000</td>\n",
              "      <td>29</td>\n",
              "      <td>Rockpools</td>\n",
              "      <td>200</td>\n",
              "      <td>1538352117000</td>\n",
              "      <td>Mozilla/5.0 (Windows NT 6.1; WOW64; rv:31.0) G...</td>\n",
              "      <td>30</td>\n",
              "    </tr>\n",
              "    <tr>\n",
              "      <th>1</th>\n",
              "      <td>Five Iron Frenzy</td>\n",
              "      <td>Logged In</td>\n",
              "      <td>Micah</td>\n",
              "      <td>M</td>\n",
              "      <td>79</td>\n",
              "      <td>Long</td>\n",
              "      <td>236.09424</td>\n",
              "      <td>free</td>\n",
              "      <td>Boston-Cambridge-Newton, MA-NH</td>\n",
              "      <td>PUT</td>\n",
              "      <td>NextSong</td>\n",
              "      <td>1538331630000</td>\n",
              "      <td>8</td>\n",
              "      <td>Canada</td>\n",
              "      <td>200</td>\n",
              "      <td>1538352180000</td>\n",
              "      <td>\"Mozilla/5.0 (Windows NT 6.1; WOW64) AppleWebK...</td>\n",
              "      <td>9</td>\n",
              "    </tr>\n",
              "    <tr>\n",
              "      <th>2</th>\n",
              "      <td>Adam Lambert</td>\n",
              "      <td>Logged In</td>\n",
              "      <td>Colin</td>\n",
              "      <td>M</td>\n",
              "      <td>51</td>\n",
              "      <td>Freeman</td>\n",
              "      <td>282.82730</td>\n",
              "      <td>paid</td>\n",
              "      <td>Bakersfield, CA</td>\n",
              "      <td>PUT</td>\n",
              "      <td>NextSong</td>\n",
              "      <td>1538173362000</td>\n",
              "      <td>29</td>\n",
              "      <td>Time For Miracles</td>\n",
              "      <td>200</td>\n",
              "      <td>1538352394000</td>\n",
              "      <td>Mozilla/5.0 (Windows NT 6.1; WOW64; rv:31.0) G...</td>\n",
              "      <td>30</td>\n",
              "    </tr>\n",
              "    <tr>\n",
              "      <th>3</th>\n",
              "      <td>Enigma</td>\n",
              "      <td>Logged In</td>\n",
              "      <td>Micah</td>\n",
              "      <td>M</td>\n",
              "      <td>80</td>\n",
              "      <td>Long</td>\n",
              "      <td>262.71302</td>\n",
              "      <td>free</td>\n",
              "      <td>Boston-Cambridge-Newton, MA-NH</td>\n",
              "      <td>PUT</td>\n",
              "      <td>NextSong</td>\n",
              "      <td>1538331630000</td>\n",
              "      <td>8</td>\n",
              "      <td>Knocking On Forbidden Doors</td>\n",
              "      <td>200</td>\n",
              "      <td>1538352416000</td>\n",
              "      <td>\"Mozilla/5.0 (Windows NT 6.1; WOW64) AppleWebK...</td>\n",
              "      <td>9</td>\n",
              "    </tr>\n",
              "    <tr>\n",
              "      <th>4</th>\n",
              "      <td>Daft Punk</td>\n",
              "      <td>Logged In</td>\n",
              "      <td>Colin</td>\n",
              "      <td>M</td>\n",
              "      <td>52</td>\n",
              "      <td>Freeman</td>\n",
              "      <td>223.60771</td>\n",
              "      <td>paid</td>\n",
              "      <td>Bakersfield, CA</td>\n",
              "      <td>PUT</td>\n",
              "      <td>NextSong</td>\n",
              "      <td>1538173362000</td>\n",
              "      <td>29</td>\n",
              "      <td>Harder Better Faster Stronger</td>\n",
              "      <td>200</td>\n",
              "      <td>1538352676000</td>\n",
              "      <td>Mozilla/5.0 (Windows NT 6.1; WOW64; rv:31.0) G...</td>\n",
              "      <td>30</td>\n",
              "    </tr>\n",
              "    <tr>\n",
              "      <th>...</th>\n",
              "      <td>...</td>\n",
              "      <td>...</td>\n",
              "      <td>...</td>\n",
              "      <td>...</td>\n",
              "      <td>...</td>\n",
              "      <td>...</td>\n",
              "      <td>...</td>\n",
              "      <td>...</td>\n",
              "      <td>...</td>\n",
              "      <td>...</td>\n",
              "      <td>...</td>\n",
              "      <td>...</td>\n",
              "      <td>...</td>\n",
              "      <td>...</td>\n",
              "      <td>...</td>\n",
              "      <td>...</td>\n",
              "      <td>...</td>\n",
              "      <td>...</td>\n",
              "    </tr>\n",
              "    <tr>\n",
              "      <th>82071</th>\n",
              "      <td>None</td>\n",
              "      <td>Logged In</td>\n",
              "      <td>Lina</td>\n",
              "      <td>F</td>\n",
              "      <td>2</td>\n",
              "      <td>Francis</td>\n",
              "      <td>NaN</td>\n",
              "      <td>paid</td>\n",
              "      <td>Los Angeles-Long Beach-Anaheim, CA</td>\n",
              "      <td>PUT</td>\n",
              "      <td>Logout</td>\n",
              "      <td>1536948181000</td>\n",
              "      <td>1206</td>\n",
              "      <td>None</td>\n",
              "      <td>307</td>\n",
              "      <td>1540458742000</td>\n",
              "      <td>Mozilla/5.0 (Windows NT 6.1; WOW64; rv:31.0) G...</td>\n",
              "      <td>115</td>\n",
              "    </tr>\n",
              "    <tr>\n",
              "      <th>82072</th>\n",
              "      <td>The Temper Trap</td>\n",
              "      <td>Logged In</td>\n",
              "      <td>Samuel</td>\n",
              "      <td>M</td>\n",
              "      <td>286</td>\n",
              "      <td>Wood</td>\n",
              "      <td>358.68689</td>\n",
              "      <td>paid</td>\n",
              "      <td>New York-Newark-Jersey City, NY-NJ-PA</td>\n",
              "      <td>PUT</td>\n",
              "      <td>NextSong</td>\n",
              "      <td>1537865819000</td>\n",
              "      <td>1158</td>\n",
              "      <td>Soldier On</td>\n",
              "      <td>200</td>\n",
              "      <td>1540458749000</td>\n",
              "      <td>\"Mozilla/5.0 (iPad; CPU OS 7_1_1 like Mac OS X...</td>\n",
              "      <td>138</td>\n",
              "    </tr>\n",
              "    <tr>\n",
              "      <th>82073</th>\n",
              "      <td>Shy Child</td>\n",
              "      <td>Logged In</td>\n",
              "      <td>Sawyer</td>\n",
              "      <td>M</td>\n",
              "      <td>11</td>\n",
              "      <td>Larson</td>\n",
              "      <td>203.33669</td>\n",
              "      <td>paid</td>\n",
              "      <td>Houston-The Woodlands-Sugar Land, TX</td>\n",
              "      <td>PUT</td>\n",
              "      <td>NextSong</td>\n",
              "      <td>1538069638000</td>\n",
              "      <td>1139</td>\n",
              "      <td>Kick Drum</td>\n",
              "      <td>200</td>\n",
              "      <td>1540458773000</td>\n",
              "      <td>\"Mozilla/5.0 (Macintosh; Intel Mac OS X 10_9_4...</td>\n",
              "      <td>98</td>\n",
              "    </tr>\n",
              "    <tr>\n",
              "      <th>82074</th>\n",
              "      <td>Cradle Of Filth</td>\n",
              "      <td>Logged In</td>\n",
              "      <td>Payton</td>\n",
              "      <td>F</td>\n",
              "      <td>68</td>\n",
              "      <td>Campbell</td>\n",
              "      <td>371.66975</td>\n",
              "      <td>paid</td>\n",
              "      <td>Los Angeles-Long Beach-Anaheim, CA</td>\n",
              "      <td>PUT</td>\n",
              "      <td>NextSong</td>\n",
              "      <td>1529027541000</td>\n",
              "      <td>1235</td>\n",
              "      <td>Better To Reign In Hell</td>\n",
              "      <td>200</td>\n",
              "      <td>1540458794000</td>\n",
              "      <td>\"Mozilla/5.0 (Windows NT 6.1; WOW64) AppleWebK...</td>\n",
              "      <td>39</td>\n",
              "    </tr>\n",
              "    <tr>\n",
              "      <th>82075</th>\n",
              "      <td>Enrique Iglesias</td>\n",
              "      <td>Logged In</td>\n",
              "      <td>Casey</td>\n",
              "      <td>F</td>\n",
              "      <td>19</td>\n",
              "      <td>Ramirez</td>\n",
              "      <td>213.02812</td>\n",
              "      <td>paid</td>\n",
              "      <td>St. Louis, MO-IL</td>\n",
              "      <td>PUT</td>\n",
              "      <td>NextSong</td>\n",
              "      <td>1534768517000</td>\n",
              "      <td>1155</td>\n",
              "      <td>Bailamos</td>\n",
              "      <td>200</td>\n",
              "      <td>1540458806000</td>\n",
              "      <td>Mozilla/5.0 (Windows NT 6.1; WOW64; rv:31.0) G...</td>\n",
              "      <td>109</td>\n",
              "    </tr>\n",
              "  </tbody>\n",
              "</table>\n",
              "<p>82076 rows × 18 columns</p>\n",
              "</div>\n",
              "    <div class=\"colab-df-buttons\">\n",
              "\n",
              "  <div class=\"colab-df-container\">\n",
              "    <button class=\"colab-df-convert\" onclick=\"convertToInteractive('df-d3ef7805-2803-4882-9ed8-bea907a03fb6')\"\n",
              "            title=\"Convert this dataframe to an interactive table.\"\n",
              "            style=\"display:none;\">\n",
              "\n",
              "  <svg xmlns=\"http://www.w3.org/2000/svg\" height=\"24px\" viewBox=\"0 -960 960 960\">\n",
              "    <path d=\"M120-120v-720h720v720H120Zm60-500h600v-160H180v160Zm220 220h160v-160H400v160Zm0 220h160v-160H400v160ZM180-400h160v-160H180v160Zm440 0h160v-160H620v160ZM180-180h160v-160H180v160Zm440 0h160v-160H620v160Z\"/>\n",
              "  </svg>\n",
              "    </button>\n",
              "\n",
              "  <style>\n",
              "    .colab-df-container {\n",
              "      display:flex;\n",
              "      gap: 12px;\n",
              "    }\n",
              "\n",
              "    .colab-df-convert {\n",
              "      background-color: #E8F0FE;\n",
              "      border: none;\n",
              "      border-radius: 50%;\n",
              "      cursor: pointer;\n",
              "      display: none;\n",
              "      fill: #1967D2;\n",
              "      height: 32px;\n",
              "      padding: 0 0 0 0;\n",
              "      width: 32px;\n",
              "    }\n",
              "\n",
              "    .colab-df-convert:hover {\n",
              "      background-color: #E2EBFA;\n",
              "      box-shadow: 0px 1px 2px rgba(60, 64, 67, 0.3), 0px 1px 3px 1px rgba(60, 64, 67, 0.15);\n",
              "      fill: #174EA6;\n",
              "    }\n",
              "\n",
              "    .colab-df-buttons div {\n",
              "      margin-bottom: 4px;\n",
              "    }\n",
              "\n",
              "    [theme=dark] .colab-df-convert {\n",
              "      background-color: #3B4455;\n",
              "      fill: #D2E3FC;\n",
              "    }\n",
              "\n",
              "    [theme=dark] .colab-df-convert:hover {\n",
              "      background-color: #434B5C;\n",
              "      box-shadow: 0px 1px 3px 1px rgba(0, 0, 0, 0.15);\n",
              "      filter: drop-shadow(0px 1px 2px rgba(0, 0, 0, 0.3));\n",
              "      fill: #FFFFFF;\n",
              "    }\n",
              "  </style>\n",
              "\n",
              "    <script>\n",
              "      const buttonEl =\n",
              "        document.querySelector('#df-d3ef7805-2803-4882-9ed8-bea907a03fb6 button.colab-df-convert');\n",
              "      buttonEl.style.display =\n",
              "        google.colab.kernel.accessAllowed ? 'block' : 'none';\n",
              "\n",
              "      async function convertToInteractive(key) {\n",
              "        const element = document.querySelector('#df-d3ef7805-2803-4882-9ed8-bea907a03fb6');\n",
              "        const dataTable =\n",
              "          await google.colab.kernel.invokeFunction('convertToInteractive',\n",
              "                                                    [key], {});\n",
              "        if (!dataTable) return;\n",
              "\n",
              "        const docLinkHtml = 'Like what you see? Visit the ' +\n",
              "          '<a target=\"_blank\" href=https://colab.research.google.com/notebooks/data_table.ipynb>data table notebook</a>'\n",
              "          + ' to learn more about interactive tables.';\n",
              "        element.innerHTML = '';\n",
              "        dataTable['output_type'] = 'display_data';\n",
              "        await google.colab.output.renderOutput(dataTable, element);\n",
              "        const docLink = document.createElement('div');\n",
              "        docLink.innerHTML = docLinkHtml;\n",
              "        element.appendChild(docLink);\n",
              "      }\n",
              "    </script>\n",
              "  </div>\n",
              "\n",
              "\n",
              "<div id=\"df-afea770f-8ffa-4041-951c-94d7b6fe2bb7\">\n",
              "  <button class=\"colab-df-quickchart\" onclick=\"quickchart('df-afea770f-8ffa-4041-951c-94d7b6fe2bb7')\"\n",
              "            title=\"Suggest charts.\"\n",
              "            style=\"display:none;\">\n",
              "\n",
              "<svg xmlns=\"http://www.w3.org/2000/svg\" height=\"24px\"viewBox=\"0 0 24 24\"\n",
              "     width=\"24px\">\n",
              "    <g>\n",
              "        <path d=\"M19 3H5c-1.1 0-2 .9-2 2v14c0 1.1.9 2 2 2h14c1.1 0 2-.9 2-2V5c0-1.1-.9-2-2-2zM9 17H7v-7h2v7zm4 0h-2V7h2v10zm4 0h-2v-4h2v4z\"/>\n",
              "    </g>\n",
              "</svg>\n",
              "  </button>\n",
              "\n",
              "<style>\n",
              "  .colab-df-quickchart {\n",
              "      --bg-color: #E8F0FE;\n",
              "      --fill-color: #1967D2;\n",
              "      --hover-bg-color: #E2EBFA;\n",
              "      --hover-fill-color: #174EA6;\n",
              "      --disabled-fill-color: #AAA;\n",
              "      --disabled-bg-color: #DDD;\n",
              "  }\n",
              "\n",
              "  [theme=dark] .colab-df-quickchart {\n",
              "      --bg-color: #3B4455;\n",
              "      --fill-color: #D2E3FC;\n",
              "      --hover-bg-color: #434B5C;\n",
              "      --hover-fill-color: #FFFFFF;\n",
              "      --disabled-bg-color: #3B4455;\n",
              "      --disabled-fill-color: #666;\n",
              "  }\n",
              "\n",
              "  .colab-df-quickchart {\n",
              "    background-color: var(--bg-color);\n",
              "    border: none;\n",
              "    border-radius: 50%;\n",
              "    cursor: pointer;\n",
              "    display: none;\n",
              "    fill: var(--fill-color);\n",
              "    height: 32px;\n",
              "    padding: 0;\n",
              "    width: 32px;\n",
              "  }\n",
              "\n",
              "  .colab-df-quickchart:hover {\n",
              "    background-color: var(--hover-bg-color);\n",
              "    box-shadow: 0 1px 2px rgba(60, 64, 67, 0.3), 0 1px 3px 1px rgba(60, 64, 67, 0.15);\n",
              "    fill: var(--button-hover-fill-color);\n",
              "  }\n",
              "\n",
              "  .colab-df-quickchart-complete:disabled,\n",
              "  .colab-df-quickchart-complete:disabled:hover {\n",
              "    background-color: var(--disabled-bg-color);\n",
              "    fill: var(--disabled-fill-color);\n",
              "    box-shadow: none;\n",
              "  }\n",
              "\n",
              "  .colab-df-spinner {\n",
              "    border: 2px solid var(--fill-color);\n",
              "    border-color: transparent;\n",
              "    border-bottom-color: var(--fill-color);\n",
              "    animation:\n",
              "      spin 1s steps(1) infinite;\n",
              "  }\n",
              "\n",
              "  @keyframes spin {\n",
              "    0% {\n",
              "      border-color: transparent;\n",
              "      border-bottom-color: var(--fill-color);\n",
              "      border-left-color: var(--fill-color);\n",
              "    }\n",
              "    20% {\n",
              "      border-color: transparent;\n",
              "      border-left-color: var(--fill-color);\n",
              "      border-top-color: var(--fill-color);\n",
              "    }\n",
              "    30% {\n",
              "      border-color: transparent;\n",
              "      border-left-color: var(--fill-color);\n",
              "      border-top-color: var(--fill-color);\n",
              "      border-right-color: var(--fill-color);\n",
              "    }\n",
              "    40% {\n",
              "      border-color: transparent;\n",
              "      border-right-color: var(--fill-color);\n",
              "      border-top-color: var(--fill-color);\n",
              "    }\n",
              "    60% {\n",
              "      border-color: transparent;\n",
              "      border-right-color: var(--fill-color);\n",
              "    }\n",
              "    80% {\n",
              "      border-color: transparent;\n",
              "      border-right-color: var(--fill-color);\n",
              "      border-bottom-color: var(--fill-color);\n",
              "    }\n",
              "    90% {\n",
              "      border-color: transparent;\n",
              "      border-bottom-color: var(--fill-color);\n",
              "    }\n",
              "  }\n",
              "</style>\n",
              "\n",
              "  <script>\n",
              "    async function quickchart(key) {\n",
              "      const quickchartButtonEl =\n",
              "        document.querySelector('#' + key + ' button');\n",
              "      quickchartButtonEl.disabled = true;  // To prevent multiple clicks.\n",
              "      quickchartButtonEl.classList.add('colab-df-spinner');\n",
              "      try {\n",
              "        const charts = await google.colab.kernel.invokeFunction(\n",
              "            'suggestCharts', [key], {});\n",
              "      } catch (error) {\n",
              "        console.error('Error during call to suggestCharts:', error);\n",
              "      }\n",
              "      quickchartButtonEl.classList.remove('colab-df-spinner');\n",
              "      quickchartButtonEl.classList.add('colab-df-quickchart-complete');\n",
              "    }\n",
              "    (() => {\n",
              "      let quickchartButtonEl =\n",
              "        document.querySelector('#df-afea770f-8ffa-4041-951c-94d7b6fe2bb7 button');\n",
              "      quickchartButtonEl.style.display =\n",
              "        google.colab.kernel.accessAllowed ? 'block' : 'none';\n",
              "    })();\n",
              "  </script>\n",
              "</div>\n",
              "    </div>\n",
              "  </div>\n"
            ]
          },
          "metadata": {},
          "execution_count": 20
        }
      ],
      "source": [
        "df_pandas = df.toPandas()\n",
        "df_pandas"
      ]
    },
    {
      "cell_type": "code",
      "execution_count": 20,
      "metadata": {
        "id": "-s0dxKMtLfOP"
      },
      "outputs": [],
      "source": []
    },
    {
      "cell_type": "markdown",
      "metadata": {
        "id": "02MkAF--LfOP"
      },
      "source": [
        "# Exploratory Data Analysis\n",
        "When you're working with the full dataset, perform EDA by loading a small subset of the data and doing basic manipulations within Spark. In this workspace, you are already provided a small subset of data you can explore.\n",
        "\n",
        "### Define Churn\n",
        "\n",
        "Once you've done some preliminary analysis, create a column `Churn` to use as the label for your model. I suggest using the `Cancellation Confirmation` events to define your churn, which happen for both paid and free users. As a bonus task, you can also look into the `Downgrade` events.\n",
        "\n",
        "### Explore Data\n",
        "Once you've defined churn, perform some exploratory data analysis to observe the behavior for users who stayed vs users who churned. You can start by exploring aggregates on these two groups of users, observing how much of a specific action they experienced per a certain time unit or number of songs played."
      ]
    },
    {
      "cell_type": "markdown",
      "metadata": {
        "id": "XpUJuVndLfOP"
      },
      "source": [
        "### Identify users who have churned\n",
        "\n",
        "Initially, we will identify users who have churned by filtering for the **Cancellation Confirmation** event under the **page** column."
      ]
    },
    {
      "cell_type": "code",
      "execution_count": 21,
      "metadata": {
        "colab": {
          "base_uri": "https://localhost:8080/"
        },
        "id": "UKLR8pj8LfOP",
        "outputId": "c802ce59-5e6b-4a1a-c29e-ea3751520e87"
      },
      "outputs": [
        {
          "output_type": "stream",
          "name": "stdout",
          "text": [
            "+--------------------+\n",
            "|                page|\n",
            "+--------------------+\n",
            "|              Cancel|\n",
            "|    Submit Downgrade|\n",
            "|         Thumbs Down|\n",
            "|                Home|\n",
            "|           Downgrade|\n",
            "|         Roll Advert|\n",
            "|              Logout|\n",
            "|       Save Settings|\n",
            "|Cancellation Conf...|\n",
            "|               About|\n",
            "|            Settings|\n",
            "|     Add to Playlist|\n",
            "|          Add Friend|\n",
            "|            NextSong|\n",
            "|           Thumbs Up|\n",
            "|                Help|\n",
            "|             Upgrade|\n",
            "|               Error|\n",
            "|      Submit Upgrade|\n",
            "+--------------------+\n",
            "\n"
          ]
        }
      ],
      "source": [
        "# check Cancellation Confirmation page\n",
        "df.select(\"page\").dropDuplicates().show()"
      ]
    },
    {
      "cell_type": "markdown",
      "metadata": {
        "id": "j0WgmLo7LfOQ"
      },
      "source": [
        "As mentioned earlier, the **Cancellation Confirmation** page is where a user is directed after confirming their decision to cancel their service. This event serves as our indicator for identifying churn."
      ]
    },
    {
      "cell_type": "code",
      "execution_count": 22,
      "metadata": {
        "colab": {
          "base_uri": "https://localhost:8080/"
        },
        "id": "YSMd5KM-LfOQ",
        "outputId": "41e12936-b1b6-4d0b-f9d2-79c9a50a8ad2"
      },
      "outputs": [
        {
          "output_type": "execute_result",
          "data": {
            "text/plain": [
              "15"
            ]
          },
          "metadata": {},
          "execution_count": 22
        }
      ],
      "source": [
        "# number of users who churned\n",
        "df.select([\"userId\", \"page\"]).where(df.page == \"Cancellation Confirmation\").count()\n"
      ]
    },
    {
      "cell_type": "code",
      "execution_count": 23,
      "metadata": {
        "colab": {
          "base_uri": "https://localhost:8080/"
        },
        "id": "3E-1z_mSLfOQ",
        "outputId": "f19ba8ba-852d-42d7-82d9-e684eb086335"
      },
      "outputs": [
        {
          "output_type": "execute_result",
          "data": {
            "text/plain": [
              "15"
            ]
          },
          "metadata": {},
          "execution_count": 23
        }
      ],
      "source": [
        "# Count the number of users who churned\n",
        "churned_users_count = df.filter((df.page == \"Cancellation Confirmation\")).select(\"userId\").distinct()\n",
        "churned_users_count.count()"
      ]
    },
    {
      "cell_type": "markdown",
      "metadata": {
        "id": "7lQFKBSwLfOQ"
      },
      "source": [
        "As observed in the previous cell, our dataset contains 52 users who have churned. To examine these users in more detail, we can inspect their user IDs."
      ]
    },
    {
      "cell_type": "code",
      "execution_count": 24,
      "metadata": {
        "colab": {
          "base_uri": "https://localhost:8080/"
        },
        "id": "98CsY40dLfOR",
        "outputId": "49026b23-c2a8-4da5-e2aa-e54e6122095d"
      },
      "outputs": [
        {
          "output_type": "stream",
          "name": "stdout",
          "text": [
            "+------+\n",
            "|userId|\n",
            "+------+\n",
            "|   125|\n",
            "|    18|\n",
            "|    17|\n",
            "|   143|\n",
            "|    32|\n",
            "|   105|\n",
            "|    51|\n",
            "|   101|\n",
            "|    87|\n",
            "|    73|\n",
            "|   122|\n",
            "|    58|\n",
            "|   121|\n",
            "|    12|\n",
            "|   129|\n",
            "+------+\n",
            "\n"
          ]
        }
      ],
      "source": [
        "churned_users_count.show()"
      ]
    },
    {
      "cell_type": "markdown",
      "metadata": {
        "id": "-dWopANyLfOR"
      },
      "source": [
        "Now, we will create a churn flag for users. Users who have churned will be assigned a value of 1, and those who have not churned will receive a 0. This flag will be added as a new column in the dataset, named \"churn\"."
      ]
    },
    {
      "cell_type": "code",
      "execution_count": 25,
      "metadata": {
        "id": "RH_9FYuTLfOR"
      },
      "outputs": [],
      "source": [
        "# Define a User-Defined Function (UDF) to flag churn events\n",
        "churn_event = udf(lambda x: 1 if x == \"Cancellation Confirmation\" else 0, IntegerType())\n",
        "\n",
        "# Add the 'churn' column to the dataset\n",
        "df = df.withColumn(\"churn\", churn_event(df.page))"
      ]
    },
    {
      "cell_type": "code",
      "execution_count": 26,
      "metadata": {
        "colab": {
          "base_uri": "https://localhost:8080/"
        },
        "id": "JTc1U5jALfOR",
        "outputId": "eed1da5b-b441-410a-b7df-d9f06cac58f9"
      },
      "outputs": [
        {
          "output_type": "execute_result",
          "data": {
            "text/plain": [
              "[Row(artist='Martha Tilston', auth='Logged In', firstName='Colin', gender='M', itemInSession=50, lastName='Freeman', length=277.89016, level='paid', location='Bakersfield, CA', method='PUT', page='NextSong', registration=1538173362000, sessionId=29, song='Rockpools', status=200, ts=1538352117000, userAgent='Mozilla/5.0 (Windows NT 6.1; WOW64; rv:31.0) Gecko/20100101 Firefox/31.0', userId='30', churn=0)]"
            ]
          },
          "metadata": {},
          "execution_count": 26
        }
      ],
      "source": [
        "df.head(1)"
      ]
    },
    {
      "cell_type": "markdown",
      "metadata": {
        "id": "1ohPr0yGLfOR"
      },
      "source": [
        "As show in `df.head(1)`, the 'churn' column has been successfully added to the dataframe, and a value of 0 has been assigned for the specified userId. To proceed, we can sort our records for a given userId in reverse time order and calculate the sum of values in the 'churn' column. This will help us understand the user's churn behavior over time."
      ]
    },
    {
      "cell_type": "code",
      "execution_count": 27,
      "metadata": {
        "id": "-wmZ6ZnPLfOS"
      },
      "outputs": [],
      "source": [
        "# Create a window specification for each user ordered by timestamp in reverse\n",
        "windowval = Window.partitionBy(\"userId\").orderBy(desc(\"ts\")).rangeBetween(Window.unboundedPreceding, 0)"
      ]
    },
    {
      "cell_type": "code",
      "execution_count": 28,
      "metadata": {
        "id": "Or3Q58LRLfOd"
      },
      "outputs": [],
      "source": [
        "# Create the 'churn' column containing the sum of 'churn' values over records\n",
        "df = df.withColumn(\"churn\", Fsum(\"churn\").over(windowval))"
      ]
    },
    {
      "cell_type": "code",
      "execution_count": 29,
      "metadata": {
        "id": "jzQM5T7MLfOd"
      },
      "outputs": [],
      "source": [
        "# Group by 'churn' to get counts\n",
        "df_churn = df.select(['userId', 'churn']).dropDuplicates().groupBy('churn').count()"
      ]
    },
    {
      "cell_type": "code",
      "execution_count": 30,
      "metadata": {
        "colab": {
          "base_uri": "https://localhost:8080/"
        },
        "id": "iHaj2oTULfOd",
        "outputId": "f8189ebc-ed85-4c8f-b55e-7ec62390647a"
      },
      "outputs": [
        {
          "output_type": "stream",
          "name": "stdout",
          "text": [
            "+-----+-----+\n",
            "|churn|count|\n",
            "+-----+-----+\n",
            "|    0|  123|\n",
            "|    1|   15|\n",
            "+-----+-----+\n",
            "\n"
          ]
        }
      ],
      "source": [
        "df_churn.show()"
      ]
    },
    {
      "cell_type": "markdown",
      "metadata": {
        "id": "B70GKIErLfOe"
      },
      "source": [
        "### Exploratory Data Analysis for Users that Stayed vs Users that Churned"
      ]
    },
    {
      "cell_type": "markdown",
      "metadata": {
        "id": "Ya7g3mhDLfOe"
      },
      "source": [
        "Let's explore and visualize the behavior of users who churned compared to those who stayed."
      ]
    },
    {
      "cell_type": "code",
      "execution_count": 31,
      "metadata": {
        "id": "1M8Ca0V8LfOe"
      },
      "outputs": [],
      "source": [
        "# convert to pandas for visualisation\n",
        "df_churn = df_churn.toPandas()"
      ]
    },
    {
      "cell_type": "code",
      "execution_count": 32,
      "metadata": {
        "colab": {
          "base_uri": "https://localhost:8080/",
          "height": 590
        },
        "id": "IsT0SNi-LfOf",
        "outputId": "69c1da0d-d75d-4cc1-ee27-66ffa08cc265"
      },
      "outputs": [
        {
          "output_type": "execute_result",
          "data": {
            "text/plain": [
              "Text(0.5, 0, 'Churn')"
            ]
          },
          "metadata": {},
          "execution_count": 32
        },
        {
          "output_type": "display_data",
          "data": {
            "text/plain": [
              "<Figure size 800x600 with 1 Axes>"
            ],
            "image/png": "[encoded data removed]"
          },
          "metadata": {}
        }
      ],
      "source": [
        "# Plot the number of users who churned\n",
        "plt.figure(figsize=[8, 6])\n",
        "ax = sns.barplot(data=df_churn, x='churn', y='count')\n",
        "plt.title(\"Number of Users Who Churned\")\n",
        "plt.ylabel(\"Count\")\n",
        "plt.xlabel(\"Churn\")"
      ]
    },
    {
      "cell_type": "markdown",
      "metadata": {
        "id": "ZKiHP1a3LfOf"
      },
      "source": [
        "The above visualization reveals that 173 users chose to stay, while 52 users decided to churn. Consequently, it's worth noting that approximately 23% of our users churned. It's important to recognize that this represents an imbalance in our user population, which can be a significant consideration for future analysis and modeling."
      ]
    },
    {
      "cell_type": "markdown",
      "metadata": {
        "id": "CTndGssdLfOg"
      },
      "source": [
        "### Duration of Engagement: Churned Users vs. Retained Users\n",
        "\n",
        "Now, let's examine the distribution of engagement duration for both retained and churned customers."
      ]
    },
    {
      "cell_type": "code",
      "execution_count": 33,
      "metadata": {
        "id": "sYo8mJC4LfOg"
      },
      "outputs": [],
      "source": [
        "# get churned customers\n",
        "df_churned = df.filter(df.churn ==1)\n"
      ]
    },
    {
      "cell_type": "code",
      "execution_count": 34,
      "metadata": {
        "id": "y_UOauU2LfOg"
      },
      "outputs": [],
      "source": [
        "# to pandas\n",
        "churned_pd = df_churned.toPandas()"
      ]
    },
    {
      "cell_type": "code",
      "execution_count": 35,
      "metadata": {
        "id": "WJyWfL0SLfOg"
      },
      "outputs": [],
      "source": [
        "# drop the nulls\n",
        "churned_pd.length.dropna(inplace=True)"
      ]
    },
    {
      "cell_type": "code",
      "execution_count": 36,
      "metadata": {
        "colab": {
          "base_uri": "https://localhost:8080/",
          "height": 497
        },
        "id": "NKTQd18NLfOg",
        "outputId": "2ddeb016-31aa-4966-d7c5-287d355feeab"
      },
      "outputs": [
        {
          "output_type": "execute_result",
          "data": {
            "text/plain": [
              "Text(0.5, 1.0, 'Distribution of Engagement Duration for Churned Users')"
            ]
          },
          "metadata": {},
          "execution_count": 36
        },
        {
          "output_type": "display_data",
          "data": {
            "text/plain": [
              "<Figure size 640x480 with 1 Axes>"
            ],
            "image/png": "[encoded data removed]"
          },
          "metadata": {}
        }
      ],
      "source": [
        "# Plot the distribution of engagement duration\n",
        "bin_edges = np.arange(10, churned_pd['length'].max() + 25, 25)\n",
        "plt.hist(data=churned_pd, x='length', bins=bin_edges)\n",
        "plt.xlim(0, 700)\n",
        "plt.xlabel('Length')\n",
        "plt.ylabel('Frequency')\n",
        "plt.title('Distribution of Engagement Duration for Churned Users')"
      ]
    },
    {
      "cell_type": "markdown",
      "metadata": {
        "id": "zfgF2UCzLfOh"
      },
      "source": [
        "Do the same for Retained Users"
      ]
    },
    {
      "cell_type": "code",
      "execution_count": 37,
      "metadata": {
        "id": "GDCsx_moLfOh"
      },
      "outputs": [],
      "source": [
        "# get churned customers\n",
        "df_retained = df.filter(df.churn == 0)"
      ]
    },
    {
      "cell_type": "code",
      "execution_count": 38,
      "metadata": {
        "id": "sVexpvl4LfOh"
      },
      "outputs": [],
      "source": [
        "# to pandas\n",
        "retained_pd = df_retained.toPandas()"
      ]
    },
    {
      "cell_type": "code",
      "execution_count": 39,
      "metadata": {
        "id": "e7BZ_PPWLfOi"
      },
      "outputs": [],
      "source": [
        "# drop the nulls\n",
        "retained_pd.length.dropna(inplace=True)"
      ]
    },
    {
      "cell_type": "code",
      "execution_count": 40,
      "metadata": {
        "colab": {
          "base_uri": "https://localhost:8080/",
          "height": 497
        },
        "id": "4bmFVgrALfOi",
        "outputId": "2239d205-b824-4dbe-f991-b7dea6fd7004"
      },
      "outputs": [
        {
          "output_type": "execute_result",
          "data": {
            "text/plain": [
              "Text(0.5, 1.0, 'Distribution of Engagement Duration for Retained Users')"
            ]
          },
          "metadata": {},
          "execution_count": 40
        },
        {
          "output_type": "display_data",
          "data": {
            "text/plain": [
              "<Figure size 640x480 with 1 Axes>"
            ],
            "image/png": "[encoded data removed]"
          },
          "metadata": {}
        }
      ],
      "source": [
        "# Plot the distribution of engagement duration\n",
        "bin_edges = np.arange(10, retained_pd['length'].max() + 25, 25)\n",
        "plt.hist(data=retained_pd, x='length', bins=bin_edges)\n",
        "plt.xlim(0, 700)\n",
        "plt.xlabel('Length')\n",
        "plt.ylabel('Frequency')\n",
        "plt.title('Distribution of Engagement Duration for Retained Users')"
      ]
    },
    {
      "cell_type": "markdown",
      "metadata": {
        "id": "-jsb4yW0LfOi"
      },
      "source": [
        "As observed in the previous plots, the distribution of engagement duration appears quite similar for both churned and retained users. Therefore, this feature may not be particularly informative for predicting customer churn."
      ]
    },
    {
      "cell_type": "markdown",
      "metadata": {
        "id": "ORW7hZ8TLfOj"
      },
      "source": [
        "### Subscription Level: Churned Users vs. Retained Users"
      ]
    },
    {
      "cell_type": "code",
      "execution_count": 41,
      "metadata": {
        "id": "y0PFm46DLfOj"
      },
      "outputs": [],
      "source": [
        "# create the level dataframe\n",
        "df_level = df.select(['userId', 'churn', 'level']).dropDuplicates().groupBy('level','churn').count()"
      ]
    },
    {
      "cell_type": "code",
      "execution_count": 42,
      "metadata": {
        "colab": {
          "base_uri": "https://localhost:8080/"
        },
        "id": "DbQFIG67LfOj",
        "outputId": "177250de-0f2f-4408-94aa-da4403a5578d"
      },
      "outputs": [
        {
          "output_type": "stream",
          "name": "stdout",
          "text": [
            "+-----+-----+-----+\n",
            "|level|churn|count|\n",
            "+-----+-----+-----+\n",
            "| free|    0|  104|\n",
            "| paid|    0|   73|\n",
            "| free|    1|   13|\n",
            "| paid|    1|   13|\n",
            "+-----+-----+-----+\n",
            "\n"
          ]
        }
      ],
      "source": [
        "# show number of users of Churned Users vs. Retained Users group by Subcription level\n",
        "df_level.show()"
      ]
    },
    {
      "cell_type": "code",
      "execution_count": 43,
      "metadata": {
        "id": "pqHE4IsILfOk"
      },
      "outputs": [],
      "source": [
        "# to pandas\n",
        "df_level = df_level.toPandas()"
      ]
    },
    {
      "cell_type": "code",
      "execution_count": 44,
      "metadata": {
        "colab": {
          "base_uri": "https://localhost:8080/",
          "height": 590
        },
        "id": "igv3alibLfOk",
        "outputId": "c16c74d6-291f-42b7-c09f-27ec98bee0f5"
      },
      "outputs": [
        {
          "output_type": "execute_result",
          "data": {
            "text/plain": [
              "Text(0.5, 0, 'Churn')"
            ]
          },
          "metadata": {},
          "execution_count": 44
        },
        {
          "output_type": "display_data",
          "data": {
            "text/plain": [
              "<Figure size 800x600 with 1 Axes>"
            ],
            "image/png": "[encoded data removed]"
          },
          "metadata": {}
        }
      ],
      "source": [
        "# Plot the barplot using seaborn\n",
        "plt.figure(figsize=[8, 6])\n",
        "ax = sns.barplot(data=df_level, x='churn', y='count', hue='level')\n",
        "ax.legend(loc=1, ncol=2, framealpha=1, title='Level')\n",
        "plt.title(\"Number of Users Who Churned vs. Stayed by Subscription Level\")\n",
        "plt.ylabel(\"Count\")\n",
        "plt.xlabel(\"Churn\")"
      ]
    },
    {
      "cell_type": "markdown",
      "metadata": {
        "id": "WMxu19rSLfOl"
      },
      "source": [
        "The chart above illustrates that users who utilized the free service tier were slightly more prone to churn, with a churn rate of approximately 23.6%(46/(46+149)), compared to users who subscribed to the paid tier, which had a churn rate of approximately 21.8%(36/(129+36))"
      ]
    },
    {
      "cell_type": "markdown",
      "metadata": {
        "id": "8acdM2r7LfOl"
      },
      "source": [
        "### Pages Visited by Churned Users vs. Retained Users"
      ]
    },
    {
      "cell_type": "markdown",
      "metadata": {
        "id": "lTDnOlzhLfOl"
      },
      "source": [
        "Next, let's investigate whether there were variations in the pages visited by users who churned compared to those who stayed."
      ]
    },
    {
      "cell_type": "code",
      "execution_count": 45,
      "metadata": {
        "id": "MoUD5H9ELfOl"
      },
      "outputs": [],
      "source": [
        "df_page = df.select(['userId', 'churn', 'page']).groupBy('page','churn').count()"
      ]
    },
    {
      "cell_type": "code",
      "execution_count": 46,
      "metadata": {
        "colab": {
          "base_uri": "https://localhost:8080/"
        },
        "id": "tjwgQlgRLfOm",
        "outputId": "ba76e788-1c86-4d3d-8f45-276f27d87074"
      },
      "outputs": [
        {
          "output_type": "stream",
          "name": "stdout",
          "text": [
            "+--------------------+-----+-----+\n",
            "|                page|churn|count|\n",
            "+--------------------+-----+-----+\n",
            "|            Settings|    0|  369|\n",
            "|         Thumbs Down|    1|  115|\n",
            "|           Thumbs Up|    1|  523|\n",
            "|     Add to Playlist|    1|  309|\n",
            "|               Error|    1|   10|\n",
            "|               About|    1|   17|\n",
            "|         Thumbs Down|    0|  522|\n",
            "|         Roll Advert|    1|  148|\n",
            "|                Home|    0| 2634|\n",
            "|Cancellation Conf...|    1|   15|\n",
            "|               Error|    0|   73|\n",
            "|              Cancel|    1|   15|\n",
            "|            Settings|    1|   86|\n",
            "|          Add Friend|    1|  200|\n",
            "|             Upgrade|    0|  169|\n",
            "|           Downgrade|    1|  109|\n",
            "|              Logout|    1|  165|\n",
            "|    Submit Downgrade|    1|    1|\n",
            "|       Save Settings|    0|   77|\n",
            "|           Thumbs Up|    0| 2830|\n",
            "+--------------------+-----+-----+\n",
            "only showing top 20 rows\n",
            "\n"
          ]
        }
      ],
      "source": [
        "df_page.show()"
      ]
    },
    {
      "cell_type": "code",
      "execution_count": 47,
      "metadata": {
        "id": "FOIA4MFvLfOm"
      },
      "outputs": [],
      "source": [
        "# convert to pandas\n",
        "df_page = df_page.toPandas()"
      ]
    },
    {
      "cell_type": "code",
      "execution_count": 48,
      "metadata": {
        "id": "dX8d0gvCLfOm"
      },
      "outputs": [],
      "source": [
        "# Create page visit counts for churned and retained users\n",
        "churn_count = df_page[df_page['churn'] == 1].sum()\n",
        "stay_count = df_page[df_page['churn'] == 0].sum()"
      ]
    },
    {
      "cell_type": "markdown",
      "metadata": {
        "id": "ayijKZB1LfOn"
      },
      "source": [
        "Now that we have counted the number of customers who churned and those who stayed, we can calculate the rate and add it as a column in our DataFrame."
      ]
    },
    {
      "cell_type": "code",
      "execution_count": 49,
      "metadata": {
        "id": "LM5vAMQNLfOn"
      },
      "outputs": [],
      "source": [
        "df_page['rate'] = np.where(\n",
        "    df_page['churn'] == 0, df_page['count'] / stay_count['count'],\n",
        "    np.where(df_page['churn'] == 1, df_page['count'] / churn_count['count'], df_page['count'] / churn_count['count'])\n",
        ")"
      ]
    },
    {
      "cell_type": "code",
      "execution_count": 50,
      "metadata": {
        "colab": {
          "base_uri": "https://localhost:8080/",
          "height": 206
        },
        "id": "NEtvRFHZLfOo",
        "outputId": "e0903027-a23f-48b9-a016-0dc4f0a75851"
      },
      "outputs": [
        {
          "output_type": "execute_result",
          "data": {
            "text/plain": [
              "              page  churn  count      rate\n",
              "0         Settings      0    369  0.005370\n",
              "1      Thumbs Down      1    115  0.008611\n",
              "2        Thumbs Up      1    523  0.039161\n",
              "3  Add to Playlist      1    309  0.023137\n",
              "4            Error      1     10  0.000749"
            ],
            "text/html": [
              "\n",
              "  <div id=\"df-2df945e9-407a-4999-9ab4-46617df7d318\" class=\"colab-df-container\">\n",
              "    <div>\n",
              "<style scoped>\n",
              "    .dataframe tbody tr th:only-of-type {\n",
              "        vertical-align: middle;\n",
              "    }\n",
              "\n",
              "    .dataframe tbody tr th {\n",
              "        vertical-align: top;\n",
              "    }\n",
              "\n",
              "    .dataframe thead th {\n",
              "        text-align: right;\n",
              "    }\n",
              "</style>\n",
              "<table border=\"1\" class=\"dataframe\">\n",
              "  <thead>\n",
              "    <tr style=\"text-align: right;\">\n",
              "      <th></th>\n",
              "      <th>page</th>\n",
              "      <th>churn</th>\n",
              "      <th>count</th>\n",
              "      <th>rate</th>\n",
              "    </tr>\n",
              "  </thead>\n",
              "  <tbody>\n",
              "    <tr>\n",
              "      <th>0</th>\n",
              "      <td>Settings</td>\n",
              "      <td>0</td>\n",
              "      <td>369</td>\n",
              "      <td>0.005370</td>\n",
              "    </tr>\n",
              "    <tr>\n",
              "      <th>1</th>\n",
              "      <td>Thumbs Down</td>\n",
              "      <td>1</td>\n",
              "      <td>115</td>\n",
              "      <td>0.008611</td>\n",
              "    </tr>\n",
              "    <tr>\n",
              "      <th>2</th>\n",
              "      <td>Thumbs Up</td>\n",
              "      <td>1</td>\n",
              "      <td>523</td>\n",
              "      <td>0.039161</td>\n",
              "    </tr>\n",
              "    <tr>\n",
              "      <th>3</th>\n",
              "      <td>Add to Playlist</td>\n",
              "      <td>1</td>\n",
              "      <td>309</td>\n",
              "      <td>0.023137</td>\n",
              "    </tr>\n",
              "    <tr>\n",
              "      <th>4</th>\n",
              "      <td>Error</td>\n",
              "      <td>1</td>\n",
              "      <td>10</td>\n",
              "      <td>0.000749</td>\n",
              "    </tr>\n",
              "  </tbody>\n",
              "</table>\n",
              "</div>\n",
              "    <div class=\"colab-df-buttons\">\n",
              "\n",
              "  <div class=\"colab-df-container\">\n",
              "    <button class=\"colab-df-convert\" onclick=\"convertToInteractive('df-2df945e9-407a-4999-9ab4-46617df7d318')\"\n",
              "            title=\"Convert this dataframe to an interactive table.\"\n",
              "            style=\"display:none;\">\n",
              "\n",
              "  <svg xmlns=\"http://www.w3.org/2000/svg\" height=\"24px\" viewBox=\"0 -960 960 960\">\n",
              "    <path d=\"M120-120v-720h720v720H120Zm60-500h600v-160H180v160Zm220 220h160v-160H400v160Zm0 220h160v-160H400v160ZM180-400h160v-160H180v160Zm440 0h160v-160H620v160ZM180-180h160v-160H180v160Zm440 0h160v-160H620v160Z\"/>\n",
              "  </svg>\n",
              "    </button>\n",
              "\n",
              "  <style>\n",
              "    .colab-df-container {\n",
              "      display:flex;\n",
              "      gap: 12px;\n",
              "    }\n",
              "\n",
              "    .colab-df-convert {\n",
              "      background-color: #E8F0FE;\n",
              "      border: none;\n",
              "      border-radius: 50%;\n",
              "      cursor: pointer;\n",
              "      display: none;\n",
              "      fill: #1967D2;\n",
              "      height: 32px;\n",
              "      padding: 0 0 0 0;\n",
              "      width: 32px;\n",
              "    }\n",
              "\n",
              "    .colab-df-convert:hover {\n",
              "      background-color: #E2EBFA;\n",
              "      box-shadow: 0px 1px 2px rgba(60, 64, 67, 0.3), 0px 1px 3px 1px rgba(60, 64, 67, 0.15);\n",
              "      fill: #174EA6;\n",
              "    }\n",
              "\n",
              "    .colab-df-buttons div {\n",
              "      margin-bottom: 4px;\n",
              "    }\n",
              "\n",
              "    [theme=dark] .colab-df-convert {\n",
              "      background-color: #3B4455;\n",
              "      fill: #D2E3FC;\n",
              "    }\n",
              "\n",
              "    [theme=dark] .colab-df-convert:hover {\n",
              "      background-color: #434B5C;\n",
              "      box-shadow: 0px 1px 3px 1px rgba(0, 0, 0, 0.15);\n",
              "      filter: drop-shadow(0px 1px 2px rgba(0, 0, 0, 0.3));\n",
              "      fill: #FFFFFF;\n",
              "    }\n",
              "  </style>\n",
              "\n",
              "    <script>\n",
              "      const buttonEl =\n",
              "        document.querySelector('#df-2df945e9-407a-4999-9ab4-46617df7d318 button.colab-df-convert');\n",
              "      buttonEl.style.display =\n",
              "        google.colab.kernel.accessAllowed ? 'block' : 'none';\n",
              "\n",
              "      async function convertToInteractive(key) {\n",
              "        const element = document.querySelector('#df-2df945e9-407a-4999-9ab4-46617df7d318');\n",
              "        const dataTable =\n",
              "          await google.colab.kernel.invokeFunction('convertToInteractive',\n",
              "                                                    [key], {});\n",
              "        if (!dataTable) return;\n",
              "\n",
              "        const docLinkHtml = 'Like what you see? Visit the ' +\n",
              "          '<a target=\"_blank\" href=https://colab.research.google.com/notebooks/data_table.ipynb>data table notebook</a>'\n",
              "          + ' to learn more about interactive tables.';\n",
              "        element.innerHTML = '';\n",
              "        dataTable['output_type'] = 'display_data';\n",
              "        await google.colab.output.renderOutput(dataTable, element);\n",
              "        const docLink = document.createElement('div');\n",
              "        docLink.innerHTML = docLinkHtml;\n",
              "        element.appendChild(docLink);\n",
              "      }\n",
              "    </script>\n",
              "  </div>\n",
              "\n",
              "\n",
              "<div id=\"df-25965271-588e-4d91-aad9-45d2d8bcecb7\">\n",
              "  <button class=\"colab-df-quickchart\" onclick=\"quickchart('df-25965271-588e-4d91-aad9-45d2d8bcecb7')\"\n",
              "            title=\"Suggest charts.\"\n",
              "            style=\"display:none;\">\n",
              "\n",
              "<svg xmlns=\"http://www.w3.org/2000/svg\" height=\"24px\"viewBox=\"0 0 24 24\"\n",
              "     width=\"24px\">\n",
              "    <g>\n",
              "        <path d=\"M19 3H5c-1.1 0-2 .9-2 2v14c0 1.1.9 2 2 2h14c1.1 0 2-.9 2-2V5c0-1.1-.9-2-2-2zM9 17H7v-7h2v7zm4 0h-2V7h2v10zm4 0h-2v-4h2v4z\"/>\n",
              "    </g>\n",
              "</svg>\n",
              "  </button>\n",
              "\n",
              "<style>\n",
              "  .colab-df-quickchart {\n",
              "      --bg-color: #E8F0FE;\n",
              "      --fill-color: #1967D2;\n",
              "      --hover-bg-color: #E2EBFA;\n",
              "      --hover-fill-color: #174EA6;\n",
              "      --disabled-fill-color: #AAA;\n",
              "      --disabled-bg-color: #DDD;\n",
              "  }\n",
              "\n",
              "  [theme=dark] .colab-df-quickchart {\n",
              "      --bg-color: #3B4455;\n",
              "      --fill-color: #D2E3FC;\n",
              "      --hover-bg-color: #434B5C;\n",
              "      --hover-fill-color: #FFFFFF;\n",
              "      --disabled-bg-color: #3B4455;\n",
              "      --disabled-fill-color: #666;\n",
              "  }\n",
              "\n",
              "  .colab-df-quickchart {\n",
              "    background-color: var(--bg-color);\n",
              "    border: none;\n",
              "    border-radius: 50%;\n",
              "    cursor: pointer;\n",
              "    display: none;\n",
              "    fill: var(--fill-color);\n",
              "    height: 32px;\n",
              "    padding: 0;\n",
              "    width: 32px;\n",
              "  }\n",
              "\n",
              "  .colab-df-quickchart:hover {\n",
              "    background-color: var(--hover-bg-color);\n",
              "    box-shadow: 0 1px 2px rgba(60, 64, 67, 0.3), 0 1px 3px 1px rgba(60, 64, 67, 0.15);\n",
              "    fill: var(--button-hover-fill-color);\n",
              "  }\n",
              "\n",
              "  .colab-df-quickchart-complete:disabled,\n",
              "  .colab-df-quickchart-complete:disabled:hover {\n",
              "    background-color: var(--disabled-bg-color);\n",
              "    fill: var(--disabled-fill-color);\n",
              "    box-shadow: none;\n",
              "  }\n",
              "\n",
              "  .colab-df-spinner {\n",
              "    border: 2px solid var(--fill-color);\n",
              "    border-color: transparent;\n",
              "    border-bottom-color: var(--fill-color);\n",
              "    animation:\n",
              "      spin 1s steps(1) infinite;\n",
              "  }\n",
              "\n",
              "  @keyframes spin {\n",
              "    0% {\n",
              "      border-color: transparent;\n",
              "      border-bottom-color: var(--fill-color);\n",
              "      border-left-color: var(--fill-color);\n",
              "    }\n",
              "    20% {\n",
              "      border-color: transparent;\n",
              "      border-left-color: var(--fill-color);\n",
              "      border-top-color: var(--fill-color);\n",
              "    }\n",
              "    30% {\n",
              "      border-color: transparent;\n",
              "      border-left-color: var(--fill-color);\n",
              "      border-top-color: var(--fill-color);\n",
              "      border-right-color: var(--fill-color);\n",
              "    }\n",
              "    40% {\n",
              "      border-color: transparent;\n",
              "      border-right-color: var(--fill-color);\n",
              "      border-top-color: var(--fill-color);\n",
              "    }\n",
              "    60% {\n",
              "      border-color: transparent;\n",
              "      border-right-color: var(--fill-color);\n",
              "    }\n",
              "    80% {\n",
              "      border-color: transparent;\n",
              "      border-right-color: var(--fill-color);\n",
              "      border-bottom-color: var(--fill-color);\n",
              "    }\n",
              "    90% {\n",
              "      border-color: transparent;\n",
              "      border-bottom-color: var(--fill-color);\n",
              "    }\n",
              "  }\n",
              "</style>\n",
              "\n",
              "  <script>\n",
              "    async function quickchart(key) {\n",
              "      const quickchartButtonEl =\n",
              "        document.querySelector('#' + key + ' button');\n",
              "      quickchartButtonEl.disabled = true;  // To prevent multiple clicks.\n",
              "      quickchartButtonEl.classList.add('colab-df-spinner');\n",
              "      try {\n",
              "        const charts = await google.colab.kernel.invokeFunction(\n",
              "            'suggestCharts', [key], {});\n",
              "      } catch (error) {\n",
              "        console.error('Error during call to suggestCharts:', error);\n",
              "      }\n",
              "      quickchartButtonEl.classList.remove('colab-df-spinner');\n",
              "      quickchartButtonEl.classList.add('colab-df-quickchart-complete');\n",
              "    }\n",
              "    (() => {\n",
              "      let quickchartButtonEl =\n",
              "        document.querySelector('#df-25965271-588e-4d91-aad9-45d2d8bcecb7 button');\n",
              "      quickchartButtonEl.style.display =\n",
              "        google.colab.kernel.accessAllowed ? 'block' : 'none';\n",
              "    })();\n",
              "  </script>\n",
              "</div>\n",
              "    </div>\n",
              "  </div>\n"
            ]
          },
          "metadata": {},
          "execution_count": 50
        }
      ],
      "source": [
        "df_page.head()"
      ]
    },
    {
      "cell_type": "code",
      "execution_count": 51,
      "metadata": {
        "colab": {
          "base_uri": "https://localhost:8080/",
          "height": 852
        },
        "id": "TVT8NJ5LLfOo",
        "outputId": "b7f9296a-8bc9-46f4-cac2-858faa40ac87"
      },
      "outputs": [
        {
          "output_type": "execute_result",
          "data": {
            "text/plain": [
              "Text(0, 0.5, 'Page')"
            ]
          },
          "metadata": {},
          "execution_count": 51
        },
        {
          "output_type": "display_data",
          "data": {
            "text/plain": [
              "<Figure size 2000x1600 with 1 Axes>"
            ],
            "image/png": "[encoded data removed]"
          },
          "metadata": {}
        }
      ],
      "source": [
        "# Plot the rate of pages visited by users who churned vs. those who stayed\n",
        "plt.figure(figsize=[20, 16])\n",
        "sns.barplot(data=df_page, x='rate', y='page', hue='churn')\n",
        "plt.title('Rate of Pages Navigated to by Users Who Churned vs. Users Who Stayed')\n",
        "plt.xlabel('Rate')\n",
        "plt.ylabel('Page')"
      ]
    },
    {
      "cell_type": "markdown",
      "metadata": {
        "id": "14cdhtQeLfOo"
      },
      "source": [
        "The chart above reveals some interesting patterns. Both users who stayed and those who churned most frequently skipped to the next song. However, churned users displayed a higher frequency of actions like rolling advertisements and giving songs a thumbs-down. Conversely, users who were more likely to stay exhibited higher engagement, as evidenced by more frequent thumbs-up actions, adding friends, and adding songs to their playlists."
      ]
    },
    {
      "cell_type": "markdown",
      "metadata": {
        "id": "Lxkz71nrLfOp"
      },
      "source": [
        "#### Calculating Songs per Hour"
      ]
    },
    {
      "cell_type": "markdown",
      "metadata": {
        "id": "jriEKdNOLfOp"
      },
      "source": [
        "Let's now focus on calculating the number of songs listened to by both churned and non-churned users per hour."
      ]
    },
    {
      "cell_type": "code",
      "execution_count": 52,
      "metadata": {
        "id": "J_AIQEqdLfOp"
      },
      "outputs": [],
      "source": [
        "# Define a User-Defined Function (UDF) to extract the hour from the timestamp\n",
        "get_hour = udf(lambda x: datetime.datetime.fromtimestamp(x / 1000.0).hour, IntegerType())\n",
        "\n",
        "# Create the 'hour' column\n",
        "df = df.withColumn(\"hour\", get_hour(df.ts))"
      ]
    },
    {
      "cell_type": "code",
      "execution_count": 53,
      "metadata": {
        "colab": {
          "base_uri": "https://localhost:8080/"
        },
        "id": "h1cnjzkcLfOq",
        "outputId": "25f02346-0f51-49b8-8f93-38de0905da54"
      },
      "outputs": [
        {
          "output_type": "execute_result",
          "data": {
            "text/plain": [
              "Row(artist=None, auth='Logged In', firstName='Colin', gender='M', itemInSession=81, lastName='Larson', length=None, level='paid', location='Dallas-Fort Worth-Arlington, TX', method='GET', page='Home', registration=1537982255000, sessionId=1210, song=None, status=200, ts=1540395773000, userAgent='Mozilla/5.0 (Windows NT 6.1; WOW64; rv:30.0) Gecko/20100101 Firefox/30.0', userId='100', churn=0, hour=15)"
            ]
          },
          "metadata": {},
          "execution_count": 53
        }
      ],
      "source": [
        "#check if column hour exist\n",
        "df.head()"
      ]
    },
    {
      "cell_type": "markdown",
      "metadata": {
        "id": "H3DVTanBLfOq"
      },
      "source": [
        "For non-churned users, let's have a deep dive to see if their habit"
      ]
    },
    {
      "cell_type": "code",
      "execution_count": 54,
      "metadata": {
        "id": "BLqLI5RrLfOq"
      },
      "outputs": [],
      "source": [
        "# Create a DataFrame for users who didn't churn and count 'NextSong' page visits per hour\n",
        "songs_in_hour_stay = df.filter((df.page == \"NextSong\") & (df.churn == 0)).groupby(df.hour).count().orderBy(df.hour.cast(\"float\"))"
      ]
    },
    {
      "cell_type": "code",
      "execution_count": 55,
      "metadata": {
        "colab": {
          "base_uri": "https://localhost:8080/"
        },
        "id": "jzRzUnO4LfOq",
        "outputId": "110e65e2-8a4f-4566-86e6-66c778fccca1"
      },
      "outputs": [
        {
          "output_type": "stream",
          "name": "stdout",
          "text": [
            "+----+-----+\n",
            "|hour|count|\n",
            "+----+-----+\n",
            "|   0| 2235|\n",
            "|   1| 1980|\n",
            "|   2| 1922|\n",
            "|   3| 1807|\n",
            "|   4| 1866|\n",
            "|   5| 2028|\n",
            "|   6| 2067|\n",
            "|   7| 2073|\n",
            "|   8| 2071|\n",
            "|   9| 2056|\n",
            "|  10| 2114|\n",
            "|  11| 2269|\n",
            "|  12| 2470|\n",
            "|  13| 2441|\n",
            "|  14| 2552|\n",
            "|  15| 2624|\n",
            "|  16| 2787|\n",
            "|  17| 2804|\n",
            "|  18| 2801|\n",
            "|  19| 2886|\n",
            "|  20| 2843|\n",
            "|  21| 2646|\n",
            "|  22| 2595|\n",
            "|  23| 2421|\n",
            "+----+-----+\n",
            "\n"
          ]
        }
      ],
      "source": [
        "# show distribution in 24 hours\n",
        "songs_in_hour_stay.show(24)"
      ]
    },
    {
      "cell_type": "code",
      "execution_count": 56,
      "metadata": {
        "id": "D4QkTc_TLfOq"
      },
      "outputs": [],
      "source": [
        "# Convert to Pandas DataFrame and cast 'hour' to numeric\n",
        "songs_in_hour_stay_pd = songs_in_hour_stay.toPandas()\n",
        "songs_in_hour_stay_pd['hour'] = pd.to_numeric(songs_in_hour_stay_pd['hour'])"
      ]
    },
    {
      "cell_type": "code",
      "execution_count": 57,
      "metadata": {
        "colab": {
          "base_uri": "https://localhost:8080/",
          "height": 590
        },
        "id": "Eyjw0olVLfOr",
        "outputId": "4b285fd8-0490-4058-e0b4-daa6eea64a64"
      },
      "outputs": [
        {
          "output_type": "execute_result",
          "data": {
            "text/plain": [
              "Text(0.5, 1.0, 'Number of Songs Played per Hour (Non-Churn Users)')"
            ]
          },
          "metadata": {},
          "execution_count": 57
        },
        {
          "output_type": "display_data",
          "data": {
            "text/plain": [
              "<Figure size 800x600 with 1 Axes>"
            ],
            "image/png": "[encoded data removed]"
          },
          "metadata": {}
        }
      ],
      "source": [
        "# Plot the distribution of songs played per hour for non-churn users\n",
        "plt.figure(figsize=[8, 6])\n",
        "plt.scatter(songs_in_hour_stay_pd[\"hour\"], songs_in_hour_stay_pd[\"count\"])\n",
        "plt.xlim(-1, 24)\n",
        "plt.xlabel(\"Hour\")\n",
        "plt.ylabel(\"Songs Played\")\n",
        "plt.title(\"Number of Songs Played per Hour (Non-Churn Users)\")"
      ]
    },
    {
      "cell_type": "markdown",
      "metadata": {
        "id": "sr3-_VEiLfOr"
      },
      "source": [
        "\n",
        "As observed in the previous plot, there is a peak in the number of songs played between 3 pm and 8 pm for non-churn users. Next, we will perform a similar analysis for users who churned."
      ]
    },
    {
      "cell_type": "code",
      "execution_count": 58,
      "metadata": {
        "id": "J0IPt6e3LfOr"
      },
      "outputs": [],
      "source": [
        "# Create a DataFrame for users who didn't churn and count 'NextSong' page visits per hour\n",
        "songs_in_hour_churned = df.filter((df.page == \"NextSong\") & (df.churn == 1)).groupby(df.hour).count().orderBy(df.hour.cast(\"float\"))"
      ]
    },
    {
      "cell_type": "code",
      "execution_count": 59,
      "metadata": {
        "colab": {
          "base_uri": "https://localhost:8080/"
        },
        "id": "cjppRnxFLfOr",
        "outputId": "697e1cb0-b484-478f-cdb6-0b9089ca7406"
      },
      "outputs": [
        {
          "output_type": "stream",
          "name": "stdout",
          "text": [
            "+----+-----+\n",
            "|hour|count|\n",
            "+----+-----+\n",
            "|   0|  442|\n",
            "|   1|  445|\n",
            "|   2|  485|\n",
            "|   3|  514|\n",
            "|   4|  489|\n",
            "|   5|  491|\n",
            "|   6|  488|\n",
            "|   7|  433|\n",
            "|   8|  403|\n",
            "|   9|  429|\n",
            "|  10|  488|\n",
            "|  11|  449|\n",
            "|  12|  409|\n",
            "|  13|  437|\n",
            "|  14|  461|\n",
            "|  15|  505|\n",
            "|  16|  476|\n",
            "|  17|  490|\n",
            "|  18|  477|\n",
            "|  19|  420|\n",
            "|  20|  437|\n",
            "|  21|  457|\n",
            "|  22|  437|\n",
            "|  23|  458|\n",
            "+----+-----+\n",
            "\n"
          ]
        }
      ],
      "source": [
        "# show distribution in 24 hours\n",
        "songs_in_hour_churned.show(24)"
      ]
    },
    {
      "cell_type": "code",
      "execution_count": 60,
      "metadata": {
        "id": "NbIRqA_nLfOs"
      },
      "outputs": [],
      "source": [
        "# Convert to Pandas DataFrame and cast 'hour' to numeric\n",
        "songs_in_hour_churned = songs_in_hour_churned.toPandas()\n",
        "songs_in_hour_churned.hour = pd.to_numeric(songs_in_hour_churned.hour)"
      ]
    },
    {
      "cell_type": "code",
      "execution_count": 61,
      "metadata": {
        "colab": {
          "base_uri": "https://localhost:8080/",
          "height": 590
        },
        "id": "eu2NqeWjLfOs",
        "outputId": "37eb9d9c-a704-4728-f480-558548443a28"
      },
      "outputs": [
        {
          "output_type": "execute_result",
          "data": {
            "text/plain": [
              "Text(0.5, 1.0, 'Number of Songs Played per Hour (Users Who Churned)')"
            ]
          },
          "metadata": {},
          "execution_count": 61
        },
        {
          "output_type": "display_data",
          "data": {
            "text/plain": [
              "<Figure size 800x600 with 1 Axes>"
            ],
            "image/png": "[encoded data removed]"
          },
          "metadata": {}
        }
      ],
      "source": [
        "# Plot the distribution of songs played per hour for users who churned\n",
        "plt.figure(figsize=[8, 6])\n",
        "plt.scatter(songs_in_hour_churned[\"hour\"], songs_in_hour_churned[\"count\"])\n",
        "plt.xlim(-1, 24)\n",
        "plt.xlabel(\"Hour\")\n",
        "plt.ylabel(\"Songs Played\")\n",
        "plt.title(\"Number of Songs Played per Hour (Users Who Churned)\")"
      ]
    },
    {
      "cell_type": "markdown",
      "metadata": {
        "id": "IpiKCm_RLfOs"
      },
      "source": [
        "It's evident that users who churned exhibited a similar distribution of song playback throughout the day. However, in comparison to users who remained, churned users listened to a lower number of songs per hour."
      ]
    },
    {
      "cell_type": "markdown",
      "metadata": {
        "id": "mtfwsu3ULfOs"
      },
      "source": [
        "### Songs per Session for Churned Users vs. Retained Users\n",
        "\n",
        "To visualize the average songs per session for both churned and retained users, we can create a bar chart that allows for a straightforward comparison between the two groups."
      ]
    },
    {
      "cell_type": "code",
      "execution_count": 62,
      "metadata": {
        "id": "g3Sj6mJQLfOt"
      },
      "outputs": [],
      "source": [
        "df_songs = df.filter(df.page == \"NextSong\").dropDuplicates().groupBy('sessionId','churn').count()"
      ]
    },
    {
      "cell_type": "code",
      "execution_count": 63,
      "metadata": {
        "colab": {
          "base_uri": "https://localhost:8080/"
        },
        "id": "GiSd5HI-LfOt",
        "outputId": "44f0609a-532b-4173-c289-e49b6fab17df"
      },
      "outputs": [
        {
          "output_type": "stream",
          "name": "stdout",
          "text": [
            "+-----+-----------------+\n",
            "|churn|       avg(count)|\n",
            "+-----+-----------------+\n",
            "|    0|67.57553956834532|\n",
            "|    1|90.32786885245902|\n",
            "+-----+-----------------+\n",
            "\n"
          ]
        }
      ],
      "source": [
        "# get average grouped by churn\n",
        "df_songs.groupby('churn').agg({\"count\":\"avg\"}).show()"
      ]
    },
    {
      "cell_type": "code",
      "execution_count": 64,
      "metadata": {
        "id": "BrCe-zwWLfOt"
      },
      "outputs": [],
      "source": [
        "df_songs = df_songs.groupby('churn').agg({\"count\":\"avg\"})"
      ]
    },
    {
      "cell_type": "code",
      "execution_count": 65,
      "metadata": {
        "id": "u4aI7L1sLfOu"
      },
      "outputs": [],
      "source": [
        "# to Pandas\n",
        "df_songs = df_songs.toPandas()"
      ]
    },
    {
      "cell_type": "code",
      "execution_count": 66,
      "metadata": {
        "colab": {
          "base_uri": "https://localhost:8080/",
          "height": 590
        },
        "id": "ZlOIqsFeLfOu",
        "outputId": "edfb32d1-8011-4bb6-cecd-84059867b1b5"
      },
      "outputs": [
        {
          "output_type": "execute_result",
          "data": {
            "text/plain": [
              "Text(0.5, 0, 'Churn')"
            ]
          },
          "metadata": {},
          "execution_count": 66
        },
        {
          "output_type": "display_data",
          "data": {
            "text/plain": [
              "<Figure size 800x600 with 1 Axes>"
            ],
            "image/png": "[encoded data removed]"
          },
          "metadata": {}
        }
      ],
      "source": [
        "# Plot the average number of songs played per session for users who churned and those who stayed\n",
        "plt.figure(figsize=[8, 6])\n",
        "ax = sns.barplot(data=df_songs, x='churn', y='avg(count)')\n",
        "plt.title(\"Average Number of Songs Played per Session for Churned Users vs. Retained Users\")\n",
        "plt.ylabel(\"Average Number of Songs Played Per Session\")\n",
        "plt.xlabel(\"Churn\")"
      ]
    },
    {
      "cell_type": "markdown",
      "metadata": {
        "id": "bFE_d4iKLfOv"
      },
      "source": [
        "The chart clearly illustrates that users who churned from Sparkify tended to listen to fewer songs on average per session compared to those who stayed."
      ]
    },
    {
      "cell_type": "markdown",
      "metadata": {
        "id": "-ilfW4NbLfOv"
      },
      "source": [
        "### Number of Unique Artists Listened to\n",
        "\n",
        "We can create a similar chart to visualize the number of unique artists that users listened to.\n",
        "\n",
        "\n",
        "\n",
        "\n"
      ]
    },
    {
      "cell_type": "code",
      "execution_count": 67,
      "metadata": {
        "id": "W1gcba_BLfOv"
      },
      "outputs": [],
      "source": [
        "# Create a DataFrame to count the number of unique artists per user and their churn status\n",
        "df_artists = df.select(\"artist\", \"userId\", \"churn\").dropDuplicates().groupby(\"userId\", \"churn\").count()"
      ]
    },
    {
      "cell_type": "code",
      "execution_count": 68,
      "metadata": {
        "colab": {
          "base_uri": "https://localhost:8080/"
        },
        "id": "rY9x7g3nLfOv",
        "outputId": "537bcffa-cdcc-4981-850f-6125a53ef3cb"
      },
      "outputs": [
        {
          "output_type": "stream",
          "name": "stdout",
          "text": [
            "+-----+-----------------+\n",
            "|churn|       avg(count)|\n",
            "+-----+-----------------+\n",
            "|    0|360.1138211382114|\n",
            "|    1|552.0666666666667|\n",
            "+-----+-----------------+\n",
            "\n"
          ]
        }
      ],
      "source": [
        "# Calculate the average number of unique artists per user for churned and non-churned users\n",
        "df_artists.groupby('churn').agg({\"count\": \"avg\"}).show()"
      ]
    },
    {
      "cell_type": "code",
      "execution_count": 69,
      "metadata": {
        "id": "70-myq5VLfOv"
      },
      "outputs": [],
      "source": [
        "# to Pandas\n",
        "df_artists = df_artists.toPandas()"
      ]
    },
    {
      "cell_type": "markdown",
      "metadata": {
        "id": "lpJFUkuLLfOv"
      },
      "source": [
        "Let's create a boxplot to visualize the maximum and median values for the number of unique artists listened to by both churned and non-churned users."
      ]
    },
    {
      "cell_type": "code",
      "execution_count": 70,
      "metadata": {
        "colab": {
          "base_uri": "https://localhost:8080/",
          "height": 590
        },
        "id": "MBIoaiCVLfOw",
        "outputId": "09375418-58bc-49c4-c3c9-7d6686fdfa0a"
      },
      "outputs": [
        {
          "output_type": "execute_result",
          "data": {
            "text/plain": [
              "Text(0, 0.5, 'Count')"
            ]
          },
          "metadata": {},
          "execution_count": 70
        },
        {
          "output_type": "display_data",
          "data": {
            "text/plain": [
              "<Figure size 800x600 with 1 Axes>"
            ],
            "image/png": "[encoded data removed]"
          },
          "metadata": {}
        }
      ],
      "source": [
        "# Plot a boxplot to compare the number of artists listened to by churned and non-churned users\n",
        "plt.figure(figsize=[8, 6])\n",
        "ax = sns.boxplot(data=df_artists, x='churn', y='count')\n",
        "plt.title(\"Number of Artists Listened to on Sparkify\")\n",
        "plt.xlabel(\"Churn\")\n",
        "plt.ylabel(\"Count\")"
      ]
    },
    {
      "cell_type": "markdown",
      "metadata": {
        "id": "a76JvT3ULfOw"
      },
      "source": [
        "The boxplot above clearly illustrates that users who didn't churn tended to listen to a larger number of different artists compared to those who churned."
      ]
    },
    {
      "cell_type": "markdown",
      "metadata": {
        "id": "JaCt-waRLfOw"
      },
      "source": [
        "### Location\n",
        "\n",
        "We want to see if location can be a feature decide which user is churned or not"
      ]
    },
    {
      "cell_type": "code",
      "execution_count": 71,
      "metadata": {
        "colab": {
          "base_uri": "https://localhost:8080/"
        },
        "id": "a804NQ0yLfOw",
        "outputId": "172147cf-9be6-4fa8-a2f5-a375b646698d"
      },
      "outputs": [
        {
          "output_type": "stream",
          "name": "stdout",
          "text": [
            "+--------------------+-----+\n",
            "|            location|count|\n",
            "+--------------------+-----+\n",
            "|     Gainesville, FL|  928|\n",
            "|Atlantic City-Ham...|  318|\n",
            "|Deltona-Daytona B...|   54|\n",
            "|San Diego-Carlsba...|   44|\n",
            "|Kingsport-Bristol...| 1150|\n",
            "|New Haven-Milford...|  318|\n",
            "|  Corpus Christi, TX|   11|\n",
            "|         Dubuque, IA|  124|\n",
            "|Las Vegas-Henders...|  362|\n",
            "|Indianapolis-Carm...|  934|\n",
            "|Seattle-Tacoma-Be...|  149|\n",
            "|   Winston-Salem, NC|  621|\n",
            "|     Bakersfield, CA|  512|\n",
            "|Los Angeles-Long ...|11120|\n",
            "|Minneapolis-St. P...|  226|\n",
            "|San Francisco-Oak...| 1055|\n",
            "|Phoenix-Mesa-Scot...| 2320|\n",
            "|Allentown-Bethleh...|  250|\n",
            "|Miami-Fort Lauder...| 1712|\n",
            "|           Selma, AL| 2027|\n",
            "+--------------------+-----+\n",
            "only showing top 20 rows\n",
            "\n"
          ]
        }
      ],
      "source": [
        "# Select the relevant columns, group by location, and count the number of users in each location\n",
        "df.select(\"location\", \"userId\", \"churn\").groupby(\"location\").count().show()"
      ]
    },
    {
      "cell_type": "markdown",
      "metadata": {
        "id": "WuWNYQ_mLfOw"
      },
      "source": [
        "We can see that two last characters in the location string is the state of that location so we should extract it to enrich our data."
      ]
    },
    {
      "cell_type": "code",
      "execution_count": 72,
      "metadata": {
        "id": "rojJ5i-eLfOw"
      },
      "outputs": [],
      "source": [
        "# Define a User-Defined Function (UDF) to extract the state from the location\n",
        "get_state = udf(lambda x: x[-2:])\n",
        "\n",
        "# Create a new column 'state' containing the extracted state information\n",
        "df_state = df.withColumn(\"state\", get_state(df.location))"
      ]
    },
    {
      "cell_type": "code",
      "execution_count": 73,
      "metadata": {
        "colab": {
          "base_uri": "https://localhost:8080/"
        },
        "id": "gFa7PwSNLfOx",
        "outputId": "a7a2787f-2712-49e4-9125-412db130348a"
      },
      "outputs": [
        {
          "output_type": "execute_result",
          "data": {
            "text/plain": [
              "[Row(artist=None, auth='Logged In', firstName='Colin', gender='M', itemInSession=81, lastName='Larson', length=None, level='paid', location='Dallas-Fort Worth-Arlington, TX', method='GET', page='Home', registration=1537982255000, sessionId=1210, song=None, status=200, ts=1540395773000, userAgent='Mozilla/5.0 (Windows NT 6.1; WOW64; rv:30.0) Gecko/20100101 Firefox/30.0', userId='100', churn=0, hour=15, state='TX')]"
            ]
          },
          "metadata": {},
          "execution_count": 73
        }
      ],
      "source": [
        "# double check\n",
        "df_state.head(1)"
      ]
    },
    {
      "cell_type": "code",
      "execution_count": 74,
      "metadata": {
        "id": "Q6PJPWp7LfOx"
      },
      "outputs": [],
      "source": [
        "# Create a DataFrame to count the number of users per state and their churn status\n",
        "df_state = df_state.select(\"state\", \"userId\", \"churn\").dropDuplicates().groupby(\"state\", \"churn\").count()"
      ]
    },
    {
      "cell_type": "code",
      "execution_count": 75,
      "metadata": {
        "id": "f3d4B1tMLfOx"
      },
      "outputs": [],
      "source": [
        "# to Pandas\n",
        "df_state_pd = df_state.toPandas()"
      ]
    },
    {
      "cell_type": "code",
      "execution_count": 76,
      "metadata": {
        "colab": {
          "base_uri": "https://localhost:8080/",
          "height": 939
        },
        "id": "D7KbYCvtLfOx",
        "outputId": "2dc458ce-670b-4f7f-e1fd-3e0a980b0135"
      },
      "outputs": [
        {
          "output_type": "execute_result",
          "data": {
            "text/plain": [
              "Text(0, 0.5, 'US State')"
            ]
          },
          "metadata": {},
          "execution_count": 76
        },
        {
          "output_type": "display_data",
          "data": {
            "text/plain": [
              "<Figure size 2000x1600 with 1 Axes>"
            ],
            "image/png": "[encoded data removed]"
          },
          "metadata": {}
        }
      ],
      "source": [
        "# Plot the count of users who churned vs. those who stayed by US state\n",
        "plt.figure(figsize=[20, 16])\n",
        "sns.barplot(data=df_state_pd, x='count', y='state', hue='churn')\n",
        "plt.title('Count of Users Who Churned vs. Users Who Stayed by US State')\n",
        "plt.xlabel('Count')\n",
        "plt.ylabel('US State')"
      ]
    },
    {
      "cell_type": "markdown",
      "metadata": {
        "id": "HoXYScZZLfOx"
      },
      "source": [
        "The majority of users were based in California (CA). Interestingly, in states like Michigan (MI), Kentucky (KY), and Ohio (OH), more users churned than stayed. Creating a useful feature from this information for modeling might be challenging. Let's set this aside for now and shift our focus to another column in our dataset: operating systems and browsers."
      ]
    },
    {
      "cell_type": "markdown",
      "metadata": {
        "id": "IsAAlJXnLfOx"
      },
      "source": [
        "### UserAgent: Operating System and Browsers"
      ]
    },
    {
      "cell_type": "code",
      "execution_count": 77,
      "metadata": {
        "id": "vYRe-AcBLfOx"
      },
      "outputs": [],
      "source": [
        "# Select the relevant columns and drop duplicate rows based on 'userId'\n",
        "df_opsys = df.select(\"userId\", \"userAgent\", \"churn\").dropDuplicates(['userId'])"
      ]
    },
    {
      "cell_type": "code",
      "execution_count": 78,
      "metadata": {
        "id": "WAuEIr7_LfOy"
      },
      "outputs": [],
      "source": [
        "# to Pandas\n",
        "df_opsys = df_opsys.toPandas()"
      ]
    },
    {
      "cell_type": "code",
      "execution_count": 79,
      "metadata": {
        "colab": {
          "base_uri": "https://localhost:8080/"
        },
        "id": "xecuKsgiLfOy",
        "outputId": "8cf79b62-c5b3-42a0-b78b-5bc96fa12f03"
      },
      "outputs": [
        {
          "output_type": "execute_result",
          "data": {
            "text/plain": [
              "\"Mozilla/5.0 (Windows NT 6.1; WOW64) AppleWebKit/537.36 (KHTML, like Gecko) Chrome/36.0.1985.143 Safari/537.36\"                                16\n",
              "Mozilla/5.0 (Windows NT 6.1; WOW64; rv:31.0) Gecko/20100101 Firefox/31.0                                                                       15\n",
              "\"Mozilla/5.0 (Macintosh; Intel Mac OS X 10_9_4) AppleWebKit/537.36 (KHTML, like Gecko) Chrome/36.0.1985.125 Safari/537.36\"                     12\n",
              "\"Mozilla/5.0 (Macintosh; Intel Mac OS X 10_9_4) AppleWebKit/537.36 (KHTML, like Gecko) Chrome/36.0.1985.143 Safari/537.36\"                     10\n",
              "\"Mozilla/5.0 (Macintosh; Intel Mac OS X 10_9_4) AppleWebKit/537.77.4 (KHTML, like Gecko) Version/7.0.5 Safari/537.77.4\"                         8\n",
              "\"Mozilla/5.0 (Windows NT 6.1; WOW64) AppleWebKit/537.36 (KHTML, like Gecko) Chrome/36.0.1985.125 Safari/537.36\"                                 5\n",
              "\"Mozilla/5.0 (Macintosh; Intel Mac OS X 10_9_4) AppleWebKit/537.78.2 (KHTML, like Gecko) Version/7.0.6 Safari/537.78.2\"                         5\n",
              "\"Mozilla/5.0 (Macintosh; Intel Mac OS X 10_9_4) AppleWebKit/537.36 (KHTML, like Gecko) Chrome/37.0.2062.94 Safari/537.36\"                       5\n",
              "\"Mozilla/5.0 (Windows NT 6.3; WOW64) AppleWebKit/537.36 (KHTML, like Gecko) Chrome/36.0.1985.143 Safari/537.36\"                                 5\n",
              "Mozilla/5.0 (Windows NT 6.3; WOW64; rv:31.0) Gecko/20100101 Firefox/31.0                                                                        4\n",
              "Mozilla/5.0 (Macintosh; Intel Mac OS X 10.9; rv:31.0) Gecko/20100101 Firefox/31.0                                                               4\n",
              "\"Mozilla/5.0 (Windows NT 6.1; WOW64) AppleWebKit/537.36 (KHTML, like Gecko) Chrome/37.0.2062.94 Safari/537.36\"                                  3\n",
              "Mozilla/5.0 (Windows NT 6.1; WOW64; Trident/7.0; rv:11.0) like Gecko                                                                            3\n",
              "\"Mozilla/5.0 (iPhone; CPU iPhone OS 7_1_2 like Mac OS X) AppleWebKit/537.51.2 (KHTML, like Gecko) Version/7.0 Mobile/11D257 Safari/9537.53\"     3\n",
              "\"Mozilla/5.0 (Windows NT 5.1) AppleWebKit/537.36 (KHTML, like Gecko) Chrome/36.0.1985.143 Safari/537.36\"                                        3\n",
              "\"Mozilla/5.0 (Windows NT 6.1; WOW64) AppleWebKit/537.36 (KHTML, like Gecko) Chrome/37.0.2062.103 Safari/537.36\"                                 3\n",
              "\"Mozilla/5.0 (Windows NT 6.3; WOW64) AppleWebKit/537.36 (KHTML, like Gecko) Chrome/36.0.1985.125 Safari/537.36\"                                 3\n",
              "\"Mozilla/5.0 (Windows NT 6.2; WOW64) AppleWebKit/537.36 (KHTML, like Gecko) Chrome/36.0.1985.143 Safari/537.36\"                                 2\n",
              "Mozilla/5.0 (compatible; MSIE 9.0; Windows NT 6.1; WOW64; Trident/5.0)                                                                          2\n",
              "\"Mozilla/5.0 (Macintosh; Intel Mac OS X 10_9_2) AppleWebKit/537.36 (KHTML, like Gecko) Chrome/36.0.1985.125 Safari/537.36\"                      1\n",
              "Mozilla/5.0 (Windows NT 6.1; WOW64; rv:32.0) Gecko/20100101 Firefox/32.0                                                                        1\n",
              "Mozilla/5.0 (Macintosh; Intel Mac OS X 10.6; rv:31.0) Gecko/20100101 Firefox/31.0                                                               1\n",
              "Mozilla/5.0 (X11; Linux x86_64; rv:31.0) Gecko/20100101 Firefox/31.0                                                                            1\n",
              "Mozilla/5.0 (Macintosh; Intel Mac OS X 10.8; rv:31.0) Gecko/20100101 Firefox/31.0                                                               1\n",
              "\"Mozilla/5.0 (iPhone; CPU iPhone OS 7_1_1 like Mac OS X) AppleWebKit/537.51.2 (KHTML, like Gecko) Version/7.0 Mobile/11D201 Safari/9537.53\"     1\n",
              "\"Mozilla/5.0 (Macintosh; Intel Mac OS X 10_8_5) AppleWebKit/537.36 (KHTML, like Gecko) Chrome/36.0.1985.143 Safari/537.36\"                      1\n",
              "\"Mozilla/5.0 (Macintosh; Intel Mac OS X 10_10) AppleWebKit/600.1.3 (KHTML, like Gecko) Version/8.0 Safari/600.1.3\"                              1\n",
              "Mozilla/5.0 (Windows NT 6.1; rv:31.0) Gecko/20100101 Firefox/31.0                                                                               1\n",
              "\"Mozilla/5.0 (X11; Linux x86_64) AppleWebKit/537.36 (KHTML, like Gecko) Chrome/36.0.1985.125 Safari/537.36\"                                     1\n",
              "\"Mozilla/5.0 (iPad; CPU OS 7_1_2 like Mac OS X) AppleWebKit/537.51.2 (KHTML, like Gecko) Version/7.0 Mobile/11D257 Safari/9537.53\"              1\n",
              "\"Mozilla/5.0 (Macintosh; Intel Mac OS X 10_9_2) AppleWebKit/537.75.14 (KHTML, like Gecko) Version/7.0.3 Safari/537.75.14\"                       1\n",
              "\"Mozilla/5.0 (iPad; CPU OS 7_1_1 like Mac OS X) AppleWebKit/537.51.2 (KHTML, like Gecko) Version/7.0 Mobile/11D201 Safari/9537.53\"              1\n",
              "\"Mozilla/5.0 (Windows NT 6.1) AppleWebKit/537.36 (KHTML, like Gecko) Chrome/36.0.1985.143 Safari/537.36\"                                        1\n",
              "Mozilla/5.0 (Windows NT 6.0; rv:31.0) Gecko/20100101 Firefox/31.0                                                                               1\n",
              "Mozilla/5.0 (Windows NT 6.1; WOW64; rv:24.0) Gecko/20100101 Firefox/24.0                                                                        1\n",
              "\"Mozilla/5.0 (X11; Linux x86_64) AppleWebKit/537.36 (KHTML, like Gecko) Chrome/36.0.1985.143 Safari/537.36\"                                     1\n",
              "\"Mozilla/5.0 (Macintosh; Intel Mac OS X 10_9_2) AppleWebKit/537.74.9 (KHTML, like Gecko) Version/7.0.2 Safari/537.74.9\"                         1\n",
              "Mozilla/5.0 (Windows NT 6.1; WOW64; rv:30.0) Gecko/20100101 Firefox/30.0                                                                        1\n",
              "\"Mozilla/5.0 (Macintosh; Intel Mac OS X 10_9_3) AppleWebKit/537.76.4 (KHTML, like Gecko) Version/7.0.4 Safari/537.76.4\"                         1\n",
              "Mozilla/5.0 (X11; Ubuntu; Linux i686; rv:31.0) Gecko/20100101 Firefox/31.0                                                                      1\n",
              "Mozilla/5.0 (X11; Ubuntu; Linux x86_64; rv:31.0) Gecko/20100101 Firefox/31.0                                                                    1\n",
              "\"Mozilla/5.0 (Windows NT 6.2; WOW64) AppleWebKit/537.36 (KHTML, like Gecko) Chrome/36.0.1985.125 Safari/537.36\"                                 1\n",
              "\"Mozilla/5.0 (Macintosh; Intel Mac OS X 10_8_5) AppleWebKit/537.36 (KHTML, like Gecko) Chrome/37.0.2062.94 Safari/537.36\"                       1\n",
              "\"Mozilla/5.0 (Windows NT 6.1) AppleWebKit/537.36 (KHTML, like Gecko) Chrome/36.0.1985.125 Safari/537.36\"                                        1\n",
              "Mozilla/5.0 (Windows NT 6.2; WOW64; rv:31.0) Gecko/20100101 Firefox/31.0                                                                        1\n",
              "Mozilla/5.0 (compatible; MSIE 10.0; Windows NT 6.1; WOW64; Trident/6.0)                                                                         1\n",
              "Name: userAgent, dtype: int64"
            ]
          },
          "metadata": {},
          "execution_count": 79
        }
      ],
      "source": [
        "# Get the possible list of operating systems and their counts\n",
        "df_opsys.userAgent.value_counts()"
      ]
    },
    {
      "cell_type": "code",
      "execution_count": 80,
      "metadata": {
        "id": "dRQecLhILfOy"
      },
      "outputs": [],
      "source": [
        "# create list of OS\n",
        "os_list = [\"Windows\", \"Mac\", \"Linux\", \"iPhone\", \"iPad\"]"
      ]
    },
    {
      "cell_type": "code",
      "execution_count": 81,
      "metadata": {
        "id": "hpr-_VTlLfOy"
      },
      "outputs": [],
      "source": [
        "# Create the 'os' column and extract strings that match the os_list and add them to the column\n",
        "df_opsys['os'] = df_opsys.userAgent.str.extract('(?i)({0})'.format('|'.join(os_list)))"
      ]
    },
    {
      "cell_type": "code",
      "execution_count": 82,
      "metadata": {
        "colab": {
          "base_uri": "https://localhost:8080/",
          "height": 206
        },
        "id": "O8OGQtUQLfOy",
        "outputId": "dab93bf2-531b-497a-f7ed-0e4b3cee62f6"
      },
      "outputs": [
        {
          "output_type": "execute_result",
          "data": {
            "text/plain": [
              "  userId                                          userAgent  churn       os\n",
              "0     10  \"Mozilla/5.0 (Macintosh; Intel Mac OS X 10_9_4...      0      Mac\n",
              "1    100  Mozilla/5.0 (Windows NT 6.1; WOW64; rv:30.0) G...      0  Windows\n",
              "2    101  Mozilla/5.0 (Windows NT 6.2; WOW64; rv:31.0) G...      1  Windows\n",
              "3    102  \"Mozilla/5.0 (Windows NT 6.1; WOW64) AppleWebK...      0  Windows\n",
              "4    103  \"Mozilla/5.0 (Macintosh; Intel Mac OS X 10_9_4...      0      Mac"
            ],
            "text/html": [
              "\n",
              "  <div id=\"df-9c1d8d37-b775-4665-b3a9-32ba1b3d775d\" class=\"colab-df-container\">\n",
              "    <div>\n",
              "<style scoped>\n",
              "    .dataframe tbody tr th:only-of-type {\n",
              "        vertical-align: middle;\n",
              "    }\n",
              "\n",
              "    .dataframe tbody tr th {\n",
              "        vertical-align: top;\n",
              "    }\n",
              "\n",
              "    .dataframe thead th {\n",
              "        text-align: right;\n",
              "    }\n",
              "</style>\n",
              "<table border=\"1\" class=\"dataframe\">\n",
              "  <thead>\n",
              "    <tr style=\"text-align: right;\">\n",
              "      <th></th>\n",
              "      <th>userId</th>\n",
              "      <th>userAgent</th>\n",
              "      <th>churn</th>\n",
              "      <th>os</th>\n",
              "    </tr>\n",
              "  </thead>\n",
              "  <tbody>\n",
              "    <tr>\n",
              "      <th>0</th>\n",
              "      <td>10</td>\n",
              "      <td>\"Mozilla/5.0 (Macintosh; Intel Mac OS X 10_9_4...</td>\n",
              "      <td>0</td>\n",
              "      <td>Mac</td>\n",
              "    </tr>\n",
              "    <tr>\n",
              "      <th>1</th>\n",
              "      <td>100</td>\n",
              "      <td>Mozilla/5.0 (Windows NT 6.1; WOW64; rv:30.0) G...</td>\n",
              "      <td>0</td>\n",
              "      <td>Windows</td>\n",
              "    </tr>\n",
              "    <tr>\n",
              "      <th>2</th>\n",
              "      <td>101</td>\n",
              "      <td>Mozilla/5.0 (Windows NT 6.2; WOW64; rv:31.0) G...</td>\n",
              "      <td>1</td>\n",
              "      <td>Windows</td>\n",
              "    </tr>\n",
              "    <tr>\n",
              "      <th>3</th>\n",
              "      <td>102</td>\n",
              "      <td>\"Mozilla/5.0 (Windows NT 6.1; WOW64) AppleWebK...</td>\n",
              "      <td>0</td>\n",
              "      <td>Windows</td>\n",
              "    </tr>\n",
              "    <tr>\n",
              "      <th>4</th>\n",
              "      <td>103</td>\n",
              "      <td>\"Mozilla/5.0 (Macintosh; Intel Mac OS X 10_9_4...</td>\n",
              "      <td>0</td>\n",
              "      <td>Mac</td>\n",
              "    </tr>\n",
              "  </tbody>\n",
              "</table>\n",
              "</div>\n",
              "    <div class=\"colab-df-buttons\">\n",
              "\n",
              "  <div class=\"colab-df-container\">\n",
              "    <button class=\"colab-df-convert\" onclick=\"convertToInteractive('df-9c1d8d37-b775-4665-b3a9-32ba1b3d775d')\"\n",
              "            title=\"Convert this dataframe to an interactive table.\"\n",
              "            style=\"display:none;\">\n",
              "\n",
              "  <svg xmlns=\"http://www.w3.org/2000/svg\" height=\"24px\" viewBox=\"0 -960 960 960\">\n",
              "    <path d=\"M120-120v-720h720v720H120Zm60-500h600v-160H180v160Zm220 220h160v-160H400v160Zm0 220h160v-160H400v160ZM180-400h160v-160H180v160Zm440 0h160v-160H620v160ZM180-180h160v-160H180v160Zm440 0h160v-160H620v160Z\"/>\n",
              "  </svg>\n",
              "    </button>\n",
              "\n",
              "  <style>\n",
              "    .colab-df-container {\n",
              "      display:flex;\n",
              "      gap: 12px;\n",
              "    }\n",
              "\n",
              "    .colab-df-convert {\n",
              "      background-color: #E8F0FE;\n",
              "      border: none;\n",
              "      border-radius: 50%;\n",
              "      cursor: pointer;\n",
              "      display: none;\n",
              "      fill: #1967D2;\n",
              "      height: 32px;\n",
              "      padding: 0 0 0 0;\n",
              "      width: 32px;\n",
              "    }\n",
              "\n",
              "    .colab-df-convert:hover {\n",
              "      background-color: #E2EBFA;\n",
              "      box-shadow: 0px 1px 2px rgba(60, 64, 67, 0.3), 0px 1px 3px 1px rgba(60, 64, 67, 0.15);\n",
              "      fill: #174EA6;\n",
              "    }\n",
              "\n",
              "    .colab-df-buttons div {\n",
              "      margin-bottom: 4px;\n",
              "    }\n",
              "\n",
              "    [theme=dark] .colab-df-convert {\n",
              "      background-color: #3B4455;\n",
              "      fill: #D2E3FC;\n",
              "    }\n",
              "\n",
              "    [theme=dark] .colab-df-convert:hover {\n",
              "      background-color: #434B5C;\n",
              "      box-shadow: 0px 1px 3px 1px rgba(0, 0, 0, 0.15);\n",
              "      filter: drop-shadow(0px 1px 2px rgba(0, 0, 0, 0.3));\n",
              "      fill: #FFFFFF;\n",
              "    }\n",
              "  </style>\n",
              "\n",
              "    <script>\n",
              "      const buttonEl =\n",
              "        document.querySelector('#df-9c1d8d37-b775-4665-b3a9-32ba1b3d775d button.colab-df-convert');\n",
              "      buttonEl.style.display =\n",
              "        google.colab.kernel.accessAllowed ? 'block' : 'none';\n",
              "\n",
              "      async function convertToInteractive(key) {\n",
              "        const element = document.querySelector('#df-9c1d8d37-b775-4665-b3a9-32ba1b3d775d');\n",
              "        const dataTable =\n",
              "          await google.colab.kernel.invokeFunction('convertToInteractive',\n",
              "                                                    [key], {});\n",
              "        if (!dataTable) return;\n",
              "\n",
              "        const docLinkHtml = 'Like what you see? Visit the ' +\n",
              "          '<a target=\"_blank\" href=https://colab.research.google.com/notebooks/data_table.ipynb>data table notebook</a>'\n",
              "          + ' to learn more about interactive tables.';\n",
              "        element.innerHTML = '';\n",
              "        dataTable['output_type'] = 'display_data';\n",
              "        await google.colab.output.renderOutput(dataTable, element);\n",
              "        const docLink = document.createElement('div');\n",
              "        docLink.innerHTML = docLinkHtml;\n",
              "        element.appendChild(docLink);\n",
              "      }\n",
              "    </script>\n",
              "  </div>\n",
              "\n",
              "\n",
              "<div id=\"df-d7e76974-d013-4046-a3e1-2d8e8cc29622\">\n",
              "  <button class=\"colab-df-quickchart\" onclick=\"quickchart('df-d7e76974-d013-4046-a3e1-2d8e8cc29622')\"\n",
              "            title=\"Suggest charts.\"\n",
              "            style=\"display:none;\">\n",
              "\n",
              "<svg xmlns=\"http://www.w3.org/2000/svg\" height=\"24px\"viewBox=\"0 0 24 24\"\n",
              "     width=\"24px\">\n",
              "    <g>\n",
              "        <path d=\"M19 3H5c-1.1 0-2 .9-2 2v14c0 1.1.9 2 2 2h14c1.1 0 2-.9 2-2V5c0-1.1-.9-2-2-2zM9 17H7v-7h2v7zm4 0h-2V7h2v10zm4 0h-2v-4h2v4z\"/>\n",
              "    </g>\n",
              "</svg>\n",
              "  </button>\n",
              "\n",
              "<style>\n",
              "  .colab-df-quickchart {\n",
              "      --bg-color: #E8F0FE;\n",
              "      --fill-color: #1967D2;\n",
              "      --hover-bg-color: #E2EBFA;\n",
              "      --hover-fill-color: #174EA6;\n",
              "      --disabled-fill-color: #AAA;\n",
              "      --disabled-bg-color: #DDD;\n",
              "  }\n",
              "\n",
              "  [theme=dark] .colab-df-quickchart {\n",
              "      --bg-color: #3B4455;\n",
              "      --fill-color: #D2E3FC;\n",
              "      --hover-bg-color: #434B5C;\n",
              "      --hover-fill-color: #FFFFFF;\n",
              "      --disabled-bg-color: #3B4455;\n",
              "      --disabled-fill-color: #666;\n",
              "  }\n",
              "\n",
              "  .colab-df-quickchart {\n",
              "    background-color: var(--bg-color);\n",
              "    border: none;\n",
              "    border-radius: 50%;\n",
              "    cursor: pointer;\n",
              "    display: none;\n",
              "    fill: var(--fill-color);\n",
              "    height: 32px;\n",
              "    padding: 0;\n",
              "    width: 32px;\n",
              "  }\n",
              "\n",
              "  .colab-df-quickchart:hover {\n",
              "    background-color: var(--hover-bg-color);\n",
              "    box-shadow: 0 1px 2px rgba(60, 64, 67, 0.3), 0 1px 3px 1px rgba(60, 64, 67, 0.15);\n",
              "    fill: var(--button-hover-fill-color);\n",
              "  }\n",
              "\n",
              "  .colab-df-quickchart-complete:disabled,\n",
              "  .colab-df-quickchart-complete:disabled:hover {\n",
              "    background-color: var(--disabled-bg-color);\n",
              "    fill: var(--disabled-fill-color);\n",
              "    box-shadow: none;\n",
              "  }\n",
              "\n",
              "  .colab-df-spinner {\n",
              "    border: 2px solid var(--fill-color);\n",
              "    border-color: transparent;\n",
              "    border-bottom-color: var(--fill-color);\n",
              "    animation:\n",
              "      spin 1s steps(1) infinite;\n",
              "  }\n",
              "\n",
              "  @keyframes spin {\n",
              "    0% {\n",
              "      border-color: transparent;\n",
              "      border-bottom-color: var(--fill-color);\n",
              "      border-left-color: var(--fill-color);\n",
              "    }\n",
              "    20% {\n",
              "      border-color: transparent;\n",
              "      border-left-color: var(--fill-color);\n",
              "      border-top-color: var(--fill-color);\n",
              "    }\n",
              "    30% {\n",
              "      border-color: transparent;\n",
              "      border-left-color: var(--fill-color);\n",
              "      border-top-color: var(--fill-color);\n",
              "      border-right-color: var(--fill-color);\n",
              "    }\n",
              "    40% {\n",
              "      border-color: transparent;\n",
              "      border-right-color: var(--fill-color);\n",
              "      border-top-color: var(--fill-color);\n",
              "    }\n",
              "    60% {\n",
              "      border-color: transparent;\n",
              "      border-right-color: var(--fill-color);\n",
              "    }\n",
              "    80% {\n",
              "      border-color: transparent;\n",
              "      border-right-color: var(--fill-color);\n",
              "      border-bottom-color: var(--fill-color);\n",
              "    }\n",
              "    90% {\n",
              "      border-color: transparent;\n",
              "      border-bottom-color: var(--fill-color);\n",
              "    }\n",
              "  }\n",
              "</style>\n",
              "\n",
              "  <script>\n",
              "    async function quickchart(key) {\n",
              "      const quickchartButtonEl =\n",
              "        document.querySelector('#' + key + ' button');\n",
              "      quickchartButtonEl.disabled = true;  // To prevent multiple clicks.\n",
              "      quickchartButtonEl.classList.add('colab-df-spinner');\n",
              "      try {\n",
              "        const charts = await google.colab.kernel.invokeFunction(\n",
              "            'suggestCharts', [key], {});\n",
              "      } catch (error) {\n",
              "        console.error('Error during call to suggestCharts:', error);\n",
              "      }\n",
              "      quickchartButtonEl.classList.remove('colab-df-spinner');\n",
              "      quickchartButtonEl.classList.add('colab-df-quickchart-complete');\n",
              "    }\n",
              "    (() => {\n",
              "      let quickchartButtonEl =\n",
              "        document.querySelector('#df-d7e76974-d013-4046-a3e1-2d8e8cc29622 button');\n",
              "      quickchartButtonEl.style.display =\n",
              "        google.colab.kernel.accessAllowed ? 'block' : 'none';\n",
              "    })();\n",
              "  </script>\n",
              "</div>\n",
              "    </div>\n",
              "  </div>\n"
            ]
          },
          "metadata": {},
          "execution_count": 82
        }
      ],
      "source": [
        "# check that worked\n",
        "df_opsys.head(5)"
      ]
    },
    {
      "cell_type": "code",
      "execution_count": 83,
      "metadata": {
        "colab": {
          "base_uri": "https://localhost:8080/"
        },
        "id": "wesNnt6eLfOy",
        "outputId": "9893b4f7-c6bc-415d-849c-49dd1477dd70"
      },
      "outputs": [
        {
          "output_type": "execute_result",
          "data": {
            "text/plain": [
              "Windows    74\n",
              "Mac        53\n",
              "Linux       5\n",
              "iPhone      4\n",
              "iPad        2\n",
              "Name: os, dtype: int64"
            ]
          },
          "metadata": {},
          "execution_count": 83
        }
      ],
      "source": [
        "# the statics of OS column\n",
        "df_opsys.os.value_counts()"
      ]
    },
    {
      "cell_type": "code",
      "execution_count": 84,
      "metadata": {
        "colab": {
          "base_uri": "https://localhost:8080/",
          "height": 744
        },
        "id": "5v0c3w-3LfOy",
        "outputId": "b1c86439-6e5b-4ed1-91f0-bb2de6436def"
      },
      "outputs": [
        {
          "output_type": "execute_result",
          "data": {
            "text/plain": [
              "<matplotlib.legend.Legend at 0x78eb2e68cd90>"
            ]
          },
          "metadata": {},
          "execution_count": 84
        },
        {
          "output_type": "display_data",
          "data": {
            "text/plain": [
              "<Figure size 1000x800 with 1 Axes>"
            ],
            "image/png": "[encoded data removed]"
          },
          "metadata": {}
        }
      ],
      "source": [
        "# Plot the count of users who churned vs. those who stayed by operating system\n",
        "plt.figure(figsize=[10, 8])\n",
        "sns.countplot(data=df_opsys, x='os', hue='churn')\n",
        "plt.title('Count of Users Who Churned vs. Users Who Stayed by Operating System')\n",
        "plt.xlabel('Operating System')\n",
        "plt.legend(loc=1, ncol=2, framealpha=1, title='Churn')"
      ]
    },
    {
      "cell_type": "markdown",
      "metadata": {
        "id": "W7HhgLKILfOz"
      },
      "source": [
        "\n",
        "Among the operating systems, Windows was the most commonly used. Interestingly, Linux users had the highest rate of churn. However, this impact is limited to very few customers, and as such, it won't be a significant factor in our modeling efforts. We can do it the same with browsers."
      ]
    },
    {
      "cell_type": "code",
      "execution_count": 85,
      "metadata": {
        "id": "tH6LcbhBLfOz"
      },
      "outputs": [],
      "source": [
        "#define browser list\n",
        "browser_list = [\"Opera\", \"Microsoft Edge\", \"Vivaldi\", \"Internet Explorer\", \"Brave\", \"UC Browser\", \"Chrome\", \"Firefox\", \"Safari\", \"Trident\"]"
      ]
    },
    {
      "cell_type": "code",
      "execution_count": 86,
      "metadata": {
        "id": "__9gh1ZcLfOz"
      },
      "outputs": [],
      "source": [
        "# create a new column browser from userAgent column\n",
        "df_opsys['browser'] = df_opsys.userAgent.str.extract('(?i)({0})'.format('|'.join(browser_list)))"
      ]
    },
    {
      "cell_type": "code",
      "execution_count": 87,
      "metadata": {
        "colab": {
          "base_uri": "https://localhost:8080/"
        },
        "id": "ZKn9Qw53LfOz",
        "outputId": "719389a1-dc13-43f2-e0e4-0c00277a447b"
      },
      "outputs": [
        {
          "output_type": "execute_result",
          "data": {
            "text/plain": [
              "Chrome     75\n",
              "Firefox    34\n",
              "Safari     23\n",
              "Trident     6\n",
              "Name: browser, dtype: int64"
            ]
          },
          "metadata": {},
          "execution_count": 87
        }
      ],
      "source": [
        "# count number of records base on browser\n",
        "df_opsys.browser.value_counts()"
      ]
    },
    {
      "cell_type": "markdown",
      "metadata": {
        "id": "Xzi6O4Q1LfOz"
      },
      "source": [
        "Here, \"Trident\" refers to Internet Explorer software. Let's replace \"Trident\" with \"Internet Explorer,\" as it is more commonly recognized."
      ]
    },
    {
      "cell_type": "code",
      "execution_count": 88,
      "metadata": {
        "id": "VjcUM9-6LfOz"
      },
      "outputs": [],
      "source": [
        "# replace \"Trident\" records with \"Internet Explorer\"\n",
        "df_opsys['browser'].replace({\"Trident\": \"Internet Explorer\"}, inplace=True)"
      ]
    },
    {
      "cell_type": "code",
      "execution_count": 89,
      "metadata": {
        "colab": {
          "base_uri": "https://localhost:8080/",
          "height": 727
        },
        "id": "5l9dzag9LfOz",
        "outputId": "2df1ae69-6d90-4a73-da3f-d7218b56574c"
      },
      "outputs": [
        {
          "output_type": "display_data",
          "data": {
            "text/plain": [
              "<Figure size 1000x800 with 1 Axes>"
            ],
            "image/png": "[encoded data removed]"
          },
          "metadata": {}
        }
      ],
      "source": [
        "plt.figure(figsize=[10,8])\n",
        "sns.countplot(data = df_opsys, x = 'browser', hue ='churn')\n",
        "plt.title('Count of Churned Users vs. Retained Users by Browser')\n",
        "plt.legend(loc = 1, ncol = 2, framealpha =1, title = 'level');"
      ]
    },
    {
      "cell_type": "markdown",
      "metadata": {
        "id": "Mxdu7JJdLfO0"
      },
      "source": [
        "- Chrome emerged as the most popular browser among users.\n",
        "- Firefox users exhibited a higher likelihood of churning.\n",
        "- Internet Explorer had the lowest number of users who churned.\n",
        "- There doesn't appear to be a clear association between browser choice and user churn. Consequently, this feature may not be a significant predictor for our churn prediction model."
      ]
    },
    {
      "cell_type": "markdown",
      "metadata": {
        "id": "-rA3Z9MZLfO0"
      },
      "source": [
        "### Days Since Registration for Sparkify\n",
        "\n",
        "Let's take a look at the number of days since a user had registered"
      ]
    },
    {
      "cell_type": "code",
      "execution_count": 90,
      "metadata": {
        "id": "8sUuWEouLfO0"
      },
      "outputs": [],
      "source": [
        "# Select relevant columns, remove duplicates, and sort by 'userId'\n",
        "df_days = df.select(['userId', 'registration', 'ts', 'churn']).dropDuplicates().sort('userId')"
      ]
    },
    {
      "cell_type": "code",
      "execution_count": 91,
      "metadata": {
        "id": "3zqrCSVOLfO0"
      },
      "outputs": [],
      "source": [
        "# Order by last timestamp within each user's data\n",
        "w = Window.partitionBy(\"userId\").orderBy(desc(\"ts\"))\n",
        "\n",
        "# Create a rank column with the most recent timestamp as rank number 1\n",
        "df_days = df_days.withColumn(\"Rank\", dense_rank().over(w))"
      ]
    },
    {
      "cell_type": "code",
      "execution_count": 92,
      "metadata": {
        "id": "DldpgSGaLfO0"
      },
      "outputs": [],
      "source": [
        "# just get those with a rank of 1 i.e the first rows\n",
        "df_days = df_days.filter(df_days.Rank == 1).drop(df_days.Rank)"
      ]
    },
    {
      "cell_type": "code",
      "execution_count": 93,
      "metadata": {
        "colab": {
          "base_uri": "https://localhost:8080/"
        },
        "id": "-EPUBYgALfO0",
        "outputId": "9d4174d4-6823-4807-a1f7-9e15a8f05907"
      },
      "outputs": [
        {
          "output_type": "stream",
          "name": "stdout",
          "text": [
            "+------+-------------+-------------+-----+\n",
            "|userId| registration|           ts|churn|\n",
            "+------+-------------+-------------+-----+\n",
            "|    10|1538159495000|1539926798000|    0|\n",
            "|   100|1537982255000|1540395773000|    0|\n",
            "|   101|1535066380000|1539729037000|    1|\n",
            "|   102|1537915702000|1539772333000|    0|\n",
            "|   103|1537699856000|1540080480000|    0|\n",
            "|   104|1532498424000|1540350730000|    0|\n",
            "|   105|1536817381000|1539375441000|    1|\n",
            "|   106|1537679535000|1540395758000|    0|\n",
            "|   107|1536303841000|1539179853000|    0|\n",
            "|   108|1538215963000|1540393421000|    0|\n",
            "|   109|1534768517000|1540458806000|    0|\n",
            "|    11|1532554781000|1539569675000|    0|\n",
            "|   110|1537665002000|1538487558000|    0|\n",
            "|   111|1536372490000|1539663641000|    0|\n",
            "|   112|1536032681000|1540410364000|    0|\n",
            "|   113|1532920994000|1540060314000|    0|\n",
            "|   114|1536831228000|1540452235000|    0|\n",
            "|   115|1536948181000|1540458742000|    0|\n",
            "|   117|1537142824000|1539183980000|    0|\n",
            "|   118|1537893493000|1540394576000|    0|\n",
            "+------+-------------+-------------+-----+\n",
            "only showing top 20 rows\n",
            "\n"
          ]
        }
      ],
      "source": [
        "df_days.show()"
      ]
    },
    {
      "cell_type": "code",
      "execution_count": 94,
      "metadata": {
        "id": "GHYunNeTLfO0"
      },
      "outputs": [],
      "source": [
        "# Calculate the time difference in days by subtracting 'registration' from 'ts'\n",
        "df_days = df_days.withColumn(\"delta_days\", (df_days['ts']) - (df_days['registration']))"
      ]
    },
    {
      "cell_type": "code",
      "execution_count": 95,
      "metadata": {
        "colab": {
          "base_uri": "https://localhost:8080/"
        },
        "id": "RrwK0XveLfO1",
        "outputId": "ec373b50-880e-4782-fa20-31cbeab10c1e"
      },
      "outputs": [
        {
          "output_type": "stream",
          "name": "stdout",
          "text": [
            "+------+-------------+-------------+-----+----------+\n",
            "|userId| registration|           ts|churn|delta_days|\n",
            "+------+-------------+-------------+-----+----------+\n",
            "|    10|1538159495000|1539926798000|    0|1767303000|\n",
            "|   100|1537982255000|1540395773000|    0|2413518000|\n",
            "|   101|1535066380000|1539729037000|    1|4662657000|\n",
            "|   102|1537915702000|1539772333000|    0|1856631000|\n",
            "|   103|1537699856000|1540080480000|    0|2380624000|\n",
            "|   104|1532498424000|1540350730000|    0|7852306000|\n",
            "|   105|1536817381000|1539375441000|    1|2558060000|\n",
            "|   106|1537679535000|1540395758000|    0|2716223000|\n",
            "|   107|1536303841000|1539179853000|    0|2876012000|\n",
            "|   108|1538215963000|1540393421000|    0|2177458000|\n",
            "|   109|1534768517000|1540458806000|    0|5690289000|\n",
            "|    11|1532554781000|1539569675000|    0|7014894000|\n",
            "|   110|1537665002000|1538487558000|    0| 822556000|\n",
            "|   111|1536372490000|1539663641000|    0|3291151000|\n",
            "|   112|1536032681000|1540410364000|    0|4377683000|\n",
            "|   113|1532920994000|1540060314000|    0|7139320000|\n",
            "|   114|1536831228000|1540452235000|    0|3621007000|\n",
            "|   115|1536948181000|1540458742000|    0|3510561000|\n",
            "|   117|1537142824000|1539183980000|    0|2041156000|\n",
            "|   118|1537893493000|1540394576000|    0|2501083000|\n",
            "+------+-------------+-------------+-----+----------+\n",
            "only showing top 20 rows\n",
            "\n"
          ]
        }
      ],
      "source": [
        "df_days.show()"
      ]
    },
    {
      "cell_type": "code",
      "execution_count": 96,
      "metadata": {
        "id": "3_8zozckLfO1"
      },
      "outputs": [],
      "source": [
        "# Convert the time difference to days\n",
        "df_days = df_days.withColumn('days', (df_days['delta_days'] / 1000 / 3600 / 24))"
      ]
    },
    {
      "cell_type": "code",
      "execution_count": 97,
      "metadata": {
        "colab": {
          "base_uri": "https://localhost:8080/"
        },
        "id": "lJtM_kpmLfO1",
        "outputId": "4186f820-acef-4cfe-ab1c-7c8fdb459685"
      },
      "outputs": [
        {
          "output_type": "stream",
          "name": "stdout",
          "text": [
            "+------+-------------+-------------+-----+----------+------------------+\n",
            "|userId| registration|           ts|churn|delta_days|              days|\n",
            "+------+-------------+-------------+-----+----------+------------------+\n",
            "|    10|1538159495000|1539926798000|    0|1767303000|20.454895833333335|\n",
            "|   100|1537982255000|1540395773000|    0|2413518000|27.934236111111108|\n",
            "|   101|1535066380000|1539729037000|    1|4662657000|53.965937499999995|\n",
            "|   102|1537915702000|1539772333000|    0|1856631000| 21.48878472222222|\n",
            "|   103|1537699856000|1540080480000|    0|2380624000| 27.55351851851852|\n",
            "|   104|1532498424000|1540350730000|    0|7852306000| 90.88317129629628|\n",
            "|   105|1536817381000|1539375441000|    1|2558060000|29.607175925925926|\n",
            "|   106|1537679535000|1540395758000|    0|2716223000|31.437766203703703|\n",
            "|   107|1536303841000|1539179853000|    0|2876012000| 33.28717592592593|\n",
            "|   108|1538215963000|1540393421000|    0|2177458000|25.202060185185186|\n",
            "|   109|1534768517000|1540458806000|    0|5690289000| 65.85982638888889|\n",
            "|    11|1532554781000|1539569675000|    0|7014894000| 81.19090277777778|\n",
            "|   110|1537665002000|1538487558000|    0| 822556000| 9.520324074074074|\n",
            "|   111|1536372490000|1539663641000|    0|3291151000|38.092025462962965|\n",
            "|   112|1536032681000|1540410364000|    0|4377683000|50.667627314814816|\n",
            "|   113|1532920994000|1540060314000|    0|7139320000| 82.63101851851852|\n",
            "|   114|1536831228000|1540452235000|    0|3621007000| 41.90980324074074|\n",
            "|   115|1536948181000|1540458742000|    0|3510561000| 40.63149305555556|\n",
            "|   117|1537142824000|1539183980000|    0|2041156000| 23.62449074074074|\n",
            "|   118|1537893493000|1540394576000|    0|2501083000|28.947719907407407|\n",
            "+------+-------------+-------------+-----+----------+------------------+\n",
            "only showing top 20 rows\n",
            "\n"
          ]
        }
      ],
      "source": [
        "df_days.show()"
      ]
    },
    {
      "cell_type": "markdown",
      "metadata": {
        "id": "H16MaBKiLfO1"
      },
      "source": [
        "The dataframe is looking good, now let's convert it to Pandas and visualize."
      ]
    },
    {
      "cell_type": "code",
      "execution_count": 98,
      "metadata": {
        "id": "C-50DbrVLfO1"
      },
      "outputs": [],
      "source": [
        "# to Pandas\n",
        "df_days_pd = df_days.toPandas()"
      ]
    },
    {
      "cell_type": "code",
      "execution_count": 99,
      "metadata": {
        "colab": {
          "base_uri": "https://localhost:8080/",
          "height": 590
        },
        "id": "NF-QLWitLfO1",
        "outputId": "d619d406-bd46-423d-d230-63dd96553247"
      },
      "outputs": [
        {
          "output_type": "execute_result",
          "data": {
            "text/plain": [
              "Text(0, 0.5, 'Days Since Registered')"
            ]
          },
          "metadata": {},
          "execution_count": 99
        },
        {
          "output_type": "display_data",
          "data": {
            "text/plain": [
              "<Figure size 800x600 with 1 Axes>"
            ],
            "image/png": "[encoded data removed]"
          },
          "metadata": {}
        }
      ],
      "source": [
        "# Plot a boxplot to compare the distribution of days since registering for users who churned vs. those who stayed\n",
        "plt.figure(figsize=[8, 6])\n",
        "sns.boxplot(data=df_days_pd, x='churn', y='days')\n",
        "plt.title('Distribution of Days Since Registering for Users Who Churned vs. Users Who Stayed')\n",
        "plt.xlabel(\"Churn\")\n",
        "plt.ylabel(\"Days Since Registered\")"
      ]
    },
    {
      "cell_type": "markdown",
      "metadata": {
        "id": "jU7wWB85LfO1"
      },
      "source": [
        "On average, users who had been registered with Sparkify for a longer duration were more likely to remain as active users. Conversely, users who had registered more recently were more likely to churn, indicating a potential correlation between the length of registration and user retention."
      ]
    },
    {
      "cell_type": "markdown",
      "metadata": {
        "id": "vO7NqdNeLfO2"
      },
      "source": [
        "# Feature Engineering\n",
        "Once you've familiarized yourself with the data, build out the features you find promising to train your model on. To work with the full dataset, you can follow the following steps.\n",
        "- Write a script to extract the necessary features from the smaller subset of data\n",
        "- Ensure that your script is scalable, using the best practices discussed in Lesson 3\n",
        "- Try your script on the full data set, debugging your script if necessary\n",
        "\n",
        "If you are working in the classroom workspace, you can just extract features based on the small subset of data contained here. Be sure to transfer over this work to the larger dataset when you work on your Spark cluster."
      ]
    },
    {
      "cell_type": "markdown",
      "metadata": {
        "id": "bWbc3FMYLfO2"
      },
      "source": [
        "### List of feature that we have performed EDA:\n",
        "\n",
        "#### Categorical datatype:\n",
        "- level\n",
        "\n",
        "#### Numerical datatype:\n",
        "- Number of songs per session\n",
        "- Number of roll ads actions\n",
        "- Number of thumb-down actions\n",
        "- Number of thumbs-up actions\n",
        "- Number of friends added\n",
        "- Number of songs added to playlist\n",
        "- Number of different artists listened to on Sparkify\n",
        "- Number of days since registering"
      ]
    },
    {
      "cell_type": "markdown",
      "metadata": {
        "id": "Ll6LParOLfO2"
      },
      "source": [
        "We will also add a churn label and combine all these variables into a single dataframe where each row corresponds to individual user information. After dropping the userId column, this dataframe can be preprocessed by converting categorical variables into numerical format, making it ready for use in our machine learning algorithms."
      ]
    },
    {
      "cell_type": "markdown",
      "metadata": {
        "id": "NimSfRVPLfO2"
      },
      "source": [
        "### Level"
      ]
    },
    {
      "cell_type": "code",
      "execution_count": 100,
      "metadata": {
        "colab": {
          "base_uri": "https://localhost:8080/"
        },
        "id": "1qnC5G6eLfO2",
        "outputId": "0bfa109a-939f-47d9-94c8-8a5ae3ad76f5"
      },
      "outputs": [
        {
          "output_type": "stream",
          "name": "stdout",
          "text": [
            "+------+-----+-------------+\n",
            "|userId|level|           ts|\n",
            "+------+-----+-------------+\n",
            "|    10| paid|1538976032000|\n",
            "|    10| paid|1538970428000|\n",
            "|    10| paid|1538978423000|\n",
            "|    10| paid|1538970868000|\n",
            "|    10| paid|1538972430000|\n",
            "|    10| paid|1538973109000|\n",
            "|    10| paid|1538969362000|\n",
            "|    10| paid|1538969534000|\n",
            "|    10| paid|1538970605000|\n",
            "|    10| paid|1538968748000|\n",
            "|    10| paid|1538979188000|\n",
            "|    10| paid|1538976842000|\n",
            "|    10| paid|1538974236000|\n",
            "|    10| paid|1538971441000|\n",
            "|    10| paid|1538976290000|\n",
            "|    10| paid|1538967509000|\n",
            "|    10| paid|1538967243000|\n",
            "|    10| paid|1538977038000|\n",
            "|    10| paid|1538967004000|\n",
            "|    10| paid|1538966419000|\n",
            "+------+-----+-------------+\n",
            "only showing top 20 rows\n",
            "\n"
          ]
        }
      ],
      "source": [
        "# select userId, level, ts(we will use this column to get the latest level)\n",
        "df_level_f = df.select(['userId', 'level', 'ts']).dropDuplicates().sort('userId')\n",
        "df_level_f.show()"
      ]
    },
    {
      "cell_type": "code",
      "execution_count": 101,
      "metadata": {
        "id": "hM4rw4UqLfO2"
      },
      "outputs": [],
      "source": [
        "# Create a window partition to get the latest rank\n",
        "w = Window.partitionBy(\"userId\").orderBy(desc(\"ts\"))\n",
        "\n",
        "# Create a new column \"rank\"\n",
        "df_level_f = df_level_f.withColumn(\"Rank\", dense_rank().over(w))"
      ]
    },
    {
      "cell_type": "code",
      "execution_count": 102,
      "metadata": {
        "colab": {
          "base_uri": "https://localhost:8080/"
        },
        "id": "cP5kMkkRLfO3",
        "outputId": "665d265b-7d38-4e1a-9367-b00c510237c4"
      },
      "outputs": [
        {
          "output_type": "stream",
          "name": "stdout",
          "text": [
            "+------+-----+-------------+----+\n",
            "|userId|level|           ts|Rank|\n",
            "+------+-----+-------------+----+\n",
            "|    10| paid|1539926798000|   1|\n",
            "|    10| paid|1539926719000|   2|\n",
            "|    10| paid|1539926618000|   3|\n",
            "|    10| paid|1539926470000|   4|\n",
            "|    10| paid|1539926251000|   5|\n",
            "|    10| paid|1539926007000|   6|\n",
            "|    10| paid|1539926006000|   7|\n",
            "|    10| paid|1539925840000|   8|\n",
            "|    10| paid|1539925585000|   9|\n",
            "|    10| paid|1539925344000|  10|\n",
            "|    10| paid|1539925013000|  11|\n",
            "|    10| paid|1539924819000|  12|\n",
            "|    10| paid|1539924568000|  13|\n",
            "|    10| paid|1539924412000|  14|\n",
            "|    10| paid|1539924160000|  15|\n",
            "|    10| paid|1539924004000|  16|\n",
            "|    10| paid|1539923838000|  17|\n",
            "|    10| paid|1539923706000|  18|\n",
            "|    10| paid|1539923458000|  19|\n",
            "|    10| paid|1539923260000|  20|\n",
            "+------+-----+-------------+----+\n",
            "only showing top 20 rows\n",
            "\n"
          ]
        }
      ],
      "source": [
        "df_level_f.show()"
      ]
    },
    {
      "cell_type": "markdown",
      "metadata": {
        "id": "SQuVAqxeLfO3"
      },
      "source": [
        "Now we only care about the latest level which mean rank = 1"
      ]
    },
    {
      "cell_type": "code",
      "execution_count": 103,
      "metadata": {
        "id": "62CjxgMfLfO3"
      },
      "outputs": [],
      "source": [
        "# filter with condition rank = 1 and drop rank and ts column\n",
        "df_level_f = df_level_f.filter(df_level_f.Rank == 1).drop(df_level_f.Rank).drop(df_level_f.ts)"
      ]
    },
    {
      "cell_type": "code",
      "execution_count": 104,
      "metadata": {
        "colab": {
          "base_uri": "https://localhost:8080/"
        },
        "id": "FQS-2zgmLfO3",
        "outputId": "479ff473-a88b-40f8-c010-1c8a6c8c05ac"
      },
      "outputs": [
        {
          "output_type": "stream",
          "name": "stdout",
          "text": [
            "+------+-----+\n",
            "|userId|level|\n",
            "+------+-----+\n",
            "|    10| paid|\n",
            "|   100| paid|\n",
            "|   101| paid|\n",
            "|   102| free|\n",
            "|   103| paid|\n",
            "|   104| paid|\n",
            "|   105| paid|\n",
            "|   106| paid|\n",
            "|   107| free|\n",
            "|   108| free|\n",
            "|   109| paid|\n",
            "|    11| free|\n",
            "|   110| free|\n",
            "|   111| free|\n",
            "|   112| free|\n",
            "|   113| paid|\n",
            "|   114| paid|\n",
            "|   115| paid|\n",
            "|   117| free|\n",
            "|   118| paid|\n",
            "+------+-----+\n",
            "only showing top 20 rows\n",
            "\n"
          ]
        }
      ],
      "source": [
        "df_level_f.show()"
      ]
    },
    {
      "cell_type": "markdown",
      "metadata": {
        "id": "RdsWN6k9LfO3"
      },
      "source": [
        "In ML, we can't use \"paid\"&\"free\" as our input so we have to covert it to numerical type\n"
      ]
    },
    {
      "cell_type": "code",
      "execution_count": 105,
      "metadata": {
        "id": "HB1qaoiDLfO4"
      },
      "outputs": [],
      "source": [
        "df_level_f = df_level_f.withColumn('level', when(col('level') == 'paid', 1).otherwise(0))"
      ]
    },
    {
      "cell_type": "code",
      "execution_count": 106,
      "metadata": {
        "colab": {
          "base_uri": "https://localhost:8080/"
        },
        "id": "xZsUwxXjLfO4",
        "outputId": "614a7ee3-34c4-4839-a5de-2af575f96957"
      },
      "outputs": [
        {
          "output_type": "stream",
          "name": "stdout",
          "text": [
            "+------+-----+\n",
            "|userId|level|\n",
            "+------+-----+\n",
            "|    10|    1|\n",
            "|   100|    1|\n",
            "|   101|    1|\n",
            "|   102|    0|\n",
            "|   103|    1|\n",
            "|   104|    1|\n",
            "|   105|    1|\n",
            "|   106|    1|\n",
            "|   107|    0|\n",
            "|   108|    0|\n",
            "|   109|    1|\n",
            "|    11|    0|\n",
            "|   110|    0|\n",
            "|   111|    0|\n",
            "|   112|    0|\n",
            "|   113|    1|\n",
            "|   114|    1|\n",
            "|   115|    1|\n",
            "|   117|    0|\n",
            "|   118|    1|\n",
            "+------+-----+\n",
            "only showing top 20 rows\n",
            "\n"
          ]
        }
      ],
      "source": [
        "df_level_f.show()"
      ]
    },
    {
      "cell_type": "code",
      "execution_count": 107,
      "metadata": {
        "colab": {
          "base_uri": "https://localhost:8080/"
        },
        "id": "m16YzwlaLfO4",
        "outputId": "c2d2e6f0-9677-42e3-8b0c-5f24bc2ca3a3"
      },
      "outputs": [
        {
          "output_type": "execute_result",
          "data": {
            "text/plain": [
              "138"
            ]
          },
          "metadata": {},
          "execution_count": 107
        }
      ],
      "source": [
        "df_level_f.count()"
      ]
    },
    {
      "cell_type": "markdown",
      "metadata": {
        "id": "iHgl51IDLfO4"
      },
      "source": [
        "### Average Number of songs per session"
      ]
    },
    {
      "cell_type": "code",
      "execution_count": 108,
      "metadata": {
        "id": "qAmR40w6LfO4"
      },
      "outputs": [],
      "source": [
        "df_song_per_session_f = df.filter(df.page == \"NextSong\").groupBy('userId','sessionId').count()"
      ]
    },
    {
      "cell_type": "code",
      "execution_count": 109,
      "metadata": {
        "colab": {
          "base_uri": "https://localhost:8080/"
        },
        "id": "gs7OKILcLfO4",
        "outputId": "cda29760-b92e-4267-dd5d-115d85dfd6b9"
      },
      "outputs": [
        {
          "output_type": "stream",
          "name": "stdout",
          "text": [
            "+------+---------+-----+\n",
            "|userId|sessionId|count|\n",
            "+------+---------+-----+\n",
            "|    92|      358|   57|\n",
            "|    42|      433|   16|\n",
            "+------+---------+-----+\n",
            "only showing top 2 rows\n",
            "\n"
          ]
        }
      ],
      "source": [
        "df_song_per_session_f.show(2)"
      ]
    },
    {
      "cell_type": "code",
      "execution_count": 110,
      "metadata": {
        "id": "Nqmr8xnhLfO5"
      },
      "outputs": [],
      "source": [
        "df_song_per_session_f = df_song_per_session_f.groupby('userId').agg({\"count\":\"avg\"})"
      ]
    },
    {
      "cell_type": "code",
      "execution_count": 111,
      "metadata": {
        "id": "QM4yCmxILfO5"
      },
      "outputs": [],
      "source": [
        "df_song_per_session_f = df_song_per_session_f.withColumnRenamed(\"avg(count)\", \"avg_song\")"
      ]
    },
    {
      "cell_type": "code",
      "execution_count": 112,
      "metadata": {
        "colab": {
          "base_uri": "https://localhost:8080/"
        },
        "id": "8rJEyOBfLfO5",
        "outputId": "81fc621f-b589-40c0-e733-47c14eb897d3"
      },
      "outputs": [
        {
          "output_type": "execute_result",
          "data": {
            "text/plain": [
              "138"
            ]
          },
          "metadata": {},
          "execution_count": 112
        }
      ],
      "source": [
        "df_song_per_session_f.count()"
      ]
    },
    {
      "cell_type": "code",
      "execution_count": 113,
      "metadata": {
        "colab": {
          "base_uri": "https://localhost:8080/"
        },
        "id": "DN608dKLLfO6",
        "outputId": "383a68b7-d87f-4a00-cc03-312c1fe3c661"
      },
      "outputs": [
        {
          "output_type": "stream",
          "name": "stdout",
          "text": [
            "+------+------------------+\n",
            "|userId|          avg_song|\n",
            "+------+------------------+\n",
            "|   125|               8.0|\n",
            "|    51|             211.1|\n",
            "|   124|             152.7|\n",
            "|     7|             27.25|\n",
            "|    15|           139.625|\n",
            "|    54|             90.75|\n",
            "|   132|              75.2|\n",
            "|   101|             179.7|\n",
            "|    11|              25.5|\n",
            "|   138|              68.0|\n",
            "|    29|              85.5|\n",
            "|    69|             111.2|\n",
            "|    42| 76.16666666666667|\n",
            "|   112|              20.0|\n",
            "|    87|             30.68|\n",
            "|    73|62.833333333333336|\n",
            "|    64|               1.0|\n",
            "|     3|              30.5|\n",
            "|    30|            51.125|\n",
            "|   113|              70.9|\n",
            "+------+------------------+\n",
            "only showing top 20 rows\n",
            "\n"
          ]
        }
      ],
      "source": [
        "df_song_per_session_f.show()"
      ]
    },
    {
      "cell_type": "markdown",
      "metadata": {
        "id": "gfmkx-6SLfO6"
      },
      "source": [
        "### Number of roll ads actions"
      ]
    },
    {
      "cell_type": "markdown",
      "metadata": {
        "id": "WI2lobQeLfO6"
      },
      "source": [
        "Another feature to consider is the number of roll ad actions. Users who churned tend to have a higher count of roll ad actions because free users are shown ads, whereas paid subscribers are not."
      ]
    },
    {
      "cell_type": "code",
      "execution_count": 114,
      "metadata": {
        "id": "21rDUGWCLfO7"
      },
      "outputs": [],
      "source": [
        "df_rollad_f = df.select([\"userId\", \"page\"])"
      ]
    },
    {
      "cell_type": "code",
      "execution_count": 115,
      "metadata": {
        "id": "trPmRKeSLfO9"
      },
      "outputs": [],
      "source": [
        "# Define a User-Defined Function (UDF) to create a 'rollad' column\n",
        "rollad_event = udf(lambda x: 1 if x == \"Roll Advert\" else 0, IntegerType())"
      ]
    },
    {
      "cell_type": "code",
      "execution_count": 116,
      "metadata": {
        "id": "5huB-lFOLfO9"
      },
      "outputs": [],
      "source": [
        "# Create the 'rollad' column\n",
        "df_rollad_f = df_rollad_f.withColumn(\"rollad\", rollad_event(\"page\"))"
      ]
    },
    {
      "cell_type": "code",
      "execution_count": 117,
      "metadata": {
        "id": "moaCv19ILfO_"
      },
      "outputs": [],
      "source": [
        "# Group by 'userId' and calculate the sum of 'rollad'\n",
        "df_rollad_f = df_rollad_f.groupby('userId').sum(\"rollad\")"
      ]
    },
    {
      "cell_type": "code",
      "execution_count": 118,
      "metadata": {
        "id": "P_o390xGLfPA"
      },
      "outputs": [],
      "source": [
        "# Rename the column to \"roll_ad\"\n",
        "df_rollad_f = df_rollad_f.withColumnRenamed(\"sum(rollad)\", \"roll_ad\")"
      ]
    },
    {
      "cell_type": "code",
      "execution_count": 119,
      "metadata": {
        "colab": {
          "base_uri": "https://localhost:8080/"
        },
        "id": "Ny9jRl2nLfPB",
        "outputId": "c2ff6913-458e-4a25-c453-e1e637378cb6"
      },
      "outputs": [
        {
          "output_type": "execute_result",
          "data": {
            "text/plain": [
              "138"
            ]
          },
          "metadata": {},
          "execution_count": 119
        }
      ],
      "source": [
        "df_rollad_f.count()"
      ]
    },
    {
      "cell_type": "code",
      "execution_count": 120,
      "metadata": {
        "colab": {
          "base_uri": "https://localhost:8080/"
        },
        "id": "Z2xH38OaLfPB",
        "outputId": "34255da9-6859-4adf-9e01-709c031ef239"
      },
      "outputs": [
        {
          "output_type": "stream",
          "name": "stdout",
          "text": [
            "+------+-------+\n",
            "|userId|roll_ad|\n",
            "+------+-------+\n",
            "|   125|      1|\n",
            "|    51|      0|\n",
            "|   124|      2|\n",
            "|     7|     13|\n",
            "|    54|     45|\n",
            "|    15|      0|\n",
            "|   132|      0|\n",
            "|   101|      8|\n",
            "|    11|      8|\n",
            "|   138|     14|\n",
            "|    29|     17|\n",
            "|    69|      3|\n",
            "|    42|     10|\n",
            "|   112|      5|\n",
            "|    87|     50|\n",
            "|    73|      1|\n",
            "|     3|      0|\n",
            "|    30|     16|\n",
            "|   113|      1|\n",
            "|    34|      2|\n",
            "+------+-------+\n",
            "only showing top 20 rows\n",
            "\n"
          ]
        }
      ],
      "source": [
        "df_rollad_f.show()"
      ]
    },
    {
      "cell_type": "markdown",
      "metadata": {
        "id": "wsm_ou9uLfPC"
      },
      "source": [
        "### Number of thumb down actions\n",
        "\n",
        "Another feature to consider adding to our feature dataframe is \"thumbs down\" actions. Users who had previously churned tend to have a higher count of \"thumbs down\" actions compared to those who stayed with the service."
      ]
    },
    {
      "cell_type": "code",
      "execution_count": 121,
      "metadata": {
        "id": "ZqtX3fiQLfPD"
      },
      "outputs": [],
      "source": [
        "# select relavant columns from df\n",
        "df_thumbdown_f = df.select([\"userId\", \"page\"])"
      ]
    },
    {
      "cell_type": "code",
      "execution_count": 122,
      "metadata": {
        "id": "wfzfzzWwLfPD"
      },
      "outputs": [],
      "source": [
        "# Define a User-Defined Function (UDF) to create a 'Thumbs Down' column\n",
        "thumddown_event = udf(lambda x: 1 if x == \"Thumbs Down\" else 0, IntegerType())"
      ]
    },
    {
      "cell_type": "code",
      "execution_count": 123,
      "metadata": {
        "id": "oT5yfykELfPE"
      },
      "outputs": [],
      "source": [
        "# Create the 'Thumbs Down' column\n",
        "df_thumbdown_f = df_thumbdown_f.withColumn(\"Thumbs Down\", thumddown_event(\"page\"))"
      ]
    },
    {
      "cell_type": "code",
      "execution_count": 124,
      "metadata": {
        "id": "9lRUKvPtLfPF"
      },
      "outputs": [],
      "source": [
        "# Group by 'userId' and calculate the sum of 'Thumbs Down'\n",
        "df_thumbdown_f = df_thumbdown_f.groupby('userId').sum(\"Thumbs Down\")"
      ]
    },
    {
      "cell_type": "code",
      "execution_count": 125,
      "metadata": {
        "id": "aC6NW3P-LfPF"
      },
      "outputs": [],
      "source": [
        "# Rename the column to \"thumbs_down\"\n",
        "df_thumbdown_f = df_thumbdown_f.withColumnRenamed(\"sum(Thumbs Down)\", \"thumbs_down\")"
      ]
    },
    {
      "cell_type": "code",
      "execution_count": 126,
      "metadata": {
        "colab": {
          "base_uri": "https://localhost:8080/"
        },
        "id": "IR29dyurLfPF",
        "outputId": "db8125b6-722f-42e9-9d3e-5655def2ed57"
      },
      "outputs": [
        {
          "output_type": "execute_result",
          "data": {
            "text/plain": [
              "138"
            ]
          },
          "metadata": {},
          "execution_count": 126
        }
      ],
      "source": [
        "# Count the number of rows in the dataframe\n",
        "df_thumbdown_f.count()"
      ]
    },
    {
      "cell_type": "markdown",
      "metadata": {
        "id": "Z9wty8PFLfPI"
      },
      "source": [
        "### Number of thumbs up actions\n",
        "\n",
        "We can also consider adding \"thumbs up\" actions as a feature. Users who have remained with the service tend to have a higher count of \"thumbs up\" actions in their history."
      ]
    },
    {
      "cell_type": "code",
      "execution_count": 127,
      "metadata": {
        "id": "1rb61mXRLfPJ"
      },
      "outputs": [],
      "source": [
        "# select relavant columns from df\n",
        "df_thumbsup_f = df.select([\"userId\", \"page\"])"
      ]
    },
    {
      "cell_type": "code",
      "execution_count": 128,
      "metadata": {
        "id": "ybStZ0UHLfPJ"
      },
      "outputs": [],
      "source": [
        "# Define a User-Defined Function (UDF) to create a 'Thumbs Up' column\n",
        "thumbsup_event = udf(lambda x: 1 if x == \"Thumbs Up\" else 0, IntegerType())"
      ]
    },
    {
      "cell_type": "code",
      "execution_count": 129,
      "metadata": {
        "id": "kXSx88QOLfPK"
      },
      "outputs": [],
      "source": [
        "# Create the 'Thumbs Up' column\n",
        "df_thumbsup_f = df_thumbsup_f.withColumn(\"Thumbs Up\", thumbsup_event(\"page\"))"
      ]
    },
    {
      "cell_type": "code",
      "execution_count": 130,
      "metadata": {
        "id": "rfs6aoxyLfPK"
      },
      "outputs": [],
      "source": [
        "# Group by 'userId' and calculate the sum of 'Thumbs Up'\n",
        "df_thumbsup_f = df_thumbsup_f.groupby('userId').sum(\"Thumbs Up\")"
      ]
    },
    {
      "cell_type": "code",
      "execution_count": 131,
      "metadata": {
        "id": "1HGrSn5WLfPK"
      },
      "outputs": [],
      "source": [
        "# Rename the column to \"thumbs_up\"\n",
        "df_thumbsup_f = df_thumbsup_f.withColumnRenamed(\"sum(Thumbs Up)\", \"thumbs_up\")"
      ]
    },
    {
      "cell_type": "code",
      "execution_count": 132,
      "metadata": {
        "colab": {
          "base_uri": "https://localhost:8080/"
        },
        "id": "zpg_mKiSLfPL",
        "outputId": "a5ddac5a-cae2-4817-8867-1baff99ee1f0"
      },
      "outputs": [
        {
          "output_type": "execute_result",
          "data": {
            "text/plain": [
              "138"
            ]
          },
          "metadata": {},
          "execution_count": 132
        }
      ],
      "source": [
        "# Count the number of rows in the dataframe\n",
        "df_thumbsup_f.count()"
      ]
    },
    {
      "cell_type": "markdown",
      "metadata": {
        "id": "mGn0CT4pLfPM"
      },
      "source": [
        "### Number of friends added"
      ]
    },
    {
      "cell_type": "markdown",
      "metadata": {
        "id": "79J8TL8qLfPM"
      },
      "source": [
        "Certainly, you can add \"number of friends added\" as a feature to your dataframe. Users who added more friends in the past tend to be more likely to stay with the app. Here's how you can do it:"
      ]
    },
    {
      "cell_type": "code",
      "execution_count": 133,
      "metadata": {
        "id": "VMITGSnRLfPN"
      },
      "outputs": [],
      "source": [
        "df_friends_added_f = df.select([\"userId\", \"page\"])"
      ]
    },
    {
      "cell_type": "code",
      "execution_count": 134,
      "metadata": {
        "id": "kd18u79ULfPN"
      },
      "outputs": [],
      "source": [
        "# Define a User-Defined Function (UDF) to create an 'add_friend' column\n",
        "add_friend_event = udf(lambda x: 1 if x == \"Add Friend\" else 0, IntegerType())"
      ]
    },
    {
      "cell_type": "code",
      "execution_count": 135,
      "metadata": {
        "id": "mpbwIXpWLfPO"
      },
      "outputs": [],
      "source": [
        "# Create the 'add_friend' column\n",
        "df_friends_added_f = df_friends_added_f.withColumn(\"add_friend\", add_friend_event(\"page\"))"
      ]
    },
    {
      "cell_type": "code",
      "execution_count": 136,
      "metadata": {
        "id": "wWCyJ4h1LfPO"
      },
      "outputs": [],
      "source": [
        "# Group by 'userId' and calculate the sum of 'add_friend'\n",
        "df_friends_added_f = df_friends_added_f.groupby('userId').sum(\"add_friend\")"
      ]
    },
    {
      "cell_type": "code",
      "execution_count": 137,
      "metadata": {
        "id": "3h2XDzzHLfPO"
      },
      "outputs": [],
      "source": [
        "# Rename the column to \"add_friend\"\n",
        "df_friends_added_f = df_friends_added_f.withColumnRenamed(\"sum(add_friend)\", \"add_friend\")"
      ]
    },
    {
      "cell_type": "code",
      "execution_count": 138,
      "metadata": {
        "colab": {
          "base_uri": "https://localhost:8080/"
        },
        "id": "-xpyY-aWLfPP",
        "outputId": "aeab1ff9-9af7-4200-c067-ce1607c05783"
      },
      "outputs": [
        {
          "output_type": "execute_result",
          "data": {
            "text/plain": [
              "138"
            ]
          },
          "metadata": {},
          "execution_count": 138
        }
      ],
      "source": [
        "# Count the number of rows in the dataframe\n",
        "df_friends_added_f.count()"
      ]
    },
    {
      "cell_type": "markdown",
      "metadata": {
        "id": "ajA0vOkxLfPQ"
      },
      "source": [
        "### Number of songs added to playlist\n",
        "\n",
        "Certainly, you can add \"number of songs added to playlist\" as a feature to your dataframe. Users who added more songs to their playlists in the past tend to be more likely to stay with the service."
      ]
    },
    {
      "cell_type": "code",
      "execution_count": 139,
      "metadata": {
        "id": "B2hVoDvXLfPQ"
      },
      "outputs": [],
      "source": [
        "df_playlist_songs_f = df.select([\"userId\", \"page\"])"
      ]
    },
    {
      "cell_type": "code",
      "execution_count": 140,
      "metadata": {
        "id": "4uP0BQqhLfPR"
      },
      "outputs": [],
      "source": [
        "# Define a User-Defined Function (UDF) to create a 'Playlist' column\n",
        "add_playlist_event = udf(lambda x: 1 if x == \"Add to Playlist\" else 0, IntegerType())"
      ]
    },
    {
      "cell_type": "code",
      "execution_count": 141,
      "metadata": {
        "id": "uWYmw841LfPS"
      },
      "outputs": [],
      "source": [
        "# Create the 'Playlist' column\n",
        "df_playlist_songs_f = df_playlist_songs_f.withColumn(\"Playlist\", add_playlist_event(\"page\"))"
      ]
    },
    {
      "cell_type": "code",
      "execution_count": 142,
      "metadata": {
        "id": "M2FRrhx3LfPT"
      },
      "outputs": [],
      "source": [
        "# Group by 'userId' and calculate the sum of 'Playlist'\n",
        "df_playlist_songs_f = df_playlist_songs_f.groupby('userId').sum(\"Playlist\")\n"
      ]
    },
    {
      "cell_type": "code",
      "execution_count": 143,
      "metadata": {
        "id": "5-U3SzMDLfPT"
      },
      "outputs": [],
      "source": [
        "# Rename the column to \"playlist\"\n",
        "df_playlist_songs_f = df_playlist_songs_f.withColumnRenamed(\"sum(Playlist)\", \"playlist\")"
      ]
    },
    {
      "cell_type": "code",
      "execution_count": 144,
      "metadata": {
        "colab": {
          "base_uri": "https://localhost:8080/"
        },
        "id": "Emop-tbfLfPU",
        "outputId": "9fd25034-7590-4443-ade6-366c41bf654b"
      },
      "outputs": [
        {
          "output_type": "execute_result",
          "data": {
            "text/plain": [
              "138"
            ]
          },
          "metadata": {},
          "execution_count": 144
        }
      ],
      "source": [
        "# Count the number of rows in the dataframe\n",
        "df_playlist_songs_f.count()"
      ]
    },
    {
      "cell_type": "markdown",
      "metadata": {
        "id": "V2TQ2fa-LfPV"
      },
      "source": [
        "### Count of Unique Artists Listened to on Sparkify"
      ]
    },
    {
      "cell_type": "code",
      "execution_count": 145,
      "metadata": {
        "id": "wZTOwBipLfPW"
      },
      "outputs": [],
      "source": [
        "df_artists_f = df.select(\"userId\", \"artist\").dropDuplicates().groupby(\"userId\").count()"
      ]
    },
    {
      "cell_type": "code",
      "execution_count": 146,
      "metadata": {
        "id": "ki0mRliJLfPW"
      },
      "outputs": [],
      "source": [
        "df_artists_f = df_artists_f.withColumnRenamed(\"count\", \"num_artists\")"
      ]
    },
    {
      "cell_type": "code",
      "execution_count": 147,
      "metadata": {
        "colab": {
          "base_uri": "https://localhost:8080/"
        },
        "id": "co2imRY5LfPW",
        "outputId": "70a45f9b-5b32-4e38-c501-d76ebfb0fb0b"
      },
      "outputs": [
        {
          "output_type": "execute_result",
          "data": {
            "text/plain": [
              "138"
            ]
          },
          "metadata": {},
          "execution_count": 147
        }
      ],
      "source": [
        "df_artists_f.count()"
      ]
    },
    {
      "cell_type": "markdown",
      "metadata": {
        "id": "JDdVQDOMLfPX"
      },
      "source": [
        "### Number of Days Since Registering\n",
        "\n",
        "\"Number of Days Since Registration\" also appeared to be a valuable feature during our Exploratory Data Analysis (EDA). Our findings indicated that users with a shorter duration since registering were more likely to churn compared to those who had been using the service for a longer period."
      ]
    },
    {
      "cell_type": "code",
      "execution_count": 148,
      "metadata": {
        "colab": {
          "base_uri": "https://localhost:8080/"
        },
        "id": "w3VZt_wTLfPX",
        "outputId": "8f8189d2-f7c9-4ed0-e2d8-4e1ab13e756a"
      },
      "outputs": [
        {
          "output_type": "stream",
          "name": "stdout",
          "text": [
            "+------+-------------+-------------+-----+----------+------------------+\n",
            "|userId| registration|           ts|churn|delta_days|              days|\n",
            "+------+-------------+-------------+-----+----------+------------------+\n",
            "|    10|1538159495000|1539926798000|    0|1767303000|20.454895833333335|\n",
            "|   100|1537982255000|1540395773000|    0|2413518000|27.934236111111108|\n",
            "|   101|1535066380000|1539729037000|    1|4662657000|53.965937499999995|\n",
            "|   102|1537915702000|1539772333000|    0|1856631000| 21.48878472222222|\n",
            "|   103|1537699856000|1540080480000|    0|2380624000| 27.55351851851852|\n",
            "|   104|1532498424000|1540350730000|    0|7852306000| 90.88317129629628|\n",
            "|   105|1536817381000|1539375441000|    1|2558060000|29.607175925925926|\n",
            "|   106|1537679535000|1540395758000|    0|2716223000|31.437766203703703|\n",
            "|   107|1536303841000|1539179853000|    0|2876012000| 33.28717592592593|\n",
            "|   108|1538215963000|1540393421000|    0|2177458000|25.202060185185186|\n",
            "|   109|1534768517000|1540458806000|    0|5690289000| 65.85982638888889|\n",
            "|    11|1532554781000|1539569675000|    0|7014894000| 81.19090277777778|\n",
            "|   110|1537665002000|1538487558000|    0| 822556000| 9.520324074074074|\n",
            "|   111|1536372490000|1539663641000|    0|3291151000|38.092025462962965|\n",
            "|   112|1536032681000|1540410364000|    0|4377683000|50.667627314814816|\n",
            "|   113|1532920994000|1540060314000|    0|7139320000| 82.63101851851852|\n",
            "|   114|1536831228000|1540452235000|    0|3621007000| 41.90980324074074|\n",
            "|   115|1536948181000|1540458742000|    0|3510561000| 40.63149305555556|\n",
            "|   117|1537142824000|1539183980000|    0|2041156000| 23.62449074074074|\n",
            "|   118|1537893493000|1540394576000|    0|2501083000|28.947719907407407|\n",
            "+------+-------------+-------------+-----+----------+------------------+\n",
            "only showing top 20 rows\n",
            "\n"
          ]
        }
      ],
      "source": [
        "df_days.show()"
      ]
    },
    {
      "cell_type": "code",
      "execution_count": 149,
      "metadata": {
        "id": "Oyq93w5VLfPX"
      },
      "outputs": [],
      "source": [
        "df_days_f = df_days.drop('registration', 'ts', 'churn', 'delta_days')"
      ]
    },
    {
      "cell_type": "code",
      "execution_count": 150,
      "metadata": {
        "colab": {
          "base_uri": "https://localhost:8080/"
        },
        "id": "kqOjDJsCLfPY",
        "outputId": "4705631a-5394-465b-e552-e6bd94035914"
      },
      "outputs": [
        {
          "output_type": "execute_result",
          "data": {
            "text/plain": [
              "138"
            ]
          },
          "metadata": {},
          "execution_count": 150
        }
      ],
      "source": [
        "df_days_f.count()"
      ]
    },
    {
      "cell_type": "markdown",
      "metadata": {
        "id": "XmVk6SxZLfPY"
      },
      "source": [
        "### Label"
      ]
    },
    {
      "cell_type": "markdown",
      "metadata": {
        "id": "YsZof9mZLfPZ"
      },
      "source": [
        "Now, we can create our label column to indicate whether the user churned (1) or not (0)."
      ]
    },
    {
      "cell_type": "code",
      "execution_count": 151,
      "metadata": {
        "id": "Cvm0ihzOLfPZ"
      },
      "outputs": [],
      "source": [
        "label = df.select(\"userId\", \"churn\").dropDuplicates().groupby(\"userId\", \"churn\").count()"
      ]
    },
    {
      "cell_type": "code",
      "execution_count": 152,
      "metadata": {
        "id": "wbq1-kgdLfPZ"
      },
      "outputs": [],
      "source": [
        "label = label.drop('count')"
      ]
    },
    {
      "cell_type": "code",
      "execution_count": 153,
      "metadata": {
        "colab": {
          "base_uri": "https://localhost:8080/"
        },
        "id": "OrOALTZRLfPa",
        "outputId": "c8c19a2c-82be-43c7-843b-5ef60b8ba618"
      },
      "outputs": [
        {
          "output_type": "execute_result",
          "data": {
            "text/plain": [
              "138"
            ]
          },
          "metadata": {},
          "execution_count": 153
        }
      ],
      "source": [
        "label.count()"
      ]
    },
    {
      "cell_type": "code",
      "execution_count": 154,
      "metadata": {
        "id": "1brqtKFALfPa"
      },
      "outputs": [],
      "source": [
        "label = label.withColumnRenamed(\"churn\", \"label\")"
      ]
    },
    {
      "cell_type": "markdown",
      "metadata": {
        "id": "rykE4iPnLfPb"
      },
      "source": [
        "### Create final dataset"
      ]
    },
    {
      "cell_type": "markdown",
      "metadata": {
        "id": "ZmPL1BHtLfPb"
      },
      "source": [
        "Now that we have our features, we need to join them together based on the `userId`"
      ]
    },
    {
      "cell_type": "code",
      "execution_count": 155,
      "metadata": {
        "id": "VKI2n3WOLfPb"
      },
      "outputs": [],
      "source": [
        "final_df = df_level_f.join(df_song_per_session_f, [\"userId\"]).join(df_rollad_f, [\"userId\"]).join(df_thumbdown_f, [\"userId\"]).join(df_thumbsup_f, [\"userId\"]).join(df_friends_added_f, [\"userId\"]).join(df_playlist_songs_f, [\"userId\"]).join(df_artists_f, [\"userId\"]).join(df_days_f, [\"userId\"]).join(label, [\"userId\"])\n"
      ]
    },
    {
      "cell_type": "code",
      "execution_count": 156,
      "metadata": {
        "colab": {
          "base_uri": "https://localhost:8080/"
        },
        "id": "IP_O4VceLfPc",
        "outputId": "5b903dd8-1cee-4a79-b967-f27223d26ca3"
      },
      "outputs": [
        {
          "output_type": "stream",
          "name": "stdout",
          "text": [
            "+------+-----+------------------+-------+-----------+---------+----------+--------+-----------+------------------+-----+\n",
            "|userId|level|          avg_song|roll_ad|thumbs_down|thumbs_up|add_friend|playlist|num_artists|              days|label|\n",
            "+------+-----+------------------+-------+-----------+---------+----------+--------+-----------+------------------+-----+\n",
            "|    10|    1|             219.0|      0|          4|       26|         8|       8|        392|20.454895833333335|    0|\n",
            "|   100|    1|              99.3|      1|         11|       49|        21|      26|        758|27.934236111111108|    0|\n",
            "|   101|    1|             179.7|      8|         16|       86|        29|      61|       1242|53.965937499999995|    1|\n",
            "|   102|    0|              30.0|      9|          1|        4|         0|       0|         60| 21.48878472222222|    0|\n",
            "|   103|    1| 99.28571428571429|     14|          5|       29|        15|      30|        578| 27.55351851851852|    0|\n",
            "|   104|    1|              50.3|     21|          1|       23|         6|      11|        426| 90.88317129629628|    0|\n",
            "|   105|    1|             152.8|      2|          6|       45|        13|      12|        625|29.607175925925926|    1|\n",
            "|   106|    1|              71.0|      4|          3|       32|        19|      16|        476|31.437766203703703|    0|\n",
            "|   107|    0|              86.5|     10|          2|        9|         2|       9|        160| 33.28717592592593|    0|\n",
            "|   108|    0|              51.0|     17|          1|        5|         3|       3|         95|25.202060185185186|    0|\n",
            "|   109|    1|              45.0|      4|          1|        5|         3|       5|        242| 65.85982638888889|    0|\n",
            "|    11|    0|              25.5|      8|          1|        8|         0|       2|        100| 81.19090277777778|    0|\n",
            "|   110|    0|              31.0|      5|          0|        3|         0|       0|         31| 9.520324074074074|    0|\n",
            "|   111|    0|12.666666666666666|      1|          0|        0|         6|       0|         36|38.092025462962965|    0|\n",
            "|   112|    0|              20.0|      5|          1|        2|         1|       2|         78|50.667627314814816|    0|\n",
            "|   113|    1|              70.9|      1|          4|       33|        18|      21|        565| 82.63101851851852|    0|\n",
            "|   114|    1|              43.0|      8|          1|       14|         3|       7|        195| 41.90980324074074|    0|\n",
            "|   115|    1|             237.5|     11|         13|       53|        13|      29|        735| 40.63149305555556|    0|\n",
            "|   117|    0|              34.8|     12|          1|        7|         7|       3|        162| 23.62449074074074|    0|\n",
            "|   118|    1|             129.0|     25|          7|       41|        20|      31|        701|28.947719907407407|    0|\n",
            "+------+-----+------------------+-------+-----------+---------+----------+--------+-----------+------------------+-----+\n",
            "only showing top 20 rows\n",
            "\n"
          ]
        }
      ],
      "source": [
        "final_df.show()"
      ]
    },
    {
      "cell_type": "markdown",
      "metadata": {
        "id": "Kux8iZWILfPc"
      },
      "source": [
        "The column userId won't have any value in ML so we should drop it."
      ]
    },
    {
      "cell_type": "code",
      "execution_count": 157,
      "metadata": {
        "id": "wfn8V3JVLfPd"
      },
      "outputs": [],
      "source": [
        "final_df = final_df.drop('userId')"
      ]
    },
    {
      "cell_type": "markdown",
      "metadata": {
        "id": "SmW5etY0LfPd"
      },
      "source": [
        "### Preprocessing\n"
      ]
    },
    {
      "cell_type": "code",
      "execution_count": 158,
      "metadata": {
        "colab": {
          "base_uri": "https://localhost:8080/"
        },
        "id": "0pGU115ILfPd",
        "outputId": "5c190fc4-56a8-4302-bbc5-6d25cfd09c48"
      },
      "outputs": [
        {
          "output_type": "stream",
          "name": "stdout",
          "text": [
            "root\n",
            " |-- level: integer (nullable = false)\n",
            " |-- avg_song: double (nullable = true)\n",
            " |-- roll_ad: long (nullable = true)\n",
            " |-- thumbs_down: long (nullable = true)\n",
            " |-- thumbs_up: long (nullable = true)\n",
            " |-- add_friend: long (nullable = true)\n",
            " |-- playlist: long (nullable = true)\n",
            " |-- num_artists: long (nullable = false)\n",
            " |-- days: double (nullable = true)\n",
            " |-- label: long (nullable = true)\n",
            "\n"
          ]
        }
      ],
      "source": [
        "# print schema\n",
        "final_df.printSchema()"
      ]
    },
    {
      "cell_type": "code",
      "execution_count": 159,
      "metadata": {
        "id": "3zKkTi3TLfPe"
      },
      "outputs": [],
      "source": [
        "def convert_to_float_column(df):\n",
        "    \"\"\"\n",
        "    Description: This function is used to convert all column in a dataframe to float for ML\n",
        "    Input: original dataframe\n",
        "    Ouput: dataframe with float datatype for all columns in it\n",
        "    \"\"\"\n",
        "    for feature in df.columns:\n",
        "        df = df.withColumn(feature, df[feature].cast('float'))\n",
        "    return df"
      ]
    },
    {
      "cell_type": "code",
      "execution_count": 160,
      "metadata": {
        "colab": {
          "base_uri": "https://localhost:8080/"
        },
        "id": "IqAXYildLfPe",
        "outputId": "99ff70c9-776e-42a5-f6be-ccdd3683de1d"
      },
      "outputs": [
        {
          "output_type": "stream",
          "name": "stdout",
          "text": [
            "root\n",
            " |-- level: float (nullable = false)\n",
            " |-- avg_song: float (nullable = true)\n",
            " |-- roll_ad: float (nullable = true)\n",
            " |-- thumbs_down: float (nullable = true)\n",
            " |-- thumbs_up: float (nullable = true)\n",
            " |-- add_friend: float (nullable = true)\n",
            " |-- playlist: float (nullable = true)\n",
            " |-- num_artists: float (nullable = false)\n",
            " |-- days: float (nullable = true)\n",
            " |-- label: float (nullable = true)\n",
            "\n"
          ]
        }
      ],
      "source": [
        "# first preprocessing\n",
        "final_df = convert_to_float_column(final_df)\n",
        "# print schema\n",
        "final_df.printSchema()"
      ]
    },
    {
      "cell_type": "code",
      "execution_count": 161,
      "metadata": {
        "colab": {
          "base_uri": "https://localhost:8080/"
        },
        "id": "PDgEndyxLfPe",
        "outputId": "fb190cbc-848c-4954-cf85-15d494caf5ee"
      },
      "outputs": [
        {
          "output_type": "stream",
          "name": "stdout",
          "text": [
            "+-----+---------+-------+-----------+---------+----------+--------+-----------+---------+-----+\n",
            "|level| avg_song|roll_ad|thumbs_down|thumbs_up|add_friend|playlist|num_artists|     days|label|\n",
            "+-----+---------+-------+-----------+---------+----------+--------+-----------+---------+-----+\n",
            "|  1.0|    219.0|    0.0|        4.0|     26.0|       8.0|     8.0|      392.0|20.454895|  0.0|\n",
            "|  1.0|     99.3|    1.0|       11.0|     49.0|      21.0|    26.0|      758.0|27.934237|  0.0|\n",
            "|  1.0|    179.7|    8.0|       16.0|     86.0|      29.0|    61.0|     1242.0| 53.96594|  1.0|\n",
            "|  0.0|     30.0|    9.0|        1.0|      4.0|       0.0|     0.0|       60.0|21.488785|  0.0|\n",
            "|  1.0| 99.28571|   14.0|        5.0|     29.0|      15.0|    30.0|      578.0|27.553518|  0.0|\n",
            "|  1.0|     50.3|   21.0|        1.0|     23.0|       6.0|    11.0|      426.0| 90.88317|  0.0|\n",
            "|  1.0|    152.8|    2.0|        6.0|     45.0|      13.0|    12.0|      625.0|29.607176|  1.0|\n",
            "|  1.0|     71.0|    4.0|        3.0|     32.0|      19.0|    16.0|      476.0|31.437767|  0.0|\n",
            "|  0.0|     86.5|   10.0|        2.0|      9.0|       2.0|     9.0|      160.0|33.287174|  0.0|\n",
            "|  0.0|     51.0|   17.0|        1.0|      5.0|       3.0|     3.0|       95.0| 25.20206|  0.0|\n",
            "|  1.0|     45.0|    4.0|        1.0|      5.0|       3.0|     5.0|      242.0|65.859825|  0.0|\n",
            "|  0.0|     25.5|    8.0|        1.0|      8.0|       0.0|     2.0|      100.0|  81.1909|  0.0|\n",
            "|  0.0|     31.0|    5.0|        0.0|      3.0|       0.0|     0.0|       31.0| 9.520324|  0.0|\n",
            "|  0.0|12.666667|    1.0|        0.0|      0.0|       6.0|     0.0|       36.0|38.092026|  0.0|\n",
            "|  0.0|     20.0|    5.0|        1.0|      2.0|       1.0|     2.0|       78.0|50.667625|  0.0|\n",
            "|  1.0|     70.9|    1.0|        4.0|     33.0|      18.0|    21.0|      565.0| 82.63102|  0.0|\n",
            "|  1.0|     43.0|    8.0|        1.0|     14.0|       3.0|     7.0|      195.0|  41.9098|  0.0|\n",
            "|  1.0|    237.5|   11.0|       13.0|     53.0|      13.0|    29.0|      735.0|40.631493|  0.0|\n",
            "|  0.0|     34.8|   12.0|        1.0|      7.0|       7.0|     3.0|      162.0| 23.62449|  0.0|\n",
            "|  1.0|    129.0|   25.0|        7.0|     41.0|      20.0|    31.0|      701.0| 28.94772|  0.0|\n",
            "+-----+---------+-------+-----------+---------+----------+--------+-----------+---------+-----+\n",
            "only showing top 20 rows\n",
            "\n"
          ]
        }
      ],
      "source": [
        "final_df.show()"
      ]
    },
    {
      "cell_type": "code",
      "execution_count": 161,
      "metadata": {
        "id": "Y_5d8olVLfPf"
      },
      "outputs": [],
      "source": []
    },
    {
      "cell_type": "code",
      "execution_count": 161,
      "metadata": {
        "id": "Mrh9WV8YLfPf"
      },
      "outputs": [],
      "source": []
    },
    {
      "cell_type": "code",
      "execution_count": 161,
      "metadata": {
        "id": "yABve97hLfPf"
      },
      "outputs": [],
      "source": []
    },
    {
      "cell_type": "markdown",
      "metadata": {
        "id": "B5KLdoBdLfPf"
      },
      "source": [
        "### Vector Assembler\n",
        "\n",
        "The purpose of the vector assembler is to convert our individual features into a single feature vector. This vector can then be standardized and utilized as input for our selected machine learning algorithms."
      ]
    },
    {
      "cell_type": "code",
      "execution_count": 162,
      "metadata": {
        "id": "ukUu0ZCRLfPg"
      },
      "outputs": [],
      "source": [
        "# Define the input columns and output column\n",
        "input_cols = [\"level\", \"avg_song\", \"roll_ad\", \"thumbs_down\", \"thumbs_up\", \"add_friend\", \"playlist\", \"num_artists\", \"days\"]\n",
        "output_col = \"vec_features\"\n"
      ]
    },
    {
      "cell_type": "code",
      "execution_count": 163,
      "metadata": {
        "id": "O64a_dvuLfPg"
      },
      "outputs": [],
      "source": [
        "# Create a VectorAssembler\n",
        "assembler = VectorAssembler(inputCols=input_cols, outputCol=output_col)"
      ]
    },
    {
      "cell_type": "code",
      "execution_count": 164,
      "metadata": {
        "id": "5oiM-6uoLfPh"
      },
      "outputs": [],
      "source": [
        "# Transform the feature dataframe\n",
        "final_df = assembler.transform(final_df)"
      ]
    },
    {
      "cell_type": "code",
      "execution_count": 165,
      "metadata": {
        "colab": {
          "base_uri": "https://localhost:8080/"
        },
        "id": "mApEqf3yLfPh",
        "outputId": "2ebde713-03ee-4ecd-f310-a301296696a8"
      },
      "outputs": [
        {
          "output_type": "stream",
          "name": "stdout",
          "text": [
            "root\n",
            " |-- level: float (nullable = false)\n",
            " |-- avg_song: float (nullable = true)\n",
            " |-- roll_ad: float (nullable = true)\n",
            " |-- thumbs_down: float (nullable = true)\n",
            " |-- thumbs_up: float (nullable = true)\n",
            " |-- add_friend: float (nullable = true)\n",
            " |-- playlist: float (nullable = true)\n",
            " |-- num_artists: float (nullable = false)\n",
            " |-- days: float (nullable = true)\n",
            " |-- label: float (nullable = true)\n",
            " |-- vec_features: vector (nullable = true)\n",
            "\n"
          ]
        }
      ],
      "source": [
        "final_df.printSchema()"
      ]
    },
    {
      "cell_type": "markdown",
      "metadata": {
        "id": "WBO2Ljn4LfPh"
      },
      "source": [
        "### Standardisation\n",
        "\n",
        "After vectorizing our features, the next crucial step is standardization. Standardization is vital for our machine learning model to prevent features with exceptionally high values from overwhelming the results. It also ensures that each individual feature follows a standard normal distribution, which is beneficial for model training."
      ]
    },
    {
      "cell_type": "code",
      "execution_count": 166,
      "metadata": {
        "id": "tCUmroAMLfPi"
      },
      "outputs": [],
      "source": [
        "# Create a StandardScaler\n",
        "scaler = StandardScaler(inputCol=\"vec_features\", outputCol=\"features\", withStd=True)"
      ]
    },
    {
      "cell_type": "code",
      "execution_count": 167,
      "metadata": {
        "id": "Zuh9l3dRLfPi"
      },
      "outputs": [],
      "source": [
        "# Fit the scaler model on the feature dataframe\n",
        "scaler_model = scaler.fit(final_df)"
      ]
    },
    {
      "cell_type": "code",
      "execution_count": 168,
      "metadata": {
        "id": "3Yvua-EZLfPi"
      },
      "outputs": [],
      "source": [
        "# Transform the final dataframe\n",
        "final_df = scaler_model.transform(final_df)"
      ]
    },
    {
      "cell_type": "code",
      "execution_count": 169,
      "metadata": {
        "colab": {
          "base_uri": "https://localhost:8080/"
        },
        "id": "EljbvD9HLfPi",
        "outputId": "94704d1d-9b5b-4f68-e901-05232641698c"
      },
      "outputs": [
        {
          "output_type": "execute_result",
          "data": {
            "text/plain": [
              "[Row(level=1.0, avg_song=219.0, roll_ad=0.0, thumbs_down=4.0, thumbs_up=26.0, add_friend=8.0, playlist=8.0, num_artists=392.0, days=20.45489501953125, label=0.0, vec_features=DenseVector([1.0, 219.0, 0.0, 4.0, 26.0, 8.0, 8.0, 392.0, 20.4549]), features=DenseVector([2.0063, 3.8342, 0.0, 0.6754, 0.9324, 0.8621, 0.4763, 1.0684, 0.6462]))]"
            ]
          },
          "metadata": {},
          "execution_count": 169
        }
      ],
      "source": [
        "final_df.head(1)"
      ]
    },
    {
      "cell_type": "markdown",
      "metadata": {
        "id": "B0VPbNliLfPi"
      },
      "source": [
        "### Train test split"
      ]
    },
    {
      "cell_type": "markdown",
      "metadata": {
        "id": "l8xXHlCpLfPi"
      },
      "source": [
        "Let's check how many records we have for each label\n"
      ]
    },
    {
      "cell_type": "code",
      "execution_count": 170,
      "metadata": {
        "colab": {
          "base_uri": "https://localhost:8080/"
        },
        "id": "yLtKf9gMLfPj",
        "outputId": "ace12f54-ef1e-4361-fb7d-26d7523449fd"
      },
      "outputs": [
        {
          "output_type": "stream",
          "name": "stdout",
          "text": [
            "+-----+-----+\n",
            "|label|count|\n",
            "+-----+-----+\n",
            "|  1.0|   15|\n",
            "|  0.0|  123|\n",
            "+-----+-----+\n",
            "\n"
          ]
        }
      ],
      "source": [
        "final_df.groupby('label').count().show()"
      ]
    },
    {
      "cell_type": "markdown",
      "metadata": {
        "id": "6cdrLqgiLfPj"
      },
      "source": [
        "The dataset split is in line with our expectations. To ensure reproducibility, we will divide the data into training, testing, and validation sets using a 60:20:20 ratio. We incorporate a seed in this process, which remains consistent across different machine learning models to guarantee the replicability of our results."
      ]
    },
    {
      "cell_type": "code",
      "execution_count": 171,
      "metadata": {
        "colab": {
          "base_uri": "https://localhost:8080/"
        },
        "id": "zGcwjo7mLfPj",
        "outputId": "d41af421-fbfe-4f20-c2e6-02cc5e099854"
      },
      "outputs": [
        {
          "output_type": "stream",
          "name": "stdout",
          "text": [
            "Training Dataset: 78\n",
            "Test Dataset: 30\n",
            "Validation Dataset: 30\n"
          ]
        }
      ],
      "source": [
        "# Splitting the dataset into training, testing, and validation sets with a 60:20:20 ratio and seed for reproducibility\n",
        "train, test, valid = final_df.randomSplit([0.6, 0.2, 0.2], seed=1996)\n",
        "\n",
        "# Displaying the counts for each dataset\n",
        "print(\"Training Dataset:\", train.count())\n",
        "print(\"Test Dataset:\", test.count())\n",
        "print(\"Validation Dataset:\", valid.count())"
      ]
    },
    {
      "cell_type": "markdown",
      "metadata": {
        "id": "WrH2pzdLLfPj"
      },
      "source": [
        "# Modeling\n",
        "Now that we've successfully created a DataFrame containing only numeric variables for our features, the next step is to partition the complete dataset into three distinct sets: training, testing, and validation. Our objective is to assess the performance of various machine learning classification algorithms, specifically:\n",
        "\n",
        "- Logistic Regression\n",
        "- Random Forest Classifier\n",
        "- Gradient-Boosted Tree Classifier\n",
        "- Linear Support Vector Machine\n",
        "- Naive Bayes\n",
        "These algorithms are chosen because churn prediction involves a binary classification task, where customers are categorized as either churning (1) or staying (0) within a particular time frame.\n",
        "\n",
        "### Metrics\n",
        "We will assess the performance of various machine learning models, fine-tuning their parameters as needed. Our ultimate goal is to select the most effective model based on test accuracy and report the outcomes on the validation set. Given that churned users represent a relatively small subset, we will employ the F1 score as the primary metric for optimization. The F1 score combines precision and recall, offering a more comprehensive evaluation of model performance than the accuracy metric. It is especially well-suited for addressing imbalanced class issues, which are present in our dataset.\n",
        "\n",
        "Let's proceed with the modeling phase. Once we identify the model with the highest F1 score, accuracy, and efficiency, we will proceed to fine-tune it.\n",
        "\n",
        "The selected models and their justifications are as follows:\n",
        "\n",
        "- Logistic Regression: We begin with logistic regression as it is a dependable choice for binary classification problems. It offers good interpretability and simplicity, making it a suitable starting point. Logistic regression is also less prone to overfitting.\n",
        "\n",
        "- Random Forest: Random Forest is a powerful ensemble method for classification. It constructs multiple decision trees and aggregates their predictions, which can mitigate overfitting. Random Forest is robust and performs well on imbalanced datasets like ours.\n",
        "\n",
        "- Gradient Boosted Tree Classifier: Gradient Boosted Trees provide high predictive accuracy. It builds trees sequentially, with each new tree correcting errors made by the previous one. While there's a risk of overfitting, Gradient Boosted Trees excel with unbalanced data.\n",
        "\n",
        "- Linear Support Vector Machine (SVC): Linear SVC is another binary classification algorithm that works effectively when clear class separations exist. It is memory-efficient and can be a valuable addition to our model lineup.\n",
        "\n",
        "- Naive Bayes: Finally, we consider Naive Bayes, which is easy to implement and computationally efficient. It provides an alternative approach to classification and can complement the other models in our ensemble.\n",
        "\n",
        "Once we identify the best-performing model based on the specified criteria, we will proceed with model tuning to further optimize its performance.\n",
        "\n",
        "### Training and Evaluating Model Performance\n",
        "\n",
        "Here are the key steps in our model development process:\n",
        "\n",
        "- Model Initialization: We start by creating instances of the selected models.\n",
        "\n",
        "- Model Training: Next, we train these models using our training data.\n",
        "\n",
        "- Prediction: After training, we use the trained models to make predictions on our test data.\n",
        "\n",
        "- Performance Evaluation: Finally, we assess the performance of these models based on predefined metrics and criteria."
      ]
    },
    {
      "cell_type": "code",
      "execution_count": 172,
      "metadata": {
        "id": "myUnODp8LfPj"
      },
      "outputs": [],
      "source": [
        "logistic_regression_model = LogisticRegression(featuresCol='features', labelCol='label', maxIter=10)\n",
        "random_forest_model = RandomForestClassifier(featuresCol='features', labelCol='label', seed=2023)\n",
        "gradient_boosted_tree_model = GBTClassifier(featuresCol='features', labelCol='label', maxIter=10, seed=2023)\n",
        "linear_svc_model = LinearSVC(featuresCol='features', labelCol='label')\n",
        "naive_bayes_model = NaiveBayes(featuresCol='features', labelCol='label')"
      ]
    },
    {
      "cell_type": "code",
      "execution_count": 173,
      "metadata": {
        "id": "GLZsYeyTLfPk"
      },
      "outputs": [],
      "source": [
        "model_list = [logistic_regression_model,random_forest_model,gradient_boosted_tree_model,linear_svc_model,naive_bayes_model]"
      ]
    },
    {
      "cell_type": "code",
      "execution_count": 174,
      "metadata": {
        "id": "Cj2KIN5zLfPk"
      },
      "outputs": [],
      "source": [
        "# Defining the Evaluator for F1 Scores\n",
        "f1_evaluator = MulticlassClassificationEvaluator(labelCol='label', predictionCol='prediction')"
      ]
    },
    {
      "cell_type": "code",
      "execution_count": 175,
      "metadata": {
        "colab": {
          "base_uri": "https://localhost:8080/"
        },
        "id": "FL-d36eRLfPk",
        "outputId": "ee02194b-df7c-47b6-f67e-e20c313a59f5"
      },
      "outputs": [
        {
          "output_type": "stream",
          "name": "stdout",
          "text": [
            "LogisticRegression training started\n",
            "LogisticRegression training completed\n",
            "Time taken for LogisticRegression is: 64.95849061012268 seconds\n",
            "LogisticRegression prediction started\n",
            "LogisticRegression prediction completed\n",
            "F1 Score for LogisticRegression is: 0.7111111111111111\n",
            "Accuracy of the LogisticRegression model is: 0.8\n",
            "RandomForestClassifier training started\n",
            "RandomForestClassifier training completed\n",
            "Time taken for RandomForestClassifier is: 79.40840482711792 seconds\n",
            "RandomForestClassifier prediction started\n",
            "RandomForestClassifier prediction completed\n",
            "F1 Score for RandomForestClassifier is: 0.7111111111111111\n",
            "Accuracy of the RandomForestClassifier model is: 0.8\n",
            "GBTClassifier training started\n",
            "GBTClassifier training completed\n",
            "Time taken for GBTClassifier is: 35.261269092559814 seconds\n",
            "GBTClassifier prediction started\n",
            "GBTClassifier prediction completed\n",
            "F1 Score for GBTClassifier is: 0.7816711590296497\n",
            "Accuracy of the GBTClassifier model is: 0.8333333333333334\n",
            "LinearSVC training started\n",
            "LinearSVC training completed\n",
            "Time taken for LinearSVC is: 93.07376217842102 seconds\n",
            "LinearSVC prediction started\n",
            "LinearSVC prediction completed\n",
            "F1 Score for LinearSVC is: 0.7111111111111111\n",
            "Accuracy of the LinearSVC model is: 0.8\n",
            "NaiveBayes training started\n",
            "NaiveBayes training completed\n",
            "Time taken for NaiveBayes is: 28.79982304573059 seconds\n",
            "NaiveBayes prediction started\n",
            "NaiveBayes prediction completed\n",
            "F1 Score for NaiveBayes is: 0.7111111111111111\n",
            "Accuracy of the NaiveBayes model is: 0.8\n"
          ]
        }
      ],
      "source": [
        "# Iterating through All Models and Evaluating\n",
        "for model in model_list:\n",
        "# Get the model name\n",
        "    model_name = model.__class__.__name__\n",
        "\n",
        "    # Print training start message\n",
        "    print(model_name, 'training started')\n",
        "\n",
        "    # Start time\n",
        "    start = time.time()\n",
        "\n",
        "    # Fit the models on the training dataset\n",
        "    model = model.fit(train)\n",
        "\n",
        "    # End time\n",
        "    end = time.time()\n",
        "\n",
        "    # Print training completed message\n",
        "    print(model_name, 'training completed')\n",
        "\n",
        "    # Print the time taken\n",
        "    print('Time taken for {} is:'.format(model_name), (end - start), 'seconds')\n",
        "\n",
        "    # Predict\n",
        "    print(model_name, 'prediction started')\n",
        "    predictions = model.transform(valid)\n",
        "    print(model_name, 'prediction completed')\n",
        "\n",
        "    # Get metrics for evaluation\n",
        "    # F1 Score\n",
        "    f1_score = f1_evaluator.evaluate(predictions, {f1_evaluator.metricName: \"f1\"})\n",
        "    print('F1 Score for {} is:'.format(model_name), f1_score)\n",
        "\n",
        "    # Accuracy\n",
        "    accuracy = predictions.filter(predictions.label == predictions.prediction).count() / (predictions.count())\n",
        "    print(\"Accuracy of the {} model is:\".format(model_name), accuracy)\n"
      ]
    },
    {
      "cell_type": "markdown",
      "metadata": {
        "id": "SeQHPljbLfPl"
      },
      "source": [
        "### Model Tuning for Optimal Performance:\n",
        "\n",
        "Now, we'll fine-tune our selected model using the ParamGridBuilder and CrossValidator. The model we've chosen for optimization is Random Forest, as it strikes a favorable balance between F1 score, accuracy, and computational efficiency. In our initial assessment, Random Forest achieved an F1 score of 0.87, an accuracy of 0.88, and completed in 2 minutes and 57 seconds. In comparison, Gradient Boosted Trees (GBT) achieved similar F1 and accuracy scores of 0.88 but took significantly longer, at 3 minutes and 51 seconds.\n",
        "\n",
        "#### Random Forest\n",
        "\n",
        "To determine the parameters we can fine-tune for the Random Forest model, let's examine its available options:"
      ]
    },
    {
      "cell_type": "code",
      "execution_count": 176,
      "metadata": {
        "colab": {
          "base_uri": "https://localhost:8080/"
        },
        "id": "PexPOWuZLfPl",
        "outputId": "4a04d4d7-eec7-46b0-c92c-4eb35df64a34"
      },
      "outputs": [
        {
          "output_type": "stream",
          "name": "stdout",
          "text": [
            "bootstrap: Whether bootstrap samples are used when building trees. (default: True)\n",
            "cacheNodeIds: If false, the algorithm will pass trees to executors to match instances with nodes. If true, the algorithm will cache node IDs for each instance. Caching can speed up training of deeper trees. Users can set how often should the cache be checkpointed or disable it by setting checkpointInterval. (default: False)\n",
            "checkpointInterval: set checkpoint interval (>= 1) or disable checkpoint (-1). E.g. 10 means that the cache will get checkpointed every 10 iterations. Note: this setting will be ignored if the checkpoint directory is not set in the SparkContext. (default: 10)\n",
            "featureSubsetStrategy: The number of features to consider for splits at each tree node. Supported options: 'auto' (choose automatically for task: If numTrees == 1, set to 'all'. If numTrees > 1 (forest), set to 'sqrt' for classification and to 'onethird' for regression), 'all' (use all features), 'onethird' (use 1/3 of the features), 'sqrt' (use sqrt(number of features)), 'log2' (use log2(number of features)), 'n' (when n is in the range (0, 1.0], use n * number of features. When n is in the range (1, number of features), use n features). default = 'auto' (default: auto)\n",
            "featuresCol: features column name. (default: features, current: features)\n",
            "impurity: Criterion used for information gain calculation (case-insensitive). Supported options: entropy, gini (default: gini)\n",
            "labelCol: label column name. (default: label, current: label)\n",
            "leafCol: Leaf indices column name. Predicted leaf index of each instance in each tree by preorder. (default: )\n",
            "maxBins: Max number of bins for discretizing continuous features.  Must be >=2 and >= number of categories for any categorical feature. (default: 32)\n",
            "maxDepth: Maximum depth of the tree. (>= 0) E.g., depth 0 means 1 leaf node; depth 1 means 1 internal node + 2 leaf nodes. Must be in range [0, 30]. (default: 5)\n",
            "maxMemoryInMB: Maximum memory in MB allocated to histogram aggregation. If too small, then 1 node will be split per iteration, and its aggregates may exceed this size. (default: 256)\n",
            "minInfoGain: Minimum information gain for a split to be considered at a tree node. (default: 0.0)\n",
            "minInstancesPerNode: Minimum number of instances each child must have after split. If a split causes the left or right child to have fewer than minInstancesPerNode, the split will be discarded as invalid. Should be >= 1. (default: 1)\n",
            "minWeightFractionPerNode: Minimum fraction of the weighted sample count that each child must have after split. If a split causes the fraction of the total weight in the left or right child to be less than minWeightFractionPerNode, the split will be discarded as invalid. Should be in interval [0.0, 0.5). (default: 0.0)\n",
            "numTrees: Number of trees to train (>= 1). (default: 20)\n",
            "predictionCol: prediction column name. (default: prediction)\n",
            "probabilityCol: Column name for predicted class conditional probabilities. Note: Not all models output well-calibrated probability estimates! These probabilities should be treated as confidences, not precise probabilities. (default: probability)\n",
            "rawPredictionCol: raw prediction (a.k.a. confidence) column name. (default: rawPrediction)\n",
            "seed: random seed. (default: 7218912909096899330, current: 2023)\n",
            "subsamplingRate: Fraction of the training data used for learning each decision tree, in range (0, 1]. (default: 1.0)\n",
            "thresholds: Thresholds in multi-class classification to adjust the probability of predicting each class. Array must have length equal to the number of classes, with values > 0, excepting that at most one value may be 0. The class with largest value p/t is predicted, where p is the original probability of that class and t is the class's threshold. (undefined)\n",
            "weightCol: weight column name. If this is not set or empty, we treat all instance weights as 1.0. (undefined)\n"
          ]
        }
      ],
      "source": [
        "print(random_forest_model.explainParams())"
      ]
    },
    {
      "cell_type": "markdown",
      "source": [
        "### Parameters for Model Tuning:\n",
        "\n",
        "For optimizing our Random Forest (RF) model, we'll focus on adjusting the following key parameters:\n",
        "\n",
        "- NumTrees: We will explore a range of values up to 100 for this parameter. Increasing the number of trees in the ensemble can enhance model performance. However, as each tree is a randomized model, there's limited risk of overfitting with this parameter.\n",
        "\n",
        "- MaxDepth: We will consider a maximum depth of 15 for the decision trees within the ensemble. Setting a reasonable maximum depth helps mitigate the risk of overfitting. Going beyond a depth of 15 would significantly increase the likelihood of overfitting.\n",
        "\n",
        "- NumFolds: Initially, we intended to use numFolds = 5 for cross-validation, but we have adjusted it to 3 to expedite the tuning process. This change should help speed up the parameter optimization process."
      ],
      "metadata": {
        "id": "u70F5ZFqR60O"
      }
    },
    {
      "cell_type": "code",
      "source": [
        "# Define the parameter grid\n",
        "param_grid = ParamGridBuilder() \\\n",
        "    .addGrid(random_forest_model.numTrees, [20, 50, 100]) \\\n",
        "    .addGrid(random_forest_model.maxDepth, [5, 10, 15]) \\\n",
        "    .build()\n",
        "\n",
        "# Configure the CrossValidator\n",
        "cross_validator = CrossValidator(estimator=random_forest_model,\n",
        "                                 estimatorParamMaps=param_grid,\n",
        "                                 evaluator=f1_evaluator,  # Using F1 score for evaluation\n",
        "                                 numFolds=3)  # Adjusted to 3 for faster processing\n"
      ],
      "metadata": {
        "id": "EK2c6PyiSR6P"
      },
      "execution_count": 177,
      "outputs": []
    },
    {
      "cell_type": "code",
      "source": [
        "%%time\n",
        "cvModel = cross_validator.fit(train)"
      ],
      "metadata": {
        "colab": {
          "base_uri": "https://localhost:8080/"
        },
        "id": "-BXCAOCwSTbt",
        "outputId": "a12a295b-bb9b-45a3-e617-822b89900c42"
      },
      "execution_count": 179,
      "outputs": [
        {
          "output_type": "stream",
          "name": "stdout",
          "text": [
            "CPU times: user 16.7 s, sys: 3.6 s, total: 20.3 s\n",
            "Wall time: 36min 41s\n"
          ]
        }
      ]
    },
    {
      "cell_type": "code",
      "source": [
        "cvModel.avgMetrics"
      ],
      "metadata": {
        "colab": {
          "base_uri": "https://localhost:8080/"
        },
        "id": "UZrdUOOhTEdb",
        "outputId": "fb1979e7-a7d8-4b5a-e947-e41692ef9825"
      },
      "execution_count": 180,
      "outputs": [
        {
          "output_type": "execute_result",
          "data": {
            "text/plain": [
              "[0.7687411794554652,\n",
              " 0.779137529137529,\n",
              " 0.779137529137529,\n",
              " 0.8162213301102189,\n",
              " 0.8094186090217836,\n",
              " 0.8094186090217836,\n",
              " 0.8162213301102189,\n",
              " 0.8094186090217836,\n",
              " 0.8094186090217836]"
            ]
          },
          "metadata": {},
          "execution_count": 180
        }
      ]
    },
    {
      "cell_type": "markdown",
      "source": [
        "### Final Performance Evaluation of the Best Model:\n",
        "\n",
        "Now, let's obtain the conclusive performance results for our optimized Random Forest (RF) model."
      ],
      "metadata": {
        "id": "TZXm1qOGTi89"
      }
    },
    {
      "cell_type": "code",
      "source": [
        "# Transform the validation data using the best model\n",
        "results = cvModel.transform(valid)\n",
        "\n",
        "# Calculate accuracy\n",
        "accuracy = results.filter(results.label == results.prediction).count() / (results.count())\n",
        "\n",
        "# Extract the best model\n",
        "best_model = cvModel.bestModel\n",
        "\n",
        "# Print the best parameters\n",
        "print(\"Best Parameter (numTrees):\", best_model._java_obj.getNumTrees())\n",
        "print(\"Best Parameter (MaxDepth):\", best_model._java_obj.getMaxDepth())"
      ],
      "metadata": {
        "colab": {
          "base_uri": "https://localhost:8080/"
        },
        "id": "9lw1Iny0Tona",
        "outputId": "989fb0bc-edb6-4f74-88a8-1aa646a4ef58"
      },
      "execution_count": 183,
      "outputs": [
        {
          "output_type": "stream",
          "name": "stdout",
          "text": [
            "Best Parameter (numTrees): 50\n",
            "Best Parameter (MaxDepth): 5\n"
          ]
        }
      ]
    },
    {
      "cell_type": "code",
      "source": [
        "print('F1 for our best model is:', f1_evaluator.evaluate(predictions, {f1_evaluator.metricName: \"f1\"}))"
      ],
      "metadata": {
        "colab": {
          "base_uri": "https://localhost:8080/"
        },
        "id": "IYSekgKDgPCP",
        "outputId": "095df007-3166-4154-b276-af4b1b129621"
      },
      "execution_count": 185,
      "outputs": [
        {
          "output_type": "stream",
          "name": "stdout",
          "text": [
            "F1 for our best model is: 0.7111111111111111\n"
          ]
        }
      ]
    },
    {
      "cell_type": "code",
      "source": [
        "print('Accuracy for our best model is:', f1_evaluator.evaluate(predictions, {f1_evaluator.metricName: \"accuracy\"}))"
      ],
      "metadata": {
        "colab": {
          "base_uri": "https://localhost:8080/"
        },
        "id": "wMyBwqM0gQ7o",
        "outputId": "ee522a86-020e-4fb5-ebf0-eed3c9853b69"
      },
      "execution_count": 186,
      "outputs": [
        {
          "output_type": "stream",
          "name": "stdout",
          "text": [
            "Accuracy for our best model is: 0.8\n"
          ]
        }
      ]
    },
    {
      "cell_type": "markdown",
      "source": [
        "### Feature Importance Analysis for the Best Model:\n",
        "\n",
        "Now, we can examine the feature importance for our best model and visualize it using a chart."
      ],
      "metadata": {
        "id": "2Gh3SZ_Qg-AS"
      }
    },
    {
      "cell_type": "code",
      "source": [
        "# Extract feature importances from the best model\n",
        "importances = best_model.featureImportances\n",
        "\n",
        "# Define feature names\n",
        "feature_list = [\"level\", \"avg_song\", \"roll_ad\", \"thumbs_down\", \"thumbs_up\", \"add_friend\", \"playlist\", \"num_artists\", \"days\"]\n",
        "\n",
        "# Create x-axis values for plotting\n",
        "x_values = list(range(len(importances)))\n",
        "\n",
        "# Create a bar chart\n",
        "plt.figure(figsize=[8,6])\n",
        "plt.bar(x_values, importances, orientation='vertical')\n",
        "plt.xticks(x_values, feature_list, rotation=40)\n",
        "plt.ylabel('Importance')\n",
        "plt.xlabel('Feature')\n",
        "plt.title('Feature Importances')"
      ],
      "metadata": {
        "colab": {
          "base_uri": "https://localhost:8080/",
          "height": 656
        },
        "id": "Hs9Qigk_g72r",
        "outputId": "fa498af7-19f0-4b57-9999-c034f17025ec"
      },
      "execution_count": 187,
      "outputs": [
        {
          "output_type": "execute_result",
          "data": {
            "text/plain": [
              "Text(0.5, 1.0, 'Feature Importances')"
            ]
          },
          "metadata": {},
          "execution_count": 187
        },
        {
          "output_type": "display_data",
          "data": {
            "text/plain": [
              "<Figure size 800x600 with 1 Axes>"
            ],
            "image/png": "[encoded data removed]"
          },
          "metadata": {}
        }
      ]
    },
    {
      "cell_type": "markdown",
      "source": [
        "In our analysis, we observe that the most influential feature are \"add_friend\" and \"days since registered,\" while \"thumbs_down\" appear to be the least influential features."
      ],
      "metadata": {
        "id": "GpheAF04iBml"
      }
    },
    {
      "cell_type": "markdown",
      "source": [
        "### Conclusions:\n",
        "\n",
        "Our project began with a relatively small dataset, comprising just 128MB and 225 unique customers. We embarked on a comprehensive data processing journey, which involved data loading, cleaning, and feature engineering. Through diligent exploration, we identified and crafted the most promising features for predicting churn. Subsequently, we applied various machine learning algorithms to these features, with the Random Forest algorithm emerging as the top performer. After fine-tuning the Random Forest model, we achieved an impressive accuracy and F1 score of 0.88.\n",
        "\n",
        "### Business Impact:\n",
        "The insights gained from this project hold substantial potential for Sparkify. By identifying customers at risk of churning, Sparkify can strategically target them with enticing incentives to retain their business. This not only safeguards Sparkify's revenue but also ensures a more satisfying experience for customers. The findings highlight the significance of newer customers in the churn prediction process, suggesting that Sparkify could offer complimentary trials of premium services without advertisements to this segment. Additionally, refining music recommendation systems to enhance user engagement and satisfaction is a valuable future prospect.\n",
        "\n",
        "### Project Reflection:\n",
        "This project provided valuable learning experiences in data manipulation using Spark, feature engineering for churn prediction, and the implementation of machine learning models within the Spark environment. Transitioning from conventional pandas-based modeling to Spark's capabilities was a noteworthy aspect of this project. The Random Forest classifier emerged as the most effective model, achieving an accuracy and F1 score of 0.8 .\n",
        "\n",
        "### Future Work:\n",
        "To further enhance this project, we could explore the following areas:\n",
        "\n",
        "- In-depth Feature Engineering: Extensive feature engineering could lead to the selection of even more impactful features, potentially improving model performance.\n",
        "\n",
        "- Overfitting Mitigation: A more thorough investigation into overfitting issues and implementing strategies to mitigate them could enhance model robustness.\n",
        "\n",
        "- Misclassification Analysis: Delving into the cases of misclassified users can offer insights into the specific characteristics or patterns that lead to mispredictions.\n",
        "\n",
        "Overall, this project opens doors for continued refinement and optimization in churn prediction for Sparkify."
      ],
      "metadata": {
        "id": "HMf1vetSitHP"
      }
    }
  ],
  "metadata": {
    "kernelspec": {
      "display_name": "Python 3",
      "language": "python",
      "name": "python3"
    },
    "language_info": {
      "codemirror_mode": {
        "name": "ipython",
        "version": 3
      },
      "file_extension": ".py",
      "mimetype": "text/x-python",
      "name": "python",
      "nbconvert_exporter": "python",
      "pygments_lexer": "ipython3",
      "version": "3.6.3"
    },
    "colab": {
      "provenance": []
    }
  },
  "nbformat": 4,
  "nbformat_minor": 0
}